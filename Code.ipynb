{
 "cells": [
  {
   "cell_type": "code",
   "execution_count": null,
   "id": "21c2cabc-1f30-44d8-ad0b-35b1462839d3",
   "metadata": {},
   "outputs": [],
   "source": []
  },
  {
   "cell_type": "code",
   "execution_count": 1,
   "id": "8e1dfee9-35f4-4bd2-bdf0-8545d57ec238",
   "metadata": {},
   "outputs": [
    {
     "name": "stdout",
     "output_type": "stream",
     "text": [
      "YF.download() has changed argument auto_adjust default to True\n"
     ]
    },
    {
     "name": "stderr",
     "output_type": "stream",
     "text": [
      "[*********************100%***********************]  1 of 1 completed\n"
     ]
    },
    {
     "name": "stdout",
     "output_type": "stream",
     "text": [
      "Downloaded and saved data for CBA (Commonwealth Bank)\n"
     ]
    },
    {
     "name": "stderr",
     "output_type": "stream",
     "text": [
      "[*********************100%***********************]  1 of 1 completed\n"
     ]
    },
    {
     "name": "stdout",
     "output_type": "stream",
     "text": [
      "Downloaded and saved data for BHP (BHP)\n"
     ]
    },
    {
     "name": "stderr",
     "output_type": "stream",
     "text": [
      "[*********************100%***********************]  1 of 1 completed\n"
     ]
    },
    {
     "name": "stdout",
     "output_type": "stream",
     "text": [
      "Downloaded and saved data for CSL (CSL)\n"
     ]
    },
    {
     "name": "stderr",
     "output_type": "stream",
     "text": [
      "[*********************100%***********************]  1 of 1 completed\n"
     ]
    },
    {
     "name": "stdout",
     "output_type": "stream",
     "text": [
      "Downloaded and saved data for WBC (Westpac)\n"
     ]
    },
    {
     "name": "stderr",
     "output_type": "stream",
     "text": [
      "[*********************100%***********************]  1 of 1 completed\n"
     ]
    },
    {
     "name": "stdout",
     "output_type": "stream",
     "text": [
      "Downloaded and saved data for ANZ (Australia & New Zealand Banking Group)\n"
     ]
    },
    {
     "name": "stderr",
     "output_type": "stream",
     "text": [
      "[*********************100%***********************]  1 of 1 completed\n"
     ]
    },
    {
     "name": "stdout",
     "output_type": "stream",
     "text": [
      "Downloaded and saved data for FMG (Fortescue)\n"
     ]
    },
    {
     "name": "stderr",
     "output_type": "stream",
     "text": [
      "[*********************100%***********************]  1 of 1 completed\n"
     ]
    },
    {
     "name": "stdout",
     "output_type": "stream",
     "text": [
      "Downloaded and saved data for NAB (National Australia Bank)\n"
     ]
    },
    {
     "name": "stderr",
     "output_type": "stream",
     "text": [
      "[*********************100%***********************]  1 of 1 completed\n"
     ]
    },
    {
     "name": "stdout",
     "output_type": "stream",
     "text": [
      "Downloaded and saved data for MQG (Macquarie Group)\n"
     ]
    },
    {
     "name": "stderr",
     "output_type": "stream",
     "text": [
      "[*********************100%***********************]  1 of 1 completed\n"
     ]
    },
    {
     "name": "stdout",
     "output_type": "stream",
     "text": [
      "Downloaded and saved data for GMG (Goodman Group)\n"
     ]
    },
    {
     "name": "stderr",
     "output_type": "stream",
     "text": [
      "[*********************100%***********************]  1 of 1 completed\n"
     ]
    },
    {
     "name": "stdout",
     "output_type": "stream",
     "text": [
      "Downloaded and saved data for WOW (Woolworths)\n"
     ]
    },
    {
     "name": "stderr",
     "output_type": "stream",
     "text": [
      "[*********************100%***********************]  1 of 1 completed\n"
     ]
    },
    {
     "name": "stdout",
     "output_type": "stream",
     "text": [
      "Downloaded and saved data for WES (Wesfarmers)\n"
     ]
    },
    {
     "name": "stderr",
     "output_type": "stream",
     "text": [
      "[*********************100%***********************]  1 of 1 completed\n"
     ]
    },
    {
     "name": "stdout",
     "output_type": "stream",
     "text": [
      "Downloaded and saved data for TLS (Telstra)\n"
     ]
    },
    {
     "name": "stderr",
     "output_type": "stream",
     "text": [
      "[*********************100%***********************]  1 of 1 completed\n"
     ]
    },
    {
     "name": "stdout",
     "output_type": "stream",
     "text": [
      "Downloaded and saved data for RIO (Rio Tinto)\n"
     ]
    },
    {
     "name": "stderr",
     "output_type": "stream",
     "text": [
      "[*********************100%***********************]  1 of 1 completed\n"
     ]
    },
    {
     "name": "stdout",
     "output_type": "stream",
     "text": [
      "Downloaded and saved data for WDS (Woodside Energy)\n"
     ]
    },
    {
     "name": "stderr",
     "output_type": "stream",
     "text": [
      "[*********************100%***********************]  1 of 1 completed\n"
     ]
    },
    {
     "name": "stdout",
     "output_type": "stream",
     "text": [
      "Downloaded and saved data for TCL (Transurban)\n"
     ]
    },
    {
     "name": "stderr",
     "output_type": "stream",
     "text": [
      "404 Client Error: Not Found for url: https://query2.finance.yahoo.com/v10/finance/quoteSummary/SQ2.AX?modules=financialData%2CquoteType%2CdefaultKeyStatistics%2CassetProfile%2CsummaryDetail&corsDomain=finance.yahoo.com&formatted=false&symbol=SQ2.AX&crumb=fMYVHGriFW4\n",
      "[*********************100%***********************]  1 of 1 completed\n",
      "\n",
      "1 Failed download:\n",
      "['SQ2.AX']: AttributeError(\"'NoneType' object has no attribute 'update'\")\n"
     ]
    },
    {
     "name": "stdout",
     "output_type": "stream",
     "text": [
      "No data found for SQ2 (Block Inc. CDI), skipping.\n"
     ]
    },
    {
     "name": "stderr",
     "output_type": "stream",
     "text": [
      "[*********************100%***********************]  1 of 1 completed\n"
     ]
    },
    {
     "name": "stdout",
     "output_type": "stream",
     "text": [
      "Downloaded and saved data for ALL (Aristocrat Leisure)\n"
     ]
    },
    {
     "name": "stderr",
     "output_type": "stream",
     "text": [
      "[*********************100%***********************]  1 of 1 completed\n"
     ]
    },
    {
     "name": "stdout",
     "output_type": "stream",
     "text": [
      "Downloaded and saved data for COL (Coles Group)\n"
     ]
    },
    {
     "name": "stderr",
     "output_type": "stream",
     "text": [
      "[*********************100%***********************]  1 of 1 completed\n"
     ]
    },
    {
     "name": "stdout",
     "output_type": "stream",
     "text": [
      "Downloaded and saved data for SCG (Scentre Group)\n"
     ]
    },
    {
     "name": "stderr",
     "output_type": "stream",
     "text": [
      "[*********************100%***********************]  1 of 1 completed\n"
     ]
    },
    {
     "name": "stdout",
     "output_type": "stream",
     "text": [
      "Downloaded and saved data for S32 (South32)\n"
     ]
    },
    {
     "name": "stderr",
     "output_type": "stream",
     "text": [
      "404 Client Error: Not Found for url: https://query2.finance.yahoo.com/v10/finance/quoteSummary/NCM.AX?modules=financialData%2CquoteType%2CdefaultKeyStatistics%2CassetProfile%2CsummaryDetail&corsDomain=finance.yahoo.com&formatted=false&symbol=NCM.AX&crumb=fMYVHGriFW4\n",
      "[*********************100%***********************]  1 of 1 completed\n",
      "\n",
      "1 Failed download:\n",
      "['NCM.AX']: AttributeError(\"'NoneType' object has no attribute 'update'\")\n"
     ]
    },
    {
     "name": "stdout",
     "output_type": "stream",
     "text": [
      "No data found for NCM (Newcrest), skipping.\n"
     ]
    },
    {
     "name": "stderr",
     "output_type": "stream",
     "text": [
      "[*********************100%***********************]  1 of 1 completed\n"
     ]
    },
    {
     "name": "stdout",
     "output_type": "stream",
     "text": [
      "Downloaded and saved data for SUN (Suncorp)\n"
     ]
    },
    {
     "name": "stderr",
     "output_type": "stream",
     "text": [
      "[*********************100%***********************]  1 of 1 completed\n"
     ]
    },
    {
     "name": "stdout",
     "output_type": "stream",
     "text": [
      "Downloaded and saved data for QBE (QBE Insurance)\n"
     ]
    },
    {
     "name": "stderr",
     "output_type": "stream",
     "text": [
      "[*********************100%***********************]  1 of 1 completed\n"
     ]
    },
    {
     "name": "stdout",
     "output_type": "stream",
     "text": [
      "Downloaded and saved data for BXB (Brambles)\n"
     ]
    },
    {
     "name": "stderr",
     "output_type": "stream",
     "text": [
      "[*********************100%***********************]  1 of 1 completed\n"
     ]
    },
    {
     "name": "stdout",
     "output_type": "stream",
     "text": [
      "Downloaded and saved data for FPH (Fisher & Paykel Healthcare)\n"
     ]
    },
    {
     "name": "stderr",
     "output_type": "stream",
     "text": [
      "[*********************100%***********************]  1 of 1 completed\n"
     ]
    },
    {
     "name": "stdout",
     "output_type": "stream",
     "text": [
      "Downloaded and saved data for COH (Cochlear)\n"
     ]
    },
    {
     "name": "stderr",
     "output_type": "stream",
     "text": [
      "[*********************100%***********************]  1 of 1 completed\n"
     ]
    },
    {
     "name": "stdout",
     "output_type": "stream",
     "text": [
      "Downloaded and saved data for ASX (ASX)\n"
     ]
    },
    {
     "name": "stderr",
     "output_type": "stream",
     "text": [
      "[*********************100%***********************]  1 of 1 completed\n"
     ]
    },
    {
     "name": "stdout",
     "output_type": "stream",
     "text": [
      "Downloaded and saved data for STO (Santos)\n"
     ]
    },
    {
     "name": "stderr",
     "output_type": "stream",
     "text": [
      "[*********************100%***********************]  1 of 1 completed\n"
     ]
    },
    {
     "name": "stdout",
     "output_type": "stream",
     "text": [
      "Downloaded and saved data for RHC (Ramsay Health Care)\n"
     ]
    },
    {
     "name": "stderr",
     "output_type": "stream",
     "text": [
      "[*********************100%***********************]  1 of 1 completed\n"
     ]
    },
    {
     "name": "stdout",
     "output_type": "stream",
     "text": [
      "Downloaded and saved data for AMC (Amcor)\n"
     ]
    },
    {
     "name": "stderr",
     "output_type": "stream",
     "text": [
      "[*********************100%***********************]  1 of 1 completed\n"
     ]
    },
    {
     "name": "stdout",
     "output_type": "stream",
     "text": [
      "Downloaded and saved data for ORG (Origin Energy)\n"
     ]
    },
    {
     "name": "stderr",
     "output_type": "stream",
     "text": [
      "[*********************100%***********************]  1 of 1 completed\n"
     ]
    },
    {
     "name": "stdout",
     "output_type": "stream",
     "text": [
      "Downloaded and saved data for IAG (Insurance Australia Group)\n"
     ]
    },
    {
     "name": "stderr",
     "output_type": "stream",
     "text": [
      "[*********************100%***********************]  1 of 1 completed\n"
     ]
    },
    {
     "name": "stdout",
     "output_type": "stream",
     "text": [
      "Downloaded and saved data for SHL (Sonic Healthcare)\n"
     ]
    },
    {
     "name": "stderr",
     "output_type": "stream",
     "text": [
      "[*********************100%***********************]  1 of 1 completed\n"
     ]
    },
    {
     "name": "stdout",
     "output_type": "stream",
     "text": [
      "Downloaded and saved data for DXS (Dexus)\n"
     ]
    },
    {
     "name": "stderr",
     "output_type": "stream",
     "text": [
      "[*********************100%***********************]  1 of 1 completed\n",
      "[*********************100%***********************]  1 of 1 completed"
     ]
    },
    {
     "name": "stdout",
     "output_type": "stream",
     "text": [
      "Downloaded and saved data for BSL (BlueScope)\n"
     ]
    },
    {
     "name": "stderr",
     "output_type": "stream",
     "text": [
      "\n"
     ]
    },
    {
     "name": "stdout",
     "output_type": "stream",
     "text": [
      "Downloaded and saved data for APA (APA Group)\n"
     ]
    },
    {
     "name": "stderr",
     "output_type": "stream",
     "text": [
      "[*********************100%***********************]  1 of 1 completed\n"
     ]
    },
    {
     "name": "stdout",
     "output_type": "stream",
     "text": [
      "Downloaded and saved data for TWE (Treasury Wine Estates)\n"
     ]
    },
    {
     "name": "stderr",
     "output_type": "stream",
     "text": [
      "[*********************100%***********************]  1 of 1 completed\n"
     ]
    },
    {
     "name": "stdout",
     "output_type": "stream",
     "text": [
      "Downloaded and saved data for REA (REA Group)\n"
     ]
    },
    {
     "name": "stderr",
     "output_type": "stream",
     "text": [
      "[*********************100%***********************]  1 of 1 completed\n",
      "\n",
      "1 Failed download:\n",
      "['AIA.AX']: YFPricesMissingError('possibly delisted; no price data found  (1d 2020-01-01 -> 2025-01-01)')\n"
     ]
    },
    {
     "name": "stdout",
     "output_type": "stream",
     "text": [
      "No data found for AIA (Auckland Airport), skipping.\n"
     ]
    },
    {
     "name": "stderr",
     "output_type": "stream",
     "text": [
      "[*********************100%***********************]  1 of 1 completed\n"
     ]
    },
    {
     "name": "stdout",
     "output_type": "stream",
     "text": [
      "Downloaded and saved data for DMP (Domino's Pizza Enterprises)\n"
     ]
    },
    {
     "name": "stderr",
     "output_type": "stream",
     "text": [
      "[*********************100%***********************]  1 of 1 completed\n"
     ]
    },
    {
     "name": "stdout",
     "output_type": "stream",
     "text": [
      "Downloaded and saved data for CPU (Computershare)\n"
     ]
    },
    {
     "name": "stderr",
     "output_type": "stream",
     "text": [
      "[*********************100%***********************]  1 of 1 completed\n"
     ]
    },
    {
     "name": "stdout",
     "output_type": "stream",
     "text": [
      "Downloaded and saved data for TAH (Tabcorp)\n"
     ]
    },
    {
     "name": "stderr",
     "output_type": "stream",
     "text": [
      "[*********************100%***********************]  1 of 1 completed\n"
     ]
    },
    {
     "name": "stdout",
     "output_type": "stream",
     "text": [
      "Downloaded and saved data for VCX (Vicinity Centres)\n"
     ]
    },
    {
     "name": "stderr",
     "output_type": "stream",
     "text": [
      "[*********************100%***********************]  1 of 1 completed\n"
     ]
    },
    {
     "name": "stdout",
     "output_type": "stream",
     "text": [
      "Downloaded and saved data for MGR (Mirvac)\n"
     ]
    },
    {
     "name": "stderr",
     "output_type": "stream",
     "text": [
      "[*********************100%***********************]  1 of 1 completed\n"
     ]
    },
    {
     "name": "stdout",
     "output_type": "stream",
     "text": [
      "Downloaded and saved data for QAN (Qantas)\n"
     ]
    },
    {
     "name": "stderr",
     "output_type": "stream",
     "text": [
      "[*********************100%***********************]  1 of 1 completed\n"
     ]
    },
    {
     "name": "stdout",
     "output_type": "stream",
     "text": [
      "Downloaded and saved data for GPT (GPT Group)\n"
     ]
    },
    {
     "name": "stderr",
     "output_type": "stream",
     "text": [
      "[*********************100%***********************]  1 of 1 completed\n"
     ]
    },
    {
     "name": "stdout",
     "output_type": "stream",
     "text": [
      "Downloaded and saved data for EVN (Evolution Mining)\n"
     ]
    },
    {
     "name": "stderr",
     "output_type": "stream",
     "text": [
      "[*********************100%***********************]  1 of 1 completed\n"
     ]
    },
    {
     "name": "stdout",
     "output_type": "stream",
     "text": [
      "Downloaded and saved data for SGP (Stockland)\n"
     ]
    },
    {
     "name": "stderr",
     "output_type": "stream",
     "text": [
      "[*********************100%***********************]  1 of 1 completed\n",
      "\n",
      "1 Failed download:\n",
      "['BLD.AX']: YFTzMissingError('possibly delisted; no timezone found')\n"
     ]
    },
    {
     "name": "stdout",
     "output_type": "stream",
     "text": [
      "No data found for BLD (Boral), skipping.\n"
     ]
    },
    {
     "name": "stderr",
     "output_type": "stream",
     "text": [
      "[*********************100%***********************]  1 of 1 completed\n"
     ]
    },
    {
     "name": "stdout",
     "output_type": "stream",
     "text": [
      "Downloaded and saved data for MPL (Medibank)\n"
     ]
    },
    {
     "name": "stderr",
     "output_type": "stream",
     "text": [
      "[*********************100%***********************]  1 of 1 completed\n"
     ]
    },
    {
     "name": "stdout",
     "output_type": "stream",
     "text": [
      "Downloaded and saved data for JHX (James Hardie)\n"
     ]
    },
    {
     "name": "stderr",
     "output_type": "stream",
     "text": [
      "[*********************100%***********************]  1 of 1 completed\n"
     ]
    },
    {
     "name": "stdout",
     "output_type": "stream",
     "text": [
      "Downloaded and saved data for LLC (Lendlease)\n"
     ]
    },
    {
     "name": "stderr",
     "output_type": "stream",
     "text": [
      "[*********************100%***********************]  1 of 1 completed\n"
     ]
    },
    {
     "name": "stdout",
     "output_type": "stream",
     "text": [
      "Downloaded and saved data for SOL (Soul Patts)\n"
     ]
    },
    {
     "name": "stderr",
     "output_type": "stream",
     "text": [
      "[*********************100%***********************]  1 of 1 completed\n"
     ]
    },
    {
     "name": "stdout",
     "output_type": "stream",
     "text": [
      "Downloaded and saved data for ALD (Ampol)\n"
     ]
    },
    {
     "name": "stderr",
     "output_type": "stream",
     "text": [
      "[*********************100%***********************]  1 of 1 completed\n",
      "[*********************100%***********************]  1 of 1 completed\n"
     ]
    },
    {
     "name": "stdout",
     "output_type": "stream",
     "text": [
      "Downloaded and saved data for WOR (Worley)\n",
      "Downloaded and saved data for AZJ (Aurizon)\n"
     ]
    },
    {
     "name": "stderr",
     "output_type": "stream",
     "text": [
      "[*********************100%***********************]  1 of 1 completed\n"
     ]
    },
    {
     "name": "stdout",
     "output_type": "stream",
     "text": [
      "Downloaded and saved data for CHC (Charter Hall)\n"
     ]
    },
    {
     "name": "stderr",
     "output_type": "stream",
     "text": [
      "[*********************100%***********************]  1 of 1 completed\n"
     ]
    },
    {
     "name": "stdout",
     "output_type": "stream",
     "text": [
      "Downloaded and saved data for ORI (Orica)\n"
     ]
    },
    {
     "name": "stderr",
     "output_type": "stream",
     "text": [
      "[*********************100%***********************]  1 of 1 completed\n",
      "[*********************100%***********************]  1 of 1 completed\n"
     ]
    },
    {
     "name": "stdout",
     "output_type": "stream",
     "text": [
      "Downloaded and saved data for HVN (Harvey Norman)\n",
      "Downloaded and saved data for XRO (Xero)\n"
     ]
    },
    {
     "name": "stderr",
     "output_type": "stream",
     "text": [
      "[*********************100%***********************]  1 of 1 completed\n",
      "\n",
      "1 Failed download:\n",
      "['SVW.AX']: YFTzMissingError('possibly delisted; no timezone found')\n"
     ]
    },
    {
     "name": "stdout",
     "output_type": "stream",
     "text": [
      "No data found for SVW (Seven Group Holdings), skipping.\n"
     ]
    },
    {
     "name": "stderr",
     "output_type": "stream",
     "text": [
      "[*********************100%***********************]  1 of 1 completed\n"
     ]
    },
    {
     "name": "stdout",
     "output_type": "stream",
     "text": [
      "Downloaded and saved data for SEK (Seek)\n"
     ]
    },
    {
     "name": "stderr",
     "output_type": "stream",
     "text": [
      "[*********************100%***********************]  1 of 1 completed\n"
     ]
    },
    {
     "name": "stdout",
     "output_type": "stream",
     "text": [
      "Downloaded and saved data for TPG (TPG Telecom)\n"
     ]
    },
    {
     "name": "stderr",
     "output_type": "stream",
     "text": [
      "[*********************100%***********************]  1 of 1 completed\n",
      "[*********************100%***********************]  1 of 1 completed\n"
     ]
    },
    {
     "name": "stdout",
     "output_type": "stream",
     "text": [
      "Downloaded and saved data for MFG (Magellan Financial Group)\n",
      "Downloaded and saved data for IEL (IDP Education)\n"
     ]
    },
    {
     "name": "stderr",
     "output_type": "stream",
     "text": [
      "[*********************100%***********************]  1 of 1 completed\n"
     ]
    },
    {
     "name": "stdout",
     "output_type": "stream",
     "text": [
      "Downloaded and saved data for FBU (Fletcher Building)\n"
     ]
    },
    {
     "name": "stderr",
     "output_type": "stream",
     "text": [
      "[*********************100%***********************]  1 of 1 completed\n"
     ]
    },
    {
     "name": "stdout",
     "output_type": "stream",
     "text": [
      "Downloaded and saved data for ALQ (ALS)\n"
     ]
    },
    {
     "name": "stderr",
     "output_type": "stream",
     "text": [
      "[*********************100%***********************]  1 of 1 completed\n"
     ]
    },
    {
     "name": "stdout",
     "output_type": "stream",
     "text": [
      "Downloaded and saved data for ALX (Atlas Arteria)\n"
     ]
    },
    {
     "name": "stderr",
     "output_type": "stream",
     "text": [
      "[*********************100%***********************]  1 of 1 completed\n"
     ]
    },
    {
     "name": "stdout",
     "output_type": "stream",
     "text": [
      "Downloaded and saved data for NST (Northern Star Resources)\n"
     ]
    },
    {
     "name": "stderr",
     "output_type": "stream",
     "text": [
      "[*********************100%***********************]  1 of 1 completed\n"
     ]
    },
    {
     "name": "stdout",
     "output_type": "stream",
     "text": [
      "Downloaded and saved data for BEN (Bendigo & Adelaide Bank)\n"
     ]
    },
    {
     "name": "stderr",
     "output_type": "stream",
     "text": [
      "[*********************100%***********************]  1 of 1 completed\n"
     ]
    },
    {
     "name": "stdout",
     "output_type": "stream",
     "text": [
      "Downloaded and saved data for WTC (Wisetech Global)\n"
     ]
    },
    {
     "name": "stderr",
     "output_type": "stream",
     "text": [
      "[*********************100%***********************]  1 of 1 completed\n"
     ]
    },
    {
     "name": "stdout",
     "output_type": "stream",
     "text": [
      "Downloaded and saved data for BOQ (Bank of Queensland)\n"
     ]
    },
    {
     "name": "stderr",
     "output_type": "stream",
     "text": [
      "[*********************100%***********************]  1 of 1 completed\n"
     ]
    },
    {
     "name": "stdout",
     "output_type": "stream",
     "text": [
      "Downloaded and saved data for RMD (ResMed)\n"
     ]
    },
    {
     "name": "stderr",
     "output_type": "stream",
     "text": [
      "[*********************100%***********************]  1 of 1 completed\n"
     ]
    },
    {
     "name": "stdout",
     "output_type": "stream",
     "text": [
      "Downloaded and saved data for IGO (Independence Group)\n"
     ]
    },
    {
     "name": "stderr",
     "output_type": "stream",
     "text": [
      "[*********************100%***********************]  1 of 1 completed\n"
     ]
    },
    {
     "name": "stdout",
     "output_type": "stream",
     "text": [
      "Downloaded and saved data for CWY (Cleanaway)\n"
     ]
    },
    {
     "name": "stderr",
     "output_type": "stream",
     "text": [
      "[*********************100%***********************]  1 of 1 completed\n"
     ]
    },
    {
     "name": "stdout",
     "output_type": "stream",
     "text": [
      "Downloaded and saved data for AGL (AGL Energy)\n"
     ]
    },
    {
     "name": "stderr",
     "output_type": "stream",
     "text": [
      "[*********************100%***********************]  1 of 1 completed\n"
     ]
    },
    {
     "name": "stdout",
     "output_type": "stream",
     "text": [
      "Downloaded and saved data for ANN (Ansell)\n"
     ]
    },
    {
     "name": "stderr",
     "output_type": "stream",
     "text": [
      "[*********************100%***********************]  1 of 1 completed\n"
     ]
    },
    {
     "name": "stdout",
     "output_type": "stream",
     "text": [
      "Downloaded and saved data for CAR (CAR Group)\n"
     ]
    },
    {
     "name": "stderr",
     "output_type": "stream",
     "text": [
      "[*********************100%***********************]  1 of 1 completed\n",
      "\n",
      "1 Failed download:\n",
      "['AWC.AX']: YFTzMissingError('possibly delisted; no timezone found')\n"
     ]
    },
    {
     "name": "stdout",
     "output_type": "stream",
     "text": [
      "No data found for AWC (Alumina), skipping.\n"
     ]
    },
    {
     "name": "stderr",
     "output_type": "stream",
     "text": [
      "[*********************100%***********************]  1 of 1 completed\n",
      "[*********************100%***********************]  1 of 1 completed\n"
     ]
    },
    {
     "name": "stdout",
     "output_type": "stream",
     "text": [
      "Downloaded and saved data for VEA (Viva Energy)\n",
      "Downloaded and saved data for IPL (Incitec Pivot)\n"
     ]
    },
    {
     "name": "stderr",
     "output_type": "stream",
     "text": [
      "[*********************100%***********************]  1 of 1 completed\n"
     ]
    },
    {
     "name": "stdout",
     "output_type": "stream",
     "text": [
      "Downloaded and saved data for WHC (Whitehaven Coal)\n"
     ]
    },
    {
     "name": "stderr",
     "output_type": "stream",
     "text": [
      "[*********************100%***********************]  1 of 1 completed\n",
      "[*********************100%***********************]  1 of 1 completed\n"
     ]
    },
    {
     "name": "stdout",
     "output_type": "stream",
     "text": [
      "Downloaded and saved data for QUB (Qube Holdings)\n",
      "Downloaded and saved data for A2M (a2 Milk Company)\n"
     ]
    },
    {
     "name": "stderr",
     "output_type": "stream",
     "text": [
      "[*********************100%***********************]  1 of 1 completed\n"
     ]
    },
    {
     "name": "stdout",
     "output_type": "stream",
     "text": [
      "Downloaded and saved data for APE (Eagers Automotive)\n"
     ]
    },
    {
     "name": "stderr",
     "output_type": "stream",
     "text": [
      "[*********************100%***********************]  1 of 1 completed\n"
     ]
    },
    {
     "name": "stdout",
     "output_type": "stream",
     "text": [
      "Downloaded and saved data for SGR (Star Entertainment Group)\n"
     ]
    },
    {
     "name": "stderr",
     "output_type": "stream",
     "text": [
      "[*********************100%***********************]  1 of 1 completed\n",
      "\n",
      "1 Failed download:\n",
      "['LNK.AX']: YFTzMissingError('possibly delisted; no timezone found')\n"
     ]
    },
    {
     "name": "stdout",
     "output_type": "stream",
     "text": [
      "No data found for LNK (Link Admin), skipping.\n"
     ]
    },
    {
     "name": "stderr",
     "output_type": "stream",
     "text": [
      "[*********************100%***********************]  1 of 1 completed\n"
     ]
    },
    {
     "name": "stdout",
     "output_type": "stream",
     "text": [
      "Downloaded and saved data for DOW (Downer Group)\n"
     ]
    },
    {
     "name": "stderr",
     "output_type": "stream",
     "text": [
      "[*********************100%***********************]  1 of 1 completed\n"
     ]
    },
    {
     "name": "stdout",
     "output_type": "stream",
     "text": [
      "Downloaded and saved data for BRG (Breville Group)\n"
     ]
    },
    {
     "name": "stderr",
     "output_type": "stream",
     "text": [
      "[*********************100%***********************]  1 of 1 completed\n"
     ]
    },
    {
     "name": "stdout",
     "output_type": "stream",
     "text": [
      "Downloaded and saved data for AMP (AMP)\n"
     ]
    },
    {
     "name": "stderr",
     "output_type": "stream",
     "text": [
      "[*********************100%***********************]  1 of 1 completed\n"
     ]
    },
    {
     "name": "stdout",
     "output_type": "stream",
     "text": [
      "Downloaded and saved data for ORA (Orora)\n"
     ]
    },
    {
     "name": "stderr",
     "output_type": "stream",
     "text": [
      "[*********************100%***********************]  1 of 1 completed\n"
     ]
    },
    {
     "name": "stdout",
     "output_type": "stream",
     "text": [
      "Downloaded and saved data for CGF (Challenger)\n"
     ]
    },
    {
     "name": "stderr",
     "output_type": "stream",
     "text": [
      "[*********************100%***********************]  1 of 1 completed\n",
      "\n",
      "1 Failed download:\n",
      "['ALU.AX']: YFTzMissingError('possibly delisted; no timezone found')\n"
     ]
    },
    {
     "name": "stdout",
     "output_type": "stream",
     "text": [
      "No data found for ALU (Altium), skipping.\n"
     ]
    },
    {
     "name": "stderr",
     "output_type": "stream",
     "text": [
      "[*********************100%***********************]  1 of 1 completed\n"
     ]
    },
    {
     "name": "stdout",
     "output_type": "stream",
     "text": [
      "Downloaded and saved data for RWC (Reliance Worldwide Corporation)\n"
     ]
    },
    {
     "name": "stderr",
     "output_type": "stream",
     "text": [
      "[*********************100%***********************]  1 of 1 completed\n"
     ]
    },
    {
     "name": "stdout",
     "output_type": "stream",
     "text": [
      "Downloaded and saved data for ARB (ARB Corporation)\n"
     ]
    },
    {
     "name": "stderr",
     "output_type": "stream",
     "text": [
      "[*********************100%***********************]  1 of 1 completed\n"
     ]
    },
    {
     "name": "stdout",
     "output_type": "stream",
     "text": [
      "Downloaded and saved data for CIA (Champion Iron)\n"
     ]
    },
    {
     "name": "stderr",
     "output_type": "stream",
     "text": [
      "[*********************100%***********************]  1 of 1 completed\n",
      "\n",
      "1 Failed download:\n",
      "['OZL.AX']: YFTzMissingError('possibly delisted; no timezone found')\n"
     ]
    },
    {
     "name": "stdout",
     "output_type": "stream",
     "text": [
      "No data found for OZL (Oz Minerals), skipping.\n"
     ]
    },
    {
     "name": "stderr",
     "output_type": "stream",
     "text": [
      "[*********************100%***********************]  1 of 1 completed\n"
     ]
    },
    {
     "name": "stdout",
     "output_type": "stream",
     "text": [
      "Downloaded and saved data for ILU (Iluka Resources)\n"
     ]
    },
    {
     "name": "stderr",
     "output_type": "stream",
     "text": [
      "[*********************100%***********************]  1 of 1 completed\n"
     ]
    },
    {
     "name": "stdout",
     "output_type": "stream",
     "text": [
      "Downloaded and saved data for FLT (Flight Centre)\n"
     ]
    },
    {
     "name": "stderr",
     "output_type": "stream",
     "text": [
      "[*********************100%***********************]  1 of 1 completed\n"
     ]
    },
    {
     "name": "stdout",
     "output_type": "stream",
     "text": [
      "Downloaded and saved data for BKW (Brickworks)\n"
     ]
    },
    {
     "name": "stderr",
     "output_type": "stream",
     "text": [
      "[*********************100%***********************]  1 of 1 completed\n"
     ]
    },
    {
     "name": "stdout",
     "output_type": "stream",
     "text": [
      "Downloaded and saved data for BPT (Beach Energy)\n"
     ]
    },
    {
     "name": "stderr",
     "output_type": "stream",
     "text": [
      "[*********************100%***********************]  1 of 1 completed\n"
     ]
    },
    {
     "name": "stdout",
     "output_type": "stream",
     "text": [
      "Downloaded and saved data for GOZ (Growthpoint Properties)\n"
     ]
    },
    {
     "name": "stderr",
     "output_type": "stream",
     "text": [
      "[*********************100%***********************]  1 of 1 completed\n"
     ]
    },
    {
     "name": "stdout",
     "output_type": "stream",
     "text": [
      "Downloaded and saved data for CTD (Corporate Travel Management)\n"
     ]
    },
    {
     "name": "stderr",
     "output_type": "stream",
     "text": [
      "[*********************100%***********************]  1 of 1 completed\n"
     ]
    },
    {
     "name": "stdout",
     "output_type": "stream",
     "text": [
      "Downloaded and saved data for CLW (Charter Hall Long WALE REIT)\n"
     ]
    },
    {
     "name": "stderr",
     "output_type": "stream",
     "text": [
      "[*********************100%***********************]  1 of 1 completed\n",
      "\n",
      "1 Failed download:\n",
      "['VUK.AX']: YFTzMissingError('possibly delisted; no timezone found')\n"
     ]
    },
    {
     "name": "stdout",
     "output_type": "stream",
     "text": [
      "No data found for VUK (Virgin Money UK), skipping.\n"
     ]
    },
    {
     "name": "stderr",
     "output_type": "stream",
     "text": [
      "[*********************100%***********************]  1 of 1 completed\n",
      "\n",
      "1 Failed download:\n",
      "['CSR.AX']: YFTzMissingError('possibly delisted; no timezone found')\n"
     ]
    },
    {
     "name": "stdout",
     "output_type": "stream",
     "text": [
      "No data found for CSR (CSR), skipping.\n"
     ]
    },
    {
     "name": "stderr",
     "output_type": "stream",
     "text": [
      "[*********************100%***********************]  1 of 1 completed\n",
      "[*********************100%***********************]  1 of 1 completed\n"
     ]
    },
    {
     "name": "stdout",
     "output_type": "stream",
     "text": [
      "Downloaded and saved data for NEC (Nine Entertainment)\n",
      "Downloaded and saved data for DHG (Domain Group)\n"
     ]
    },
    {
     "name": "stderr",
     "output_type": "stream",
     "text": [
      "[*********************100%***********************]  1 of 1 completed\n",
      "[*********************100%***********************]  1 of 1 completed"
     ]
    },
    {
     "name": "stdout",
     "output_type": "stream",
     "text": [
      "Downloaded and saved data for MIN (Mineral Resources)\n"
     ]
    },
    {
     "name": "stderr",
     "output_type": "stream",
     "text": [
      "\n"
     ]
    },
    {
     "name": "stdout",
     "output_type": "stream",
     "text": [
      "Downloaded and saved data for BWP (BWP Trust)\n"
     ]
    },
    {
     "name": "stderr",
     "output_type": "stream",
     "text": [
      "[*********************100%***********************]  1 of 1 completed\n"
     ]
    },
    {
     "name": "stdout",
     "output_type": "stream",
     "text": [
      "Downloaded and saved data for BAP (Bapcor)\n"
     ]
    },
    {
     "name": "stderr",
     "output_type": "stream",
     "text": [
      "[*********************100%***********************]  1 of 1 completed\n",
      "\n",
      "1 Failed download:\n",
      "['PDL.AX']: YFTzMissingError('possibly delisted; no timezone found')\n"
     ]
    },
    {
     "name": "stdout",
     "output_type": "stream",
     "text": [
      "No data found for PDL (Pendal Group), skipping.\n"
     ]
    },
    {
     "name": "stderr",
     "output_type": "stream",
     "text": [
      "[*********************100%***********************]  1 of 1 completed\n"
     ]
    },
    {
     "name": "stdout",
     "output_type": "stream",
     "text": [
      "Downloaded and saved data for RRL (Regis Resources)\n"
     ]
    },
    {
     "name": "stderr",
     "output_type": "stream",
     "text": [
      "[*********************100%***********************]  1 of 1 completed\n"
     ]
    },
    {
     "name": "stdout",
     "output_type": "stream",
     "text": [
      "Downloaded and saved data for HLS (Healius)\n"
     ]
    },
    {
     "name": "stderr",
     "output_type": "stream",
     "text": [
      "[*********************100%***********************]  1 of 1 completed\n"
     ]
    },
    {
     "name": "stdout",
     "output_type": "stream",
     "text": [
      "Downloaded and saved data for IFL (Insignia Financial)\n"
     ]
    },
    {
     "name": "stderr",
     "output_type": "stream",
     "text": [
      "[*********************100%***********************]  1 of 1 completed\n",
      "[*********************100%***********************]  1 of 1 completed\n"
     ]
    },
    {
     "name": "stdout",
     "output_type": "stream",
     "text": [
      "Downloaded and saved data for PME (Pro Medicus)\n",
      "Downloaded and saved data for NHF (Nib)\n"
     ]
    },
    {
     "name": "stderr",
     "output_type": "stream",
     "text": [
      "[*********************100%***********************]  1 of 1 completed\n"
     ]
    },
    {
     "name": "stdout",
     "output_type": "stream",
     "text": [
      "Downloaded and saved data for PMV (Premier Investments)\n"
     ]
    },
    {
     "name": "stderr",
     "output_type": "stream",
     "text": [
      "[*********************100%***********************]  1 of 1 completed\n",
      "\n",
      "1 Failed download:\n",
      "['ABP.AX']: YFTzMissingError('possibly delisted; no timezone found')\n"
     ]
    },
    {
     "name": "stdout",
     "output_type": "stream",
     "text": [
      "No data found for ABP (Abacus Property Group), skipping.\n"
     ]
    },
    {
     "name": "stderr",
     "output_type": "stream",
     "text": [
      "[*********************100%***********************]  1 of 1 completed\n",
      "[*********************100%***********************]  1 of 1 completed\n"
     ]
    },
    {
     "name": "stdout",
     "output_type": "stream",
     "text": [
      "Downloaded and saved data for JBH (JB Hi-Fi)\n",
      "Downloaded and saved data for SDF (Steadfast Group)\n"
     ]
    },
    {
     "name": "stderr",
     "output_type": "stream",
     "text": [
      "[*********************100%***********************]  1 of 1 completed\n"
     ]
    },
    {
     "name": "stdout",
     "output_type": "stream",
     "text": [
      "Downloaded and saved data for MTS (Metcash)\n"
     ]
    },
    {
     "name": "stderr",
     "output_type": "stream",
     "text": [
      "[*********************100%***********************]  1 of 1 completed\n"
     ]
    },
    {
     "name": "stdout",
     "output_type": "stream",
     "text": [
      "Downloaded and saved data for CMW (Cromwell Property Group)\n"
     ]
    },
    {
     "name": "stderr",
     "output_type": "stream",
     "text": [
      "[*********************100%***********************]  1 of 1 completed\n"
     ]
    },
    {
     "name": "stdout",
     "output_type": "stream",
     "text": [
      "Downloaded and saved data for SBM (St Barbara)\n"
     ]
    },
    {
     "name": "stderr",
     "output_type": "stream",
     "text": [
      "[*********************100%***********************]  1 of 1 completed\n"
     ]
    },
    {
     "name": "stdout",
     "output_type": "stream",
     "text": [
      "Downloaded and saved data for TNE (TechnologyOne)\n"
     ]
    },
    {
     "name": "stderr",
     "output_type": "stream",
     "text": [
      "[*********************100%***********************]  1 of 1 completed\n"
     ]
    },
    {
     "name": "stdout",
     "output_type": "stream",
     "text": [
      "Downloaded and saved data for SGM (Sims Metal)\n"
     ]
    },
    {
     "name": "stderr",
     "output_type": "stream",
     "text": [
      "[*********************100%***********************]  1 of 1 completed\n",
      "[*********************100%***********************]  1 of 1 completed\n"
     ]
    },
    {
     "name": "stdout",
     "output_type": "stream",
     "text": [
      "Downloaded and saved data for DRR (Deterra Royalties)\n",
      "Downloaded and saved data for SCP (Shopping Centres Australasia Property Group)\n"
     ]
    },
    {
     "name": "stderr",
     "output_type": "stream",
     "text": [
      "[*********************100%***********************]  1 of 1 completed\n"
     ]
    },
    {
     "name": "stdout",
     "output_type": "stream",
     "text": [
      "Downloaded and saved data for CQR (Charter Hall Retail REIT)\n"
     ]
    },
    {
     "name": "stderr",
     "output_type": "stream",
     "text": [
      "[*********************100%***********************]  1 of 1 completed\n",
      "[*********************100%***********************]  1 of 1 completed\n"
     ]
    },
    {
     "name": "stdout",
     "output_type": "stream",
     "text": [
      "Downloaded and saved data for CNU (Chorus)\n",
      "Downloaded and saved data for NXT (NextDC)\n"
     ]
    },
    {
     "name": "stderr",
     "output_type": "stream",
     "text": [
      "[*********************100%***********************]  1 of 1 completed\n",
      "\n",
      "1 Failed download:\n",
      "['JHG.AX']: YFTzMissingError('possibly delisted; no timezone found')\n"
     ]
    },
    {
     "name": "stdout",
     "output_type": "stream",
     "text": [
      "No data found for JHG (Janus Henderson), skipping.\n"
     ]
    },
    {
     "name": "stderr",
     "output_type": "stream",
     "text": [
      "[*********************100%***********************]  1 of 1 completed\n"
     ]
    },
    {
     "name": "stdout",
     "output_type": "stream",
     "text": [
      "Downloaded and saved data for WEB (Webjet)\n"
     ]
    },
    {
     "name": "stderr",
     "output_type": "stream",
     "text": [
      "[*********************100%***********************]  1 of 1 completed\n",
      "\n",
      "1 Failed download:\n",
      "['ABC.AX']: YFTzMissingError('possibly delisted; no timezone found')\n"
     ]
    },
    {
     "name": "stdout",
     "output_type": "stream",
     "text": [
      "No data found for ABC (Adbri), skipping.\n"
     ]
    },
    {
     "name": "stderr",
     "output_type": "stream",
     "text": [
      "[*********************100%***********************]  1 of 1 completed\n"
     ]
    },
    {
     "name": "stdout",
     "output_type": "stream",
     "text": [
      "Downloaded and saved data for IRE (Iress)\n"
     ]
    },
    {
     "name": "stderr",
     "output_type": "stream",
     "text": [
      "[*********************100%***********************]  1 of 1 completed\n"
     ]
    },
    {
     "name": "stdout",
     "output_type": "stream",
     "text": [
      "Downloaded and saved data for CCP (Credit Corp Group)\n"
     ]
    },
    {
     "name": "stderr",
     "output_type": "stream",
     "text": [
      "[*********************100%***********************]  1 of 1 completed\n"
     ]
    },
    {
     "name": "stdout",
     "output_type": "stream",
     "text": [
      "Downloaded and saved data for NUF (Nufarm)\n"
     ]
    },
    {
     "name": "stderr",
     "output_type": "stream",
     "text": [
      "[*********************100%***********************]  1 of 1 completed\n",
      "[*********************100%***********************]  1 of 1 completed\n"
     ]
    },
    {
     "name": "stdout",
     "output_type": "stream",
     "text": [
      "Downloaded and saved data for CIP (Centuria Industrial REIT)\n",
      "Downloaded and saved data for NWL (Netwealth Group)\n"
     ]
    },
    {
     "name": "stderr",
     "output_type": "stream",
     "text": [
      "[*********************100%***********************]  1 of 1 completed\n"
     ]
    },
    {
     "name": "stdout",
     "output_type": "stream",
     "text": [
      "Downloaded and saved data for INA (Ingenia Group)\n"
     ]
    },
    {
     "name": "stderr",
     "output_type": "stream",
     "text": [
      "[*********************100%***********************]  1 of 1 completed\n"
     ]
    },
    {
     "name": "stdout",
     "output_type": "stream",
     "text": [
      "Downloaded and saved data for PPT (Perpetual)\n"
     ]
    },
    {
     "name": "stderr",
     "output_type": "stream",
     "text": [
      "[*********************100%***********************]  1 of 1 completed\n"
     ]
    },
    {
     "name": "stdout",
     "output_type": "stream",
     "text": [
      "Downloaded and saved data for HUB (HUB24)\n"
     ]
    },
    {
     "name": "stderr",
     "output_type": "stream",
     "text": [
      "[*********************100%***********************]  1 of 1 completed\n"
     ]
    },
    {
     "name": "stdout",
     "output_type": "stream",
     "text": [
      "Downloaded and saved data for BGA (Bega Cheese)\n"
     ]
    },
    {
     "name": "stderr",
     "output_type": "stream",
     "text": [
      "[*********************100%***********************]  1 of 1 completed\n"
     ]
    },
    {
     "name": "stdout",
     "output_type": "stream",
     "text": [
      "Downloaded and saved data for WPR (Waypoint REIT[17])\n"
     ]
    },
    {
     "name": "stderr",
     "output_type": "stream",
     "text": [
      "[*********************100%***********************]  1 of 1 completed\n"
     ]
    },
    {
     "name": "stdout",
     "output_type": "stream",
     "text": [
      "Downloaded and saved data for ELD (Elders)\n"
     ]
    },
    {
     "name": "stderr",
     "output_type": "stream",
     "text": [
      "[*********************100%***********************]  1 of 1 completed\n",
      "\n",
      "1 Failed download:\n",
      "['IVC.AX']: YFTzMissingError('possibly delisted; no timezone found')\n"
     ]
    },
    {
     "name": "stdout",
     "output_type": "stream",
     "text": [
      "No data found for IVC (InvoCare), skipping.\n"
     ]
    },
    {
     "name": "stderr",
     "output_type": "stream",
     "text": [
      "[*********************100%***********************]  1 of 1 completed\n"
     ]
    },
    {
     "name": "stdout",
     "output_type": "stream",
     "text": [
      "Downloaded and saved data for AUB (AUB Group)\n"
     ]
    },
    {
     "name": "stderr",
     "output_type": "stream",
     "text": [
      "[*********************100%***********************]  1 of 1 completed\n"
     ]
    },
    {
     "name": "stdout",
     "output_type": "stream",
     "text": [
      "Downloaded and saved data for CKF (Collins Foods)\n"
     ]
    },
    {
     "name": "stderr",
     "output_type": "stream",
     "text": [
      "[*********************100%***********************]  1 of 1 completed\n"
     ]
    },
    {
     "name": "stdout",
     "output_type": "stream",
     "text": [
      "Downloaded and saved data for IPH (IPH)\n"
     ]
    },
    {
     "name": "stderr",
     "output_type": "stream",
     "text": [
      "[*********************100%***********************]  1 of 1 completed\n"
     ]
    },
    {
     "name": "stdout",
     "output_type": "stream",
     "text": [
      "Downloaded and saved data for SUL (Super Retail Group)\n"
     ]
    },
    {
     "name": "stderr",
     "output_type": "stream",
     "text": [
      "[*********************100%***********************]  1 of 1 completed\n"
     ]
    },
    {
     "name": "stdout",
     "output_type": "stream",
     "text": [
      "Downloaded and saved data for CUV (Clinuvel Pharmaceut)\n"
     ]
    },
    {
     "name": "stderr",
     "output_type": "stream",
     "text": [
      "[*********************100%***********************]  1 of 1 completed\n"
     ]
    },
    {
     "name": "stdout",
     "output_type": "stream",
     "text": [
      "Downloaded and saved data for ING (Inghams)\n"
     ]
    },
    {
     "name": "stderr",
     "output_type": "stream",
     "text": [
      "[*********************100%***********************]  1 of 1 completed\n",
      "\n",
      "1 Failed download:\n",
      "['SLR.AX']: YFTzMissingError('possibly delisted; no timezone found')\n"
     ]
    },
    {
     "name": "stdout",
     "output_type": "stream",
     "text": [
      "No data found for SLR (Silver Lake Resource), skipping.\n"
     ]
    },
    {
     "name": "stderr",
     "output_type": "stream",
     "text": [
      "[*********************100%***********************]  1 of 1 completed\n",
      "\n",
      "1 Failed download:\n",
      "['CGC.AX']: YFTzMissingError('possibly delisted; no timezone found')\n"
     ]
    },
    {
     "name": "stdout",
     "output_type": "stream",
     "text": [
      "No data found for CGC (Costa Group), skipping.\n"
     ]
    },
    {
     "name": "stderr",
     "output_type": "stream",
     "text": [
      "[*********************100%***********************]  1 of 1 completed\n",
      "\n",
      "1 Failed download:\n",
      "['BKL.AX']: YFTzMissingError('possibly delisted; no timezone found')\n"
     ]
    },
    {
     "name": "stdout",
     "output_type": "stream",
     "text": [
      "No data found for BKL (Blackmores), skipping.\n"
     ]
    },
    {
     "name": "stderr",
     "output_type": "stream",
     "text": [
      "[*********************100%***********************]  1 of 1 completed\n"
     ]
    },
    {
     "name": "stdout",
     "output_type": "stream",
     "text": [
      "Downloaded and saved data for PLS (Pilbara Minerals)\n"
     ]
    },
    {
     "name": "stderr",
     "output_type": "stream",
     "text": [
      "[*********************100%***********************]  1 of 1 completed\n"
     ]
    },
    {
     "name": "stdout",
     "output_type": "stream",
     "text": [
      "Downloaded and saved data for GOR (Gold Road Res)\n"
     ]
    },
    {
     "name": "stderr",
     "output_type": "stream",
     "text": [
      "[*********************100%***********************]  1 of 1 completed\n"
     ]
    },
    {
     "name": "stdout",
     "output_type": "stream",
     "text": [
      "Downloaded and saved data for NAN (Nanosonics)\n"
     ]
    },
    {
     "name": "stderr",
     "output_type": "stream",
     "text": [
      "[*********************100%***********************]  1 of 1 completed\n"
     ]
    },
    {
     "name": "stdout",
     "output_type": "stream",
     "text": [
      "Downloaded and saved data for EML (EML Payments)\n"
     ]
    },
    {
     "name": "stderr",
     "output_type": "stream",
     "text": [
      "[*********************100%***********************]  1 of 1 completed\n"
     ]
    },
    {
     "name": "stdout",
     "output_type": "stream",
     "text": [
      "Downloaded and saved data for GNC (GrainCorp)\n"
     ]
    },
    {
     "name": "stderr",
     "output_type": "stream",
     "text": [
      "[*********************100%***********************]  1 of 1 completed\n"
     ]
    },
    {
     "name": "stdout",
     "output_type": "stream",
     "text": [
      "Downloaded and saved data for NSR (National Storage)\n"
     ]
    },
    {
     "name": "stderr",
     "output_type": "stream",
     "text": [
      "[*********************100%***********************]  1 of 1 completed\n"
     ]
    },
    {
     "name": "stdout",
     "output_type": "stream",
     "text": [
      "Downloaded and saved data for LYC (Lynas)\n"
     ]
    },
    {
     "name": "stderr",
     "output_type": "stream",
     "text": [
      "[*********************100%***********************]  1 of 1 completed\n",
      "\n",
      "1 Failed download:\n",
      "['GUD.AX']: YFTzMissingError('possibly delisted; no timezone found')\n"
     ]
    },
    {
     "name": "stdout",
     "output_type": "stream",
     "text": [
      "No data found for GUD (GUD Holdings), skipping.\n"
     ]
    },
    {
     "name": "stderr",
     "output_type": "stream",
     "text": [
      "[*********************100%***********************]  1 of 1 completed\n"
     ]
    },
    {
     "name": "stdout",
     "output_type": "stream",
     "text": [
      "Downloaded and saved data for NWS (News Corp Class B)\n"
     ]
    },
    {
     "name": "stderr",
     "output_type": "stream",
     "text": [
      "[*********************100%***********************]  1 of 1 completed\n"
     ]
    },
    {
     "name": "stdout",
     "output_type": "stream",
     "text": [
      "Downloaded and saved data for KLS (Kelsian Group)\n"
     ]
    },
    {
     "name": "stderr",
     "output_type": "stream",
     "text": [
      "[*********************100%***********************]  1 of 1 completed\n",
      "\n",
      "1 Failed download:\n",
      "['AKE.AX']: YFTzMissingError('possibly delisted; no timezone found')\n"
     ]
    },
    {
     "name": "stdout",
     "output_type": "stream",
     "text": [
      "No data found for AKE (Allkem), skipping.\n"
     ]
    },
    {
     "name": "stderr",
     "output_type": "stream",
     "text": [
      "[*********************100%***********************]  1 of 1 completed\n"
     ]
    },
    {
     "name": "stdout",
     "output_type": "stream",
     "text": [
      "Downloaded and saved data for ARF (Arena REIT)\n"
     ]
    },
    {
     "name": "stderr",
     "output_type": "stream",
     "text": [
      "[*********************100%***********************]  1 of 1 completed\n",
      "\n",
      "1 Failed download:\n",
      "['AVZ.AX']: YFTzMissingError('possibly delisted; no timezone found')\n"
     ]
    },
    {
     "name": "stdout",
     "output_type": "stream",
     "text": [
      "No data found for AVZ (AVZ Minerals), skipping.\n"
     ]
    },
    {
     "name": "stderr",
     "output_type": "stream",
     "text": [
      "[*********************100%***********************]  1 of 1 completed\n"
     ]
    },
    {
     "name": "stdout",
     "output_type": "stream",
     "text": [
      "Downloaded and saved data for BRN (Brainchip)\n"
     ]
    },
    {
     "name": "stderr",
     "output_type": "stream",
     "text": [
      "[*********************100%***********************]  1 of 1 completed\n"
     ]
    },
    {
     "name": "stdout",
     "output_type": "stream",
     "text": [
      "Downloaded and saved data for CCX (City Chic Collective)\n"
     ]
    },
    {
     "name": "stderr",
     "output_type": "stream",
     "text": [
      "[*********************100%***********************]  1 of 1 completed\n"
     ]
    },
    {
     "name": "stdout",
     "output_type": "stream",
     "text": [
      "Downloaded and saved data for CHN (Chalice Mining)\n"
     ]
    },
    {
     "name": "stderr",
     "output_type": "stream",
     "text": [
      "[*********************100%***********************]  1 of 1 completed\n"
     ]
    },
    {
     "name": "stdout",
     "output_type": "stream",
     "text": [
      "Downloaded and saved data for CNI (Centuria Capital)\n"
     ]
    },
    {
     "name": "stderr",
     "output_type": "stream",
     "text": [
      "[*********************100%***********************]  1 of 1 completed\n",
      "[*********************100%***********************]  1 of 1 completed\n"
     ]
    },
    {
     "name": "stdout",
     "output_type": "stream",
     "text": [
      "Downloaded and saved data for CRN (Coronado Global Resources)\n",
      "Downloaded and saved data for CXO (Core Lithium)\n"
     ]
    },
    {
     "name": "stderr",
     "output_type": "stream",
     "text": [
      "[*********************100%***********************]  1 of 1 completed\n"
     ]
    },
    {
     "name": "stdout",
     "output_type": "stream",
     "text": [
      "Downloaded and saved data for DEG (De Grey Mining)\n"
     ]
    },
    {
     "name": "stderr",
     "output_type": "stream",
     "text": [
      "[*********************100%***********************]  1 of 1 completed\n"
     ]
    },
    {
     "name": "stdout",
     "output_type": "stream",
     "text": [
      "Downloaded and saved data for EDV (Endeavour Group)\n"
     ]
    },
    {
     "name": "stderr",
     "output_type": "stream",
     "text": [
      "[*********************100%***********************]  1 of 1 completed\n"
     ]
    },
    {
     "name": "stdout",
     "output_type": "stream",
     "text": [
      "Downloaded and saved data for EVT (Event Hospitality and Entertainment)\n"
     ]
    },
    {
     "name": "stderr",
     "output_type": "stream",
     "text": [
      "[*********************100%***********************]  1 of 1 completed\n"
     ]
    },
    {
     "name": "stdout",
     "output_type": "stream",
     "text": [
      "Downloaded and saved data for HDN (HomeCo Daily Needs REIT)\n"
     ]
    },
    {
     "name": "stderr",
     "output_type": "stream",
     "text": [
      "[*********************100%***********************]  1 of 1 completed\n"
     ]
    },
    {
     "name": "stdout",
     "output_type": "stream",
     "text": [
      "Downloaded and saved data for HMC (Home Consortium)\n"
     ]
    },
    {
     "name": "stderr",
     "output_type": "stream",
     "text": [
      "[*********************100%***********************]  1 of 1 completed\n"
     ]
    },
    {
     "name": "stdout",
     "output_type": "stream",
     "text": [
      "Downloaded and saved data for IMU (Imugene)\n"
     ]
    },
    {
     "name": "stderr",
     "output_type": "stream",
     "text": [
      "[*********************100%***********************]  1 of 1 completed\n"
     ]
    },
    {
     "name": "stdout",
     "output_type": "stream",
     "text": [
      "Downloaded and saved data for LIC (Lifestyle Communities)\n"
     ]
    },
    {
     "name": "stderr",
     "output_type": "stream",
     "text": [
      "[*********************100%***********************]  1 of 1 completed\n"
     ]
    },
    {
     "name": "stdout",
     "output_type": "stream",
     "text": [
      "Downloaded and saved data for LKE (Lake Resources)\n"
     ]
    },
    {
     "name": "stderr",
     "output_type": "stream",
     "text": [
      "[*********************100%***********************]  1 of 1 completed\n",
      "[*********************100%***********************]  1 of 1 completed\n"
     ]
    },
    {
     "name": "stdout",
     "output_type": "stream",
     "text": [
      "Downloaded and saved data for LTR (Liontown Resources)\n",
      "Downloaded and saved data for MP1 (Megaport)\n"
     ]
    },
    {
     "name": "stderr",
     "output_type": "stream",
     "text": [
      "[*********************100%***********************]  1 of 1 completed\n",
      "\n",
      "1 Failed download:\n",
      "['NHC.AX']: YFPricesMissingError('possibly delisted; no price data found  (1d 2020-01-01 -> 2025-01-01)')\n"
     ]
    },
    {
     "name": "stdout",
     "output_type": "stream",
     "text": [
      "No data found for NHC (New Hope), skipping.\n"
     ]
    },
    {
     "name": "stderr",
     "output_type": "stream",
     "text": [
      "[*********************100%***********************]  1 of 1 completed\n",
      "[*********************100%***********************]  1 of 1 completed\n"
     ]
    },
    {
     "name": "stdout",
     "output_type": "stream",
     "text": [
      "Downloaded and saved data for NIC (Nickel Industries Limited)\n",
      "Downloaded and saved data for NVX (Novonix)\n"
     ]
    },
    {
     "name": "stderr",
     "output_type": "stream",
     "text": [
      "[*********************100%***********************]  1 of 1 completed\n"
     ]
    },
    {
     "name": "stdout",
     "output_type": "stream",
     "text": [
      "Downloaded and saved data for PBH (Pointsbet Holdings)\n"
     ]
    },
    {
     "name": "stderr",
     "output_type": "stream",
     "text": [
      "[*********************100%***********************]  1 of 1 completed\n"
     ]
    },
    {
     "name": "stdout",
     "output_type": "stream",
     "text": [
      "Downloaded and saved data for PDN (Paladin Energy)\n"
     ]
    },
    {
     "name": "stderr",
     "output_type": "stream",
     "text": [
      "[*********************100%***********************]  1 of 1 completed\n"
     ]
    },
    {
     "name": "stdout",
     "output_type": "stream",
     "text": [
      "Downloaded and saved data for PNI (Pinnacle Investment Management)\n"
     ]
    },
    {
     "name": "stderr",
     "output_type": "stream",
     "text": [
      "[*********************100%***********************]  1 of 1 completed\n"
     ]
    },
    {
     "name": "stdout",
     "output_type": "stream",
     "text": [
      "Downloaded and saved data for PRU (Perseus Mining)\n"
     ]
    },
    {
     "name": "stderr",
     "output_type": "stream",
     "text": [
      "[*********************100%***********************]  1 of 1 completed\n",
      "[*********************100%***********************]  1 of 1 completed"
     ]
    },
    {
     "name": "stdout",
     "output_type": "stream",
     "text": [
      "Downloaded and saved data for REH (Reece Group)\n"
     ]
    },
    {
     "name": "stderr",
     "output_type": "stream",
     "text": [
      "\n"
     ]
    },
    {
     "name": "stdout",
     "output_type": "stream",
     "text": [
      "Downloaded and saved data for RMS (Ramelius Resources)\n"
     ]
    },
    {
     "name": "stderr",
     "output_type": "stream",
     "text": [
      "[*********************100%***********************]  1 of 1 completed\n"
     ]
    },
    {
     "name": "stdout",
     "output_type": "stream",
     "text": [
      "Downloaded and saved data for SFR (Sandfire Resources)\n"
     ]
    },
    {
     "name": "stderr",
     "output_type": "stream",
     "text": [
      "[*********************100%***********************]  1 of 1 completed\n"
     ]
    },
    {
     "name": "stdout",
     "output_type": "stream",
     "text": [
      "Downloaded and saved data for TLX (Telix Pharmaceuticals)\n"
     ]
    },
    {
     "name": "stderr",
     "output_type": "stream",
     "text": [
      "[*********************100%***********************]  1 of 1 completed\n",
      "[*********************100%***********************]  1 of 1 completed\n"
     ]
    },
    {
     "name": "stdout",
     "output_type": "stream",
     "text": [
      "Downloaded and saved data for TLC (The Lottery Corporation)\n",
      "Downloaded and saved data for TYR (Tyro Payments)\n"
     ]
    },
    {
     "name": "stderr",
     "output_type": "stream",
     "text": [
      "[*********************100%***********************]  1 of 1 completed\n",
      "\n",
      "1 Failed download:\n",
      "['UMG.AX']: YFTzMissingError('possibly delisted; no timezone found')\n"
     ]
    },
    {
     "name": "stdout",
     "output_type": "stream",
     "text": [
      "No data found for UMG (United Malt Group), skipping.\n"
     ]
    },
    {
     "name": "stderr",
     "output_type": "stream",
     "text": [
      "[*********************100%***********************]  1 of 1 completed\n",
      "\n",
      "1 Failed download:\n",
      "['UWL.AX']: YFTzMissingError('possibly delisted; no timezone found')\n"
     ]
    },
    {
     "name": "stdout",
     "output_type": "stream",
     "text": [
      "No data found for UWL (Uniti Group), skipping.\n"
     ]
    },
    {
     "name": "stderr",
     "output_type": "stream",
     "text": [
      "[*********************100%***********************]  1 of 1 completed"
     ]
    },
    {
     "name": "stdout",
     "output_type": "stream",
     "text": [
      "Downloaded and saved data for ZIP (Zip)\n"
     ]
    },
    {
     "name": "stderr",
     "output_type": "stream",
     "text": [
      "\n"
     ]
    }
   ],
   "source": [
    "import yfinance as yf\n",
    "import pandas as pd\n",
    "import time\n",
    "\n",
    "# Load the CSV file (specifying the separator)\n",
    "df = pd.read_csv('ASX_200_companies.csv', sep=';')\n",
    "\n",
    "# Extract the tickers and company names\n",
    "tickers = df['Index'].tolist()  # Getting the tickers in column 'Index'\n",
    "company_names = df['Company name'].tolist()  # Getting the company names\n",
    "\n",
    "# Create a dictionary to map tickers to company names\n",
    "ticker_to_name = dict(zip(tickers, company_names))\n",
    "\n",
    "# List to store tuples of (ticker, company name) for companies with download failures\n",
    "failed_downloads = []\n",
    "\n",
    "# Loop through each ticker and download its stock data\n",
    "for ticker in tickers:\n",
    "    attempt = 0\n",
    "    while attempt < 3:  # Limit to 3 attempts\n",
    "        try:\n",
    "            # Download stock data from Yahoo Finance for each ticker\n",
    "            stock_data = yf.download(ticker + '.AX', start='2020-01-01', end='2025-01-01')  # Use '.AX' for ASX tickers\n",
    "            \n",
    "            # If the stock data is empty, skip it\n",
    "            if stock_data.empty:\n",
    "                print(f\"No data found for {ticker} ({ticker_to_name[ticker]}), skipping.\")\n",
    "                failed_downloads.append((ticker, ticker_to_name[ticker]))  # Add ticker and company name to failures\n",
    "                break  # Exit the retry loop\n",
    "            \n",
    "            # Save the data to a CSV file named after the ticker\n",
    "            stock_data.to_csv(f'{ticker}_data.csv')\n",
    "            \n",
    "            print(f\"Downloaded and saved data for {ticker} ({ticker_to_name[ticker]})\")\n",
    "            break  # Successful download, exit retry loop\n",
    "\n",
    "        except Exception as e:\n",
    "            attempt += 1\n",
    "            print(f\"Attempt {attempt} for {ticker} failed: {e}\")\n",
    "            if attempt < 3:\n",
    "                print(\"Retrying...\")\n",
    "                time.sleep(3)  # Wait before retrying\n",
    "            \n",
    "            if attempt == 3:  # After 3 failed attempts\n",
    "                failed_downloads.append((ticker, ticker_to_name[ticker]))  # Record failure\n"
   ]
  },
  {
   "cell_type": "code",
   "execution_count": 2,
   "id": "1c149ee8-9323-4460-9859-6d21bee7bd4b",
   "metadata": {},
   "outputs": [
    {
     "name": "stdout",
     "output_type": "stream",
     "text": [
      "\n",
      "Companies with failed downloads:\n",
      "Ticker: SQ2, Company: Block Inc. CDI\n",
      "Ticker: NCM, Company: Newcrest\n",
      "Ticker: AIA, Company: Auckland Airport\n",
      "Ticker: BLD, Company: Boral\n",
      "Ticker: SVW, Company: Seven Group Holdings\n",
      "Ticker: AWC, Company: Alumina\n",
      "Ticker: LNK, Company: Link Admin\n",
      "Ticker: ALU, Company: Altium\n",
      "Ticker: OZL, Company: Oz Minerals\n",
      "Ticker: VUK, Company: Virgin Money UK\n",
      "Ticker: CSR, Company: CSR\n",
      "Ticker: PDL, Company: Pendal Group\n",
      "Ticker: ABP, Company: Abacus Property Group\n",
      "Ticker: JHG, Company: Janus Henderson\n",
      "Ticker: ABC, Company: Adbri\n",
      "Ticker: IVC, Company: InvoCare\n",
      "Ticker: SLR, Company: Silver Lake Resource\n",
      "Ticker: CGC, Company: Costa Group\n",
      "Ticker: BKL, Company: Blackmores\n",
      "Ticker: GUD, Company: GUD Holdings\n",
      "Ticker: AKE, Company: Allkem\n",
      "Ticker: AVZ, Company: AVZ Minerals\n",
      "Ticker: NHC, Company: New Hope\n",
      "Ticker: UMG, Company: United Malt Group\n",
      "Ticker: UWL, Company: Uniti Group\n"
     ]
    }
   ],
   "source": [
    "# Print out the list of failed downloads with ticker names\n",
    "if failed_downloads:\n",
    "    print(\"\\nCompanies with failed downloads:\")\n",
    "    for ticker, company in failed_downloads:\n",
    "        print(f\"Ticker: {ticker}, Company: {company}\")\n",
    "else:\n",
    "    print(\"\\nAll downloads were successful.\")"
   ]
  },
  {
   "cell_type": "code",
   "execution_count": 3,
   "id": "0ca8df7b-390f-47f8-9528-9778b5fc89ce",
   "metadata": {},
   "outputs": [
    {
     "name": "stdout",
     "output_type": "stream",
     "text": [
      "File SQ2_data.csv not found; skipping.\n",
      "File NCM_data.csv not found; skipping.\n",
      "File BLD_data.csv not found; skipping.\n",
      "File SVW_data.csv not found; skipping.\n",
      "File AWC_data.csv not found; skipping.\n",
      "File LNK_data.csv not found; skipping.\n",
      "File ALU_data.csv not found; skipping.\n",
      "File OZL_data.csv not found; skipping.\n",
      "File VUK_data.csv not found; skipping.\n",
      "File CSR_data.csv not found; skipping.\n",
      "File PDL_data.csv not found; skipping.\n",
      "File ABP_data.csv not found; skipping.\n",
      "File JHG_data.csv not found; skipping.\n",
      "File ABC_data.csv not found; skipping.\n",
      "File IVC_data.csv not found; skipping.\n",
      "File SLR_data.csv not found; skipping.\n",
      "File CGC_data.csv not found; skipping.\n",
      "File BKL_data.csv not found; skipping.\n",
      "File GUD_data.csv not found; skipping.\n",
      "File AKE_data.csv not found; skipping.\n",
      "File AVZ_data.csv not found; skipping.\n",
      "File UMG_data.csv not found; skipping.\n",
      "File UWL_data.csv not found; skipping.\n",
      "Combined data has been saved to 'combined_stock_data.csv'.\n"
     ]
    }
   ],
   "source": [
    "import pandas as pd\n",
    "import os\n",
    "\n",
    "# Load the CSV file with company tickers and names\n",
    "df = pd.read_csv('ASX_200_companies.csv', sep=';')\n",
    "\n",
    "# Extract the tickers and company names\n",
    "tickers = df['Index'].tolist()  # Getting the tickers in column 'Index'\n",
    "company_names = df['Company name'].tolist()  # Getting the company names\n",
    "\n",
    "# Create a dictionary to map tickers to company names\n",
    "ticker_to_name = dict(zip(tickers, company_names))\n",
    "\n",
    "# List to store successful data\n",
    "combined_data = []\n",
    "\n",
    "# Loop through each ticker to read the downloaded data\n",
    "for ticker in tickers:\n",
    "    try:\n",
    "        # Construct the filename pattern\n",
    "        file_name = f\"{ticker}_data.csv\"\n",
    "        \n",
    "        # Check if the file exists before trying to read\n",
    "        if os.path.exists(file_name):\n",
    "            # Read the CSV file\n",
    "            stock_data = pd.read_csv(file_name, header=[0, 1], index_col=0)\n",
    "            \n",
    "            # Resetting the index to turn Date into a column\n",
    "            stock_data.reset_index(inplace=True)\n",
    "\n",
    "            # Check if the DataFrame is not empty\n",
    "            if not stock_data.empty:\n",
    "                # Flatten the MultiIndex columns\n",
    "                stock_data.columns = ['Date', 'Close', 'High', 'Low', 'Open', 'Volume']\n",
    "                \n",
    "                # Add a new column with the company name\n",
    "                stock_data['Name'] = ticker\n",
    "\n",
    "                # Append data to the combined_data list\n",
    "                combined_data.append(stock_data)\n",
    "            else:\n",
    "                print(f\"Data for {ticker} is empty; skipping.\")\n",
    "        else:\n",
    "            print(f\"File {file_name} not found; skipping.\")\n",
    "        \n",
    "    except Exception as e:\n",
    "        print(f\"Error processing {ticker}: {e}\")\n",
    "\n",
    "# Combine all DataFrames into one\n",
    "if combined_data:  # Ensure there's data to concatenate\n",
    "    combined_df = pd.concat(combined_data, ignore_index=True)\n",
    "    \n",
    "    # Reorder columns to match the required output\n",
    "    combined_df = combined_df[['Date', 'Open', 'High', 'Low', 'Close', 'Volume', 'Name']]\n",
    "    \n",
    "    # Save the combined DataFrame to a CSV file\n",
    "    combined_df.to_csv('combined_stock_data.csv', index=False)\n",
    "    print(\"Combined data has been saved to 'combined_stock_data.csv'.\")\n",
    "else:\n",
    "    print(\"No data to combine; please check the downloaded files.\")"
   ]
  },
  {
   "cell_type": "code",
   "execution_count": 4,
   "id": "33b44d38-9ec0-4b57-a255-18f54e09f2d0",
   "metadata": {},
   "outputs": [],
   "source": [
    "import pandas as pd\n",
    "\n",
    "# Load ASX200 dataset\n",
    "df = pd.read_csv('combined_stock_data.csv')  # Replace with the actual file name"
   ]
  },
  {
   "cell_type": "code",
   "execution_count": 5,
   "id": "5ac9b4ba-6501-4009-9663-0dd661f00923",
   "metadata": {},
   "outputs": [
    {
     "name": "stdout",
     "output_type": "stream",
     "text": [
      "         Date       Open       High        Low      Close   Volume Name\n",
      "0  2020-01-02  64.860162  65.209704  64.535007  64.933319  1416232  CBA\n",
      "1  2020-01-03  65.819375  65.998211  65.234096  65.282867  1622784  CBA\n",
      "2  2020-01-06  64.811385  64.933313  64.404942  64.843895  2129260  CBA\n",
      "3  2020-01-07  65.697438  66.006332  65.177192  66.006332  2417468  CBA\n",
      "4  2020-01-08  66.022597  66.046983  65.055261  65.762474  1719114  CBA\n"
     ]
    }
   ],
   "source": [
    "print(df.head())"
   ]
  },
  {
   "cell_type": "code",
   "execution_count": 6,
   "id": "34fd5eba-a280-42e3-bf33-b7a5590a017d",
   "metadata": {},
   "outputs": [
    {
     "name": "stdout",
     "output_type": "stream",
     "text": [
      "<class 'pandas.core.frame.DataFrame'>\n",
      "RangeIndex: 220923 entries, 0 to 220922\n",
      "Data columns (total 7 columns):\n",
      " #   Column  Non-Null Count   Dtype  \n",
      "---  ------  --------------   -----  \n",
      " 0   Date    220923 non-null  object \n",
      " 1   Open    220923 non-null  float64\n",
      " 2   High    220923 non-null  float64\n",
      " 3   Low     220923 non-null  float64\n",
      " 4   Close   220923 non-null  float64\n",
      " 5   Volume  220923 non-null  int64  \n",
      " 6   Name    220923 non-null  object \n",
      "dtypes: float64(4), int64(1), object(2)\n",
      "memory usage: 11.8+ MB\n",
      "None\n"
     ]
    }
   ],
   "source": [
    "print(df.info())"
   ]
  },
  {
   "cell_type": "code",
   "execution_count": 7,
   "id": "3d81b27b-74b2-457b-b2f5-741d4649e55b",
   "metadata": {},
   "outputs": [
    {
     "name": "stdout",
     "output_type": "stream",
     "text": [
      "                Open           High            Low          Close  \\\n",
      "count  220923.000000  220923.000000  220923.000000  220923.000000   \n",
      "mean       17.709865      17.909480      17.503726      17.707719   \n",
      "std        35.224421      35.555256      34.874241      35.223498   \n",
      "min         0.014000       0.015000       0.013000       0.014000   \n",
      "25%         2.996701       3.035078       2.953293       2.994609   \n",
      "50%         6.657022       6.740781       6.565000       6.651150   \n",
      "75%        17.679931      17.887562      17.450001      17.657126   \n",
      "max       344.693708     344.999009     339.346039     342.769043   \n",
      "\n",
      "             Volume  \n",
      "count  2.209230e+05  \n",
      "mean   3.825871e+06  \n",
      "std    7.303259e+06  \n",
      "min    0.000000e+00  \n",
      "25%    6.496065e+05  \n",
      "50%    1.671070e+06  \n",
      "75%    4.244162e+06  \n",
      "max    3.677158e+08  \n"
     ]
    }
   ],
   "source": [
    "print(df.describe())"
   ]
  },
  {
   "cell_type": "code",
   "execution_count": 8,
   "id": "53446c2d-b23c-4819-81de-01e19c3f907e",
   "metadata": {},
   "outputs": [
    {
     "name": "stdout",
     "output_type": "stream",
     "text": [
      "Rows with missing values:\n",
      " Empty DataFrame\n",
      "Columns: [Date, Open, High, Low, Close, Volume, Name]\n",
      "Index: []\n"
     ]
    }
   ],
   "source": [
    "# Print rows with any missing values\n",
    "rows_with_missing_values = df[df.isnull().any(axis=1)]\n",
    "\n",
    "print(\"Rows with missing values:\\n\", rows_with_missing_values)"
   ]
  },
  {
   "cell_type": "code",
   "execution_count": 9,
   "id": "3cd58fa3-56ef-4a4f-b1c3-7fd2204fe810",
   "metadata": {},
   "outputs": [
    {
     "name": "stdout",
     "output_type": "stream",
     "text": [
      "Summary table saved as 'company_stock_summary.csv'.\n"
     ]
    }
   ],
   "source": [
    "# Create an empty list to store company data\n",
    "summary_data = []\n",
    "\n",
    "# Iterate through each unique company name\n",
    "unique_companies = df['Name'].unique()\n",
    "\n",
    "for company in unique_companies:\n",
    "    # Filter dataframe for the specific company\n",
    "    company_data = df[df['Name'] == company]\n",
    "\n",
    "    # Find relevant minimum, maximum, opening, and closing values along with their dates\n",
    "    lowest_price = company_data.loc[company_data['Close'].idxmin()]\n",
    "    highest_price = company_data.loc[company_data['Close'].idxmax()]\n",
    "\n",
    "    # Append data to the summary list\n",
    "    summary_data.append({\n",
    "        'Company Name': company,\n",
    "        'Lowest Closing Price': lowest_price['Close'],\n",
    "        'Date of Lowest Price': lowest_price['Date'],\n",
    "        'Opening Price on Lowest Date': lowest_price['Open'],\n",
    "        'Highest Closing Price': highest_price['Close'],\n",
    "        'Date of Highest Price': highest_price['Date'],\n",
    "        'Opening Price on Highest Date': highest_price['Open']\n",
    "    })\n",
    "\n",
    "# Create a DataFrame from the summary list\n",
    "summary_df = pd.DataFrame(summary_data)\n",
    "\n",
    "# Save the summary DataFrame to a CSV file\n",
    "summary_df.to_csv('company_stock_summary.csv', index=False)\n",
    "print(\"Summary table saved as 'company_stock_summary.csv'.\")"
   ]
  },
  {
   "cell_type": "code",
   "execution_count": 10,
   "id": "10887633-52c1-43fe-9872-8348d11d6e9e",
   "metadata": {},
   "outputs": [
    {
     "data": {
      "text/html": [
       "<div>\n",
       "<style scoped>\n",
       "    .dataframe tbody tr th:only-of-type {\n",
       "        vertical-align: middle;\n",
       "    }\n",
       "\n",
       "    .dataframe tbody tr th {\n",
       "        vertical-align: top;\n",
       "    }\n",
       "\n",
       "    .dataframe thead th {\n",
       "        text-align: right;\n",
       "    }\n",
       "</style>\n",
       "<table border=\"1\" class=\"dataframe\">\n",
       "  <thead>\n",
       "    <tr style=\"text-align: right;\">\n",
       "      <th></th>\n",
       "      <th>Company Name</th>\n",
       "      <th>Lowest Closing Price</th>\n",
       "      <th>Date of Lowest Price</th>\n",
       "      <th>Opening Price on Lowest Date</th>\n",
       "      <th>Highest Closing Price</th>\n",
       "      <th>Date of Highest Price</th>\n",
       "      <th>Opening Price on Highest Date</th>\n",
       "    </tr>\n",
       "  </thead>\n",
       "  <tbody>\n",
       "    <tr>\n",
       "      <th>0</th>\n",
       "      <td>CBA</td>\n",
       "      <td>45.106667</td>\n",
       "      <td>2020-03-23</td>\n",
       "      <td>47.974673</td>\n",
       "      <td>158.900345</td>\n",
       "      <td>2024-12-17</td>\n",
       "      <td>156.415212</td>\n",
       "    </tr>\n",
       "    <tr>\n",
       "      <th>1</th>\n",
       "      <td>BHP</td>\n",
       "      <td>15.549701</td>\n",
       "      <td>2020-03-16</td>\n",
       "      <td>15.870567</td>\n",
       "      <td>47.116230</td>\n",
       "      <td>2023-12-28</td>\n",
       "      <td>46.688911</td>\n",
       "    </tr>\n",
       "    <tr>\n",
       "      <th>2</th>\n",
       "      <td>CSL</td>\n",
       "      <td>225.740524</td>\n",
       "      <td>2023-10-30</td>\n",
       "      <td>225.163086</td>\n",
       "      <td>319.165344</td>\n",
       "      <td>2020-02-19</td>\n",
       "      <td>313.437220</td>\n",
       "    </tr>\n",
       "    <tr>\n",
       "      <th>3</th>\n",
       "      <td>WBC</td>\n",
       "      <td>11.383221</td>\n",
       "      <td>2020-03-23</td>\n",
       "      <td>11.690002</td>\n",
       "      <td>33.830002</td>\n",
       "      <td>2024-11-22</td>\n",
       "      <td>33.700001</td>\n",
       "    </tr>\n",
       "    <tr>\n",
       "      <th>4</th>\n",
       "      <td>ANZ</td>\n",
       "      <td>10.721333</td>\n",
       "      <td>2020-03-23</td>\n",
       "      <td>11.367654</td>\n",
       "      <td>32.459999</td>\n",
       "      <td>2024-11-18</td>\n",
       "      <td>32.259998</td>\n",
       "    </tr>\n",
       "    <tr>\n",
       "      <th>...</th>\n",
       "      <td>...</td>\n",
       "      <td>...</td>\n",
       "      <td>...</td>\n",
       "      <td>...</td>\n",
       "      <td>...</td>\n",
       "      <td>...</td>\n",
       "      <td>...</td>\n",
       "    </tr>\n",
       "    <tr>\n",
       "      <th>172</th>\n",
       "      <td>SFR</td>\n",
       "      <td>2.370420</td>\n",
       "      <td>2020-03-23</td>\n",
       "      <td>2.463544</td>\n",
       "      <td>11.140000</td>\n",
       "      <td>2024-10-14</td>\n",
       "      <td>10.900000</td>\n",
       "    </tr>\n",
       "    <tr>\n",
       "      <th>173</th>\n",
       "      <td>TLX</td>\n",
       "      <td>0.800000</td>\n",
       "      <td>2020-03-23</td>\n",
       "      <td>0.810000</td>\n",
       "      <td>25.740000</td>\n",
       "      <td>2024-12-18</td>\n",
       "      <td>25.129999</td>\n",
       "    </tr>\n",
       "    <tr>\n",
       "      <th>174</th>\n",
       "      <td>TLC</td>\n",
       "      <td>3.724958</td>\n",
       "      <td>2022-10-12</td>\n",
       "      <td>3.791475</td>\n",
       "      <td>5.166000</td>\n",
       "      <td>2024-11-28</td>\n",
       "      <td>5.156160</td>\n",
       "    </tr>\n",
       "    <tr>\n",
       "      <th>175</th>\n",
       "      <td>TYR</td>\n",
       "      <td>0.600000</td>\n",
       "      <td>2022-06-30</td>\n",
       "      <td>0.630000</td>\n",
       "      <td>4.490000</td>\n",
       "      <td>2020-02-11</td>\n",
       "      <td>4.290000</td>\n",
       "    </tr>\n",
       "    <tr>\n",
       "      <th>176</th>\n",
       "      <td>ZIP</td>\n",
       "      <td>0.255000</td>\n",
       "      <td>2023-10-06</td>\n",
       "      <td>0.260000</td>\n",
       "      <td>13.920000</td>\n",
       "      <td>2021-02-16</td>\n",
       "      <td>13.020000</td>\n",
       "    </tr>\n",
       "  </tbody>\n",
       "</table>\n",
       "<p>177 rows × 7 columns</p>\n",
       "</div>"
      ],
      "text/plain": [
       "    Company Name  Lowest Closing Price Date of Lowest Price  \\\n",
       "0            CBA             45.106667           2020-03-23   \n",
       "1            BHP             15.549701           2020-03-16   \n",
       "2            CSL            225.740524           2023-10-30   \n",
       "3            WBC             11.383221           2020-03-23   \n",
       "4            ANZ             10.721333           2020-03-23   \n",
       "..           ...                   ...                  ...   \n",
       "172          SFR              2.370420           2020-03-23   \n",
       "173          TLX              0.800000           2020-03-23   \n",
       "174          TLC              3.724958           2022-10-12   \n",
       "175          TYR              0.600000           2022-06-30   \n",
       "176          ZIP              0.255000           2023-10-06   \n",
       "\n",
       "     Opening Price on Lowest Date  Highest Closing Price  \\\n",
       "0                       47.974673             158.900345   \n",
       "1                       15.870567              47.116230   \n",
       "2                      225.163086             319.165344   \n",
       "3                       11.690002              33.830002   \n",
       "4                       11.367654              32.459999   \n",
       "..                            ...                    ...   \n",
       "172                      2.463544              11.140000   \n",
       "173                      0.810000              25.740000   \n",
       "174                      3.791475               5.166000   \n",
       "175                      0.630000               4.490000   \n",
       "176                      0.260000              13.920000   \n",
       "\n",
       "    Date of Highest Price  Opening Price on Highest Date  \n",
       "0              2024-12-17                     156.415212  \n",
       "1              2023-12-28                      46.688911  \n",
       "2              2020-02-19                     313.437220  \n",
       "3              2024-11-22                      33.700001  \n",
       "4              2024-11-18                      32.259998  \n",
       "..                    ...                            ...  \n",
       "172            2024-10-14                      10.900000  \n",
       "173            2024-12-18                      25.129999  \n",
       "174            2024-11-28                       5.156160  \n",
       "175            2020-02-11                       4.290000  \n",
       "176            2021-02-16                      13.020000  \n",
       "\n",
       "[177 rows x 7 columns]"
      ]
     },
     "execution_count": 10,
     "metadata": {},
     "output_type": "execute_result"
    }
   ],
   "source": [
    "pd.read_csv(\"company_stock_summary.csv\")"
   ]
  },
  {
   "cell_type": "code",
   "execution_count": 11,
   "id": "03adace8-7bb2-4897-b2f1-dbc89584e347",
   "metadata": {},
   "outputs": [],
   "source": [
    "df['Date'] = pd.to_datetime(df['Date'])\n",
    "df['Ticker'] = df['Name'].astype('category')"
   ]
  },
  {
   "cell_type": "code",
   "execution_count": 12,
   "id": "c7cbf36c-0a5e-4256-b681-df56f67329da",
   "metadata": {},
   "outputs": [
    {
     "data": {
      "text/html": [
       "<div>\n",
       "<style scoped>\n",
       "    .dataframe tbody tr th:only-of-type {\n",
       "        vertical-align: middle;\n",
       "    }\n",
       "\n",
       "    .dataframe tbody tr th {\n",
       "        vertical-align: top;\n",
       "    }\n",
       "\n",
       "    .dataframe thead th {\n",
       "        text-align: right;\n",
       "    }\n",
       "</style>\n",
       "<table border=\"1\" class=\"dataframe\">\n",
       "  <thead>\n",
       "    <tr style=\"text-align: right;\">\n",
       "      <th></th>\n",
       "      <th>Date</th>\n",
       "      <th>Open</th>\n",
       "      <th>High</th>\n",
       "      <th>Low</th>\n",
       "      <th>Close</th>\n",
       "      <th>Volume</th>\n",
       "      <th>Name</th>\n",
       "      <th>Ticker</th>\n",
       "    </tr>\n",
       "  </thead>\n",
       "  <tbody>\n",
       "    <tr>\n",
       "      <th>0</th>\n",
       "      <td>2020-01-02</td>\n",
       "      <td>64.860162</td>\n",
       "      <td>65.209704</td>\n",
       "      <td>64.535007</td>\n",
       "      <td>64.933319</td>\n",
       "      <td>1416232</td>\n",
       "      <td>CBA</td>\n",
       "      <td>CBA</td>\n",
       "    </tr>\n",
       "    <tr>\n",
       "      <th>1</th>\n",
       "      <td>2020-01-03</td>\n",
       "      <td>65.819375</td>\n",
       "      <td>65.998211</td>\n",
       "      <td>65.234096</td>\n",
       "      <td>65.282867</td>\n",
       "      <td>1622784</td>\n",
       "      <td>CBA</td>\n",
       "      <td>CBA</td>\n",
       "    </tr>\n",
       "    <tr>\n",
       "      <th>2</th>\n",
       "      <td>2020-01-06</td>\n",
       "      <td>64.811385</td>\n",
       "      <td>64.933313</td>\n",
       "      <td>64.404942</td>\n",
       "      <td>64.843895</td>\n",
       "      <td>2129260</td>\n",
       "      <td>CBA</td>\n",
       "      <td>CBA</td>\n",
       "    </tr>\n",
       "    <tr>\n",
       "      <th>3</th>\n",
       "      <td>2020-01-07</td>\n",
       "      <td>65.697438</td>\n",
       "      <td>66.006332</td>\n",
       "      <td>65.177192</td>\n",
       "      <td>66.006332</td>\n",
       "      <td>2417468</td>\n",
       "      <td>CBA</td>\n",
       "      <td>CBA</td>\n",
       "    </tr>\n",
       "    <tr>\n",
       "      <th>4</th>\n",
       "      <td>2020-01-08</td>\n",
       "      <td>66.022597</td>\n",
       "      <td>66.046983</td>\n",
       "      <td>65.055261</td>\n",
       "      <td>65.762474</td>\n",
       "      <td>1719114</td>\n",
       "      <td>CBA</td>\n",
       "      <td>CBA</td>\n",
       "    </tr>\n",
       "    <tr>\n",
       "      <th>...</th>\n",
       "      <td>...</td>\n",
       "      <td>...</td>\n",
       "      <td>...</td>\n",
       "      <td>...</td>\n",
       "      <td>...</td>\n",
       "      <td>...</td>\n",
       "      <td>...</td>\n",
       "      <td>...</td>\n",
       "    </tr>\n",
       "    <tr>\n",
       "      <th>220918</th>\n",
       "      <td>2024-12-23</td>\n",
       "      <td>2.890000</td>\n",
       "      <td>3.050000</td>\n",
       "      <td>2.860000</td>\n",
       "      <td>2.960000</td>\n",
       "      <td>8861035</td>\n",
       "      <td>ZIP</td>\n",
       "      <td>ZIP</td>\n",
       "    </tr>\n",
       "    <tr>\n",
       "      <th>220919</th>\n",
       "      <td>2024-12-24</td>\n",
       "      <td>2.950000</td>\n",
       "      <td>2.960000</td>\n",
       "      <td>2.850000</td>\n",
       "      <td>2.910000</td>\n",
       "      <td>5828918</td>\n",
       "      <td>ZIP</td>\n",
       "      <td>ZIP</td>\n",
       "    </tr>\n",
       "    <tr>\n",
       "      <th>220920</th>\n",
       "      <td>2024-12-27</td>\n",
       "      <td>2.950000</td>\n",
       "      <td>3.060000</td>\n",
       "      <td>2.940000</td>\n",
       "      <td>3.060000</td>\n",
       "      <td>7311340</td>\n",
       "      <td>ZIP</td>\n",
       "      <td>ZIP</td>\n",
       "    </tr>\n",
       "    <tr>\n",
       "      <th>220921</th>\n",
       "      <td>2024-12-30</td>\n",
       "      <td>3.000000</td>\n",
       "      <td>3.100000</td>\n",
       "      <td>2.950000</td>\n",
       "      <td>3.000000</td>\n",
       "      <td>7740629</td>\n",
       "      <td>ZIP</td>\n",
       "      <td>ZIP</td>\n",
       "    </tr>\n",
       "    <tr>\n",
       "      <th>220922</th>\n",
       "      <td>2024-12-31</td>\n",
       "      <td>2.980000</td>\n",
       "      <td>3.005000</td>\n",
       "      <td>2.940000</td>\n",
       "      <td>2.960000</td>\n",
       "      <td>4243262</td>\n",
       "      <td>ZIP</td>\n",
       "      <td>ZIP</td>\n",
       "    </tr>\n",
       "  </tbody>\n",
       "</table>\n",
       "<p>220923 rows × 8 columns</p>\n",
       "</div>"
      ],
      "text/plain": [
       "             Date       Open       High        Low      Close   Volume Name  \\\n",
       "0      2020-01-02  64.860162  65.209704  64.535007  64.933319  1416232  CBA   \n",
       "1      2020-01-03  65.819375  65.998211  65.234096  65.282867  1622784  CBA   \n",
       "2      2020-01-06  64.811385  64.933313  64.404942  64.843895  2129260  CBA   \n",
       "3      2020-01-07  65.697438  66.006332  65.177192  66.006332  2417468  CBA   \n",
       "4      2020-01-08  66.022597  66.046983  65.055261  65.762474  1719114  CBA   \n",
       "...           ...        ...        ...        ...        ...      ...  ...   \n",
       "220918 2024-12-23   2.890000   3.050000   2.860000   2.960000  8861035  ZIP   \n",
       "220919 2024-12-24   2.950000   2.960000   2.850000   2.910000  5828918  ZIP   \n",
       "220920 2024-12-27   2.950000   3.060000   2.940000   3.060000  7311340  ZIP   \n",
       "220921 2024-12-30   3.000000   3.100000   2.950000   3.000000  7740629  ZIP   \n",
       "220922 2024-12-31   2.980000   3.005000   2.940000   2.960000  4243262  ZIP   \n",
       "\n",
       "       Ticker  \n",
       "0         CBA  \n",
       "1         CBA  \n",
       "2         CBA  \n",
       "3         CBA  \n",
       "4         CBA  \n",
       "...       ...  \n",
       "220918    ZIP  \n",
       "220919    ZIP  \n",
       "220920    ZIP  \n",
       "220921    ZIP  \n",
       "220922    ZIP  \n",
       "\n",
       "[220923 rows x 8 columns]"
      ]
     },
     "execution_count": 12,
     "metadata": {},
     "output_type": "execute_result"
    }
   ],
   "source": [
    "df"
   ]
  },
  {
   "cell_type": "code",
   "execution_count": 13,
   "id": "7bba217d-b81f-44d9-93cf-07febb53a1e3",
   "metadata": {},
   "outputs": [
    {
     "data": {
      "text/html": [
       "<div>\n",
       "<style scoped>\n",
       "    .dataframe tbody tr th:only-of-type {\n",
       "        vertical-align: middle;\n",
       "    }\n",
       "\n",
       "    .dataframe tbody tr th {\n",
       "        vertical-align: top;\n",
       "    }\n",
       "\n",
       "    .dataframe thead th {\n",
       "        text-align: right;\n",
       "    }\n",
       "</style>\n",
       "<table border=\"1\" class=\"dataframe\">\n",
       "  <thead>\n",
       "    <tr style=\"text-align: right;\">\n",
       "      <th></th>\n",
       "      <th>Date</th>\n",
       "      <th>Open</th>\n",
       "      <th>High</th>\n",
       "      <th>Low</th>\n",
       "      <th>Close</th>\n",
       "      <th>Volume</th>\n",
       "      <th>Name</th>\n",
       "      <th>Ticker</th>\n",
       "      <th>Day</th>\n",
       "      <th>Month</th>\n",
       "      <th>Year</th>\n",
       "      <th>DayOfWeek</th>\n",
       "      <th>Quarter</th>\n",
       "    </tr>\n",
       "  </thead>\n",
       "  <tbody>\n",
       "    <tr>\n",
       "      <th>0</th>\n",
       "      <td>2020-01-02</td>\n",
       "      <td>64.860162</td>\n",
       "      <td>65.209704</td>\n",
       "      <td>64.535007</td>\n",
       "      <td>64.933319</td>\n",
       "      <td>1416232</td>\n",
       "      <td>CBA</td>\n",
       "      <td>CBA</td>\n",
       "      <td>2</td>\n",
       "      <td>1</td>\n",
       "      <td>2020</td>\n",
       "      <td>3</td>\n",
       "      <td>1</td>\n",
       "    </tr>\n",
       "    <tr>\n",
       "      <th>1</th>\n",
       "      <td>2020-01-03</td>\n",
       "      <td>65.819375</td>\n",
       "      <td>65.998211</td>\n",
       "      <td>65.234096</td>\n",
       "      <td>65.282867</td>\n",
       "      <td>1622784</td>\n",
       "      <td>CBA</td>\n",
       "      <td>CBA</td>\n",
       "      <td>3</td>\n",
       "      <td>1</td>\n",
       "      <td>2020</td>\n",
       "      <td>4</td>\n",
       "      <td>1</td>\n",
       "    </tr>\n",
       "    <tr>\n",
       "      <th>2</th>\n",
       "      <td>2020-01-06</td>\n",
       "      <td>64.811385</td>\n",
       "      <td>64.933313</td>\n",
       "      <td>64.404942</td>\n",
       "      <td>64.843895</td>\n",
       "      <td>2129260</td>\n",
       "      <td>CBA</td>\n",
       "      <td>CBA</td>\n",
       "      <td>6</td>\n",
       "      <td>1</td>\n",
       "      <td>2020</td>\n",
       "      <td>0</td>\n",
       "      <td>1</td>\n",
       "    </tr>\n",
       "    <tr>\n",
       "      <th>3</th>\n",
       "      <td>2020-01-07</td>\n",
       "      <td>65.697438</td>\n",
       "      <td>66.006332</td>\n",
       "      <td>65.177192</td>\n",
       "      <td>66.006332</td>\n",
       "      <td>2417468</td>\n",
       "      <td>CBA</td>\n",
       "      <td>CBA</td>\n",
       "      <td>7</td>\n",
       "      <td>1</td>\n",
       "      <td>2020</td>\n",
       "      <td>1</td>\n",
       "      <td>1</td>\n",
       "    </tr>\n",
       "    <tr>\n",
       "      <th>4</th>\n",
       "      <td>2020-01-08</td>\n",
       "      <td>66.022597</td>\n",
       "      <td>66.046983</td>\n",
       "      <td>65.055261</td>\n",
       "      <td>65.762474</td>\n",
       "      <td>1719114</td>\n",
       "      <td>CBA</td>\n",
       "      <td>CBA</td>\n",
       "      <td>8</td>\n",
       "      <td>1</td>\n",
       "      <td>2020</td>\n",
       "      <td>2</td>\n",
       "      <td>1</td>\n",
       "    </tr>\n",
       "    <tr>\n",
       "      <th>...</th>\n",
       "      <td>...</td>\n",
       "      <td>...</td>\n",
       "      <td>...</td>\n",
       "      <td>...</td>\n",
       "      <td>...</td>\n",
       "      <td>...</td>\n",
       "      <td>...</td>\n",
       "      <td>...</td>\n",
       "      <td>...</td>\n",
       "      <td>...</td>\n",
       "      <td>...</td>\n",
       "      <td>...</td>\n",
       "      <td>...</td>\n",
       "    </tr>\n",
       "    <tr>\n",
       "      <th>220918</th>\n",
       "      <td>2024-12-23</td>\n",
       "      <td>2.890000</td>\n",
       "      <td>3.050000</td>\n",
       "      <td>2.860000</td>\n",
       "      <td>2.960000</td>\n",
       "      <td>8861035</td>\n",
       "      <td>ZIP</td>\n",
       "      <td>ZIP</td>\n",
       "      <td>23</td>\n",
       "      <td>12</td>\n",
       "      <td>2024</td>\n",
       "      <td>0</td>\n",
       "      <td>4</td>\n",
       "    </tr>\n",
       "    <tr>\n",
       "      <th>220919</th>\n",
       "      <td>2024-12-24</td>\n",
       "      <td>2.950000</td>\n",
       "      <td>2.960000</td>\n",
       "      <td>2.850000</td>\n",
       "      <td>2.910000</td>\n",
       "      <td>5828918</td>\n",
       "      <td>ZIP</td>\n",
       "      <td>ZIP</td>\n",
       "      <td>24</td>\n",
       "      <td>12</td>\n",
       "      <td>2024</td>\n",
       "      <td>1</td>\n",
       "      <td>4</td>\n",
       "    </tr>\n",
       "    <tr>\n",
       "      <th>220920</th>\n",
       "      <td>2024-12-27</td>\n",
       "      <td>2.950000</td>\n",
       "      <td>3.060000</td>\n",
       "      <td>2.940000</td>\n",
       "      <td>3.060000</td>\n",
       "      <td>7311340</td>\n",
       "      <td>ZIP</td>\n",
       "      <td>ZIP</td>\n",
       "      <td>27</td>\n",
       "      <td>12</td>\n",
       "      <td>2024</td>\n",
       "      <td>4</td>\n",
       "      <td>4</td>\n",
       "    </tr>\n",
       "    <tr>\n",
       "      <th>220921</th>\n",
       "      <td>2024-12-30</td>\n",
       "      <td>3.000000</td>\n",
       "      <td>3.100000</td>\n",
       "      <td>2.950000</td>\n",
       "      <td>3.000000</td>\n",
       "      <td>7740629</td>\n",
       "      <td>ZIP</td>\n",
       "      <td>ZIP</td>\n",
       "      <td>30</td>\n",
       "      <td>12</td>\n",
       "      <td>2024</td>\n",
       "      <td>0</td>\n",
       "      <td>4</td>\n",
       "    </tr>\n",
       "    <tr>\n",
       "      <th>220922</th>\n",
       "      <td>2024-12-31</td>\n",
       "      <td>2.980000</td>\n",
       "      <td>3.005000</td>\n",
       "      <td>2.940000</td>\n",
       "      <td>2.960000</td>\n",
       "      <td>4243262</td>\n",
       "      <td>ZIP</td>\n",
       "      <td>ZIP</td>\n",
       "      <td>31</td>\n",
       "      <td>12</td>\n",
       "      <td>2024</td>\n",
       "      <td>1</td>\n",
       "      <td>4</td>\n",
       "    </tr>\n",
       "  </tbody>\n",
       "</table>\n",
       "<p>220923 rows × 13 columns</p>\n",
       "</div>"
      ],
      "text/plain": [
       "             Date       Open       High        Low      Close   Volume Name  \\\n",
       "0      2020-01-02  64.860162  65.209704  64.535007  64.933319  1416232  CBA   \n",
       "1      2020-01-03  65.819375  65.998211  65.234096  65.282867  1622784  CBA   \n",
       "2      2020-01-06  64.811385  64.933313  64.404942  64.843895  2129260  CBA   \n",
       "3      2020-01-07  65.697438  66.006332  65.177192  66.006332  2417468  CBA   \n",
       "4      2020-01-08  66.022597  66.046983  65.055261  65.762474  1719114  CBA   \n",
       "...           ...        ...        ...        ...        ...      ...  ...   \n",
       "220918 2024-12-23   2.890000   3.050000   2.860000   2.960000  8861035  ZIP   \n",
       "220919 2024-12-24   2.950000   2.960000   2.850000   2.910000  5828918  ZIP   \n",
       "220920 2024-12-27   2.950000   3.060000   2.940000   3.060000  7311340  ZIP   \n",
       "220921 2024-12-30   3.000000   3.100000   2.950000   3.000000  7740629  ZIP   \n",
       "220922 2024-12-31   2.980000   3.005000   2.940000   2.960000  4243262  ZIP   \n",
       "\n",
       "       Ticker  Day  Month  Year  DayOfWeek  Quarter  \n",
       "0         CBA    2      1  2020          3        1  \n",
       "1         CBA    3      1  2020          4        1  \n",
       "2         CBA    6      1  2020          0        1  \n",
       "3         CBA    7      1  2020          1        1  \n",
       "4         CBA    8      1  2020          2        1  \n",
       "...       ...  ...    ...   ...        ...      ...  \n",
       "220918    ZIP   23     12  2024          0        4  \n",
       "220919    ZIP   24     12  2024          1        4  \n",
       "220920    ZIP   27     12  2024          4        4  \n",
       "220921    ZIP   30     12  2024          0        4  \n",
       "220922    ZIP   31     12  2024          1        4  \n",
       "\n",
       "[220923 rows x 13 columns]"
      ]
     },
     "execution_count": 13,
     "metadata": {},
     "output_type": "execute_result"
    }
   ],
   "source": [
    "# Extract components of the date for potential insights\n",
    "df['Day'] = df['Date'].dt.day               # Day of the month\n",
    "df['Month'] = df['Date'].dt.month           # Month of the year\n",
    "df['Year'] = df['Date'].dt.year             # Year extracted from date\n",
    "df['DayOfWeek'] = df['Date'].dt.dayofweek   # Day of the week (0=Monday, 6=Sunday)\n",
    "df['Quarter'] = df['Date'].dt.quarter       # Financial quarter (1 to 4)\n",
    "df"
   ]
  },
  {
   "cell_type": "code",
   "execution_count": 14,
   "id": "518020ae-4b84-4d66-b69e-0d45967916ca",
   "metadata": {},
   "outputs": [
    {
     "data": {
      "text/html": [
       "<div>\n",
       "<style scoped>\n",
       "    .dataframe tbody tr th:only-of-type {\n",
       "        vertical-align: middle;\n",
       "    }\n",
       "\n",
       "    .dataframe tbody tr th {\n",
       "        vertical-align: top;\n",
       "    }\n",
       "\n",
       "    .dataframe thead th {\n",
       "        text-align: right;\n",
       "    }\n",
       "</style>\n",
       "<table border=\"1\" class=\"dataframe\">\n",
       "  <thead>\n",
       "    <tr style=\"text-align: right;\">\n",
       "      <th></th>\n",
       "      <th>Date</th>\n",
       "      <th>Open</th>\n",
       "      <th>High</th>\n",
       "      <th>Low</th>\n",
       "      <th>Close</th>\n",
       "      <th>Volume</th>\n",
       "      <th>Name</th>\n",
       "      <th>Ticker</th>\n",
       "      <th>Day</th>\n",
       "      <th>Month</th>\n",
       "      <th>Year</th>\n",
       "      <th>DayOfWeek</th>\n",
       "      <th>Quarter</th>\n",
       "      <th>Prev_Close</th>\n",
       "    </tr>\n",
       "  </thead>\n",
       "  <tbody>\n",
       "    <tr>\n",
       "      <th>0</th>\n",
       "      <td>2020-01-02</td>\n",
       "      <td>64.860162</td>\n",
       "      <td>65.209704</td>\n",
       "      <td>64.535007</td>\n",
       "      <td>64.933319</td>\n",
       "      <td>1416232</td>\n",
       "      <td>CBA</td>\n",
       "      <td>CBA</td>\n",
       "      <td>2</td>\n",
       "      <td>1</td>\n",
       "      <td>2020</td>\n",
       "      <td>3</td>\n",
       "      <td>1</td>\n",
       "      <td>NaN</td>\n",
       "    </tr>\n",
       "    <tr>\n",
       "      <th>1</th>\n",
       "      <td>2020-01-03</td>\n",
       "      <td>65.819375</td>\n",
       "      <td>65.998211</td>\n",
       "      <td>65.234096</td>\n",
       "      <td>65.282867</td>\n",
       "      <td>1622784</td>\n",
       "      <td>CBA</td>\n",
       "      <td>CBA</td>\n",
       "      <td>3</td>\n",
       "      <td>1</td>\n",
       "      <td>2020</td>\n",
       "      <td>4</td>\n",
       "      <td>1</td>\n",
       "      <td>64.933319</td>\n",
       "    </tr>\n",
       "    <tr>\n",
       "      <th>2</th>\n",
       "      <td>2020-01-06</td>\n",
       "      <td>64.811385</td>\n",
       "      <td>64.933313</td>\n",
       "      <td>64.404942</td>\n",
       "      <td>64.843895</td>\n",
       "      <td>2129260</td>\n",
       "      <td>CBA</td>\n",
       "      <td>CBA</td>\n",
       "      <td>6</td>\n",
       "      <td>1</td>\n",
       "      <td>2020</td>\n",
       "      <td>0</td>\n",
       "      <td>1</td>\n",
       "      <td>65.282867</td>\n",
       "    </tr>\n",
       "    <tr>\n",
       "      <th>3</th>\n",
       "      <td>2020-01-07</td>\n",
       "      <td>65.697438</td>\n",
       "      <td>66.006332</td>\n",
       "      <td>65.177192</td>\n",
       "      <td>66.006332</td>\n",
       "      <td>2417468</td>\n",
       "      <td>CBA</td>\n",
       "      <td>CBA</td>\n",
       "      <td>7</td>\n",
       "      <td>1</td>\n",
       "      <td>2020</td>\n",
       "      <td>1</td>\n",
       "      <td>1</td>\n",
       "      <td>64.843895</td>\n",
       "    </tr>\n",
       "    <tr>\n",
       "      <th>4</th>\n",
       "      <td>2020-01-08</td>\n",
       "      <td>66.022597</td>\n",
       "      <td>66.046983</td>\n",
       "      <td>65.055261</td>\n",
       "      <td>65.762474</td>\n",
       "      <td>1719114</td>\n",
       "      <td>CBA</td>\n",
       "      <td>CBA</td>\n",
       "      <td>8</td>\n",
       "      <td>1</td>\n",
       "      <td>2020</td>\n",
       "      <td>2</td>\n",
       "      <td>1</td>\n",
       "      <td>66.006332</td>\n",
       "    </tr>\n",
       "    <tr>\n",
       "      <th>...</th>\n",
       "      <td>...</td>\n",
       "      <td>...</td>\n",
       "      <td>...</td>\n",
       "      <td>...</td>\n",
       "      <td>...</td>\n",
       "      <td>...</td>\n",
       "      <td>...</td>\n",
       "      <td>...</td>\n",
       "      <td>...</td>\n",
       "      <td>...</td>\n",
       "      <td>...</td>\n",
       "      <td>...</td>\n",
       "      <td>...</td>\n",
       "      <td>...</td>\n",
       "    </tr>\n",
       "    <tr>\n",
       "      <th>220918</th>\n",
       "      <td>2024-12-23</td>\n",
       "      <td>2.890000</td>\n",
       "      <td>3.050000</td>\n",
       "      <td>2.860000</td>\n",
       "      <td>2.960000</td>\n",
       "      <td>8861035</td>\n",
       "      <td>ZIP</td>\n",
       "      <td>ZIP</td>\n",
       "      <td>23</td>\n",
       "      <td>12</td>\n",
       "      <td>2024</td>\n",
       "      <td>0</td>\n",
       "      <td>4</td>\n",
       "      <td>2.830000</td>\n",
       "    </tr>\n",
       "    <tr>\n",
       "      <th>220919</th>\n",
       "      <td>2024-12-24</td>\n",
       "      <td>2.950000</td>\n",
       "      <td>2.960000</td>\n",
       "      <td>2.850000</td>\n",
       "      <td>2.910000</td>\n",
       "      <td>5828918</td>\n",
       "      <td>ZIP</td>\n",
       "      <td>ZIP</td>\n",
       "      <td>24</td>\n",
       "      <td>12</td>\n",
       "      <td>2024</td>\n",
       "      <td>1</td>\n",
       "      <td>4</td>\n",
       "      <td>2.960000</td>\n",
       "    </tr>\n",
       "    <tr>\n",
       "      <th>220920</th>\n",
       "      <td>2024-12-27</td>\n",
       "      <td>2.950000</td>\n",
       "      <td>3.060000</td>\n",
       "      <td>2.940000</td>\n",
       "      <td>3.060000</td>\n",
       "      <td>7311340</td>\n",
       "      <td>ZIP</td>\n",
       "      <td>ZIP</td>\n",
       "      <td>27</td>\n",
       "      <td>12</td>\n",
       "      <td>2024</td>\n",
       "      <td>4</td>\n",
       "      <td>4</td>\n",
       "      <td>2.910000</td>\n",
       "    </tr>\n",
       "    <tr>\n",
       "      <th>220921</th>\n",
       "      <td>2024-12-30</td>\n",
       "      <td>3.000000</td>\n",
       "      <td>3.100000</td>\n",
       "      <td>2.950000</td>\n",
       "      <td>3.000000</td>\n",
       "      <td>7740629</td>\n",
       "      <td>ZIP</td>\n",
       "      <td>ZIP</td>\n",
       "      <td>30</td>\n",
       "      <td>12</td>\n",
       "      <td>2024</td>\n",
       "      <td>0</td>\n",
       "      <td>4</td>\n",
       "      <td>3.060000</td>\n",
       "    </tr>\n",
       "    <tr>\n",
       "      <th>220922</th>\n",
       "      <td>2024-12-31</td>\n",
       "      <td>2.980000</td>\n",
       "      <td>3.005000</td>\n",
       "      <td>2.940000</td>\n",
       "      <td>2.960000</td>\n",
       "      <td>4243262</td>\n",
       "      <td>ZIP</td>\n",
       "      <td>ZIP</td>\n",
       "      <td>31</td>\n",
       "      <td>12</td>\n",
       "      <td>2024</td>\n",
       "      <td>1</td>\n",
       "      <td>4</td>\n",
       "      <td>3.000000</td>\n",
       "    </tr>\n",
       "  </tbody>\n",
       "</table>\n",
       "<p>220923 rows × 14 columns</p>\n",
       "</div>"
      ],
      "text/plain": [
       "             Date       Open       High        Low      Close   Volume Name  \\\n",
       "0      2020-01-02  64.860162  65.209704  64.535007  64.933319  1416232  CBA   \n",
       "1      2020-01-03  65.819375  65.998211  65.234096  65.282867  1622784  CBA   \n",
       "2      2020-01-06  64.811385  64.933313  64.404942  64.843895  2129260  CBA   \n",
       "3      2020-01-07  65.697438  66.006332  65.177192  66.006332  2417468  CBA   \n",
       "4      2020-01-08  66.022597  66.046983  65.055261  65.762474  1719114  CBA   \n",
       "...           ...        ...        ...        ...        ...      ...  ...   \n",
       "220918 2024-12-23   2.890000   3.050000   2.860000   2.960000  8861035  ZIP   \n",
       "220919 2024-12-24   2.950000   2.960000   2.850000   2.910000  5828918  ZIP   \n",
       "220920 2024-12-27   2.950000   3.060000   2.940000   3.060000  7311340  ZIP   \n",
       "220921 2024-12-30   3.000000   3.100000   2.950000   3.000000  7740629  ZIP   \n",
       "220922 2024-12-31   2.980000   3.005000   2.940000   2.960000  4243262  ZIP   \n",
       "\n",
       "       Ticker  Day  Month  Year  DayOfWeek  Quarter  Prev_Close  \n",
       "0         CBA    2      1  2020          3        1         NaN  \n",
       "1         CBA    3      1  2020          4        1   64.933319  \n",
       "2         CBA    6      1  2020          0        1   65.282867  \n",
       "3         CBA    7      1  2020          1        1   64.843895  \n",
       "4         CBA    8      1  2020          2        1   66.006332  \n",
       "...       ...  ...    ...   ...        ...      ...         ...  \n",
       "220918    ZIP   23     12  2024          0        4    2.830000  \n",
       "220919    ZIP   24     12  2024          1        4    2.960000  \n",
       "220920    ZIP   27     12  2024          4        4    2.910000  \n",
       "220921    ZIP   30     12  2024          0        4    3.060000  \n",
       "220922    ZIP   31     12  2024          1        4    3.000000  \n",
       "\n",
       "[220923 rows x 14 columns]"
      ]
     },
     "execution_count": 14,
     "metadata": {},
     "output_type": "execute_result"
    }
   ],
   "source": [
    "# Create lag features to capture previous days' prices\n",
    "df['Prev_Close'] = df['Close'].shift(1)     # Previous day's closing price\n",
    "df"
   ]
  },
  {
   "cell_type": "code",
   "execution_count": 15,
   "id": "96f43aa4-8e40-4837-8de3-755b90d90562",
   "metadata": {},
   "outputs": [
    {
     "data": {
      "text/html": [
       "<div>\n",
       "<style scoped>\n",
       "    .dataframe tbody tr th:only-of-type {\n",
       "        vertical-align: middle;\n",
       "    }\n",
       "\n",
       "    .dataframe tbody tr th {\n",
       "        vertical-align: top;\n",
       "    }\n",
       "\n",
       "    .dataframe thead th {\n",
       "        text-align: right;\n",
       "    }\n",
       "</style>\n",
       "<table border=\"1\" class=\"dataframe\">\n",
       "  <thead>\n",
       "    <tr style=\"text-align: right;\">\n",
       "      <th></th>\n",
       "      <th>Date</th>\n",
       "      <th>Open</th>\n",
       "      <th>High</th>\n",
       "      <th>Low</th>\n",
       "      <th>Close</th>\n",
       "      <th>Volume</th>\n",
       "      <th>Name</th>\n",
       "      <th>Ticker</th>\n",
       "      <th>Day</th>\n",
       "      <th>Month</th>\n",
       "      <th>Year</th>\n",
       "      <th>DayOfWeek</th>\n",
       "      <th>Quarter</th>\n",
       "      <th>Prev_Close</th>\n",
       "      <th>SMA_5</th>\n",
       "      <th>SMA_20</th>\n",
       "      <th>EMA_20</th>\n",
       "    </tr>\n",
       "  </thead>\n",
       "  <tbody>\n",
       "    <tr>\n",
       "      <th>0</th>\n",
       "      <td>2020-01-02</td>\n",
       "      <td>64.860162</td>\n",
       "      <td>65.209704</td>\n",
       "      <td>64.535007</td>\n",
       "      <td>64.933319</td>\n",
       "      <td>1416232</td>\n",
       "      <td>CBA</td>\n",
       "      <td>CBA</td>\n",
       "      <td>2</td>\n",
       "      <td>1</td>\n",
       "      <td>2020</td>\n",
       "      <td>3</td>\n",
       "      <td>1</td>\n",
       "      <td>NaN</td>\n",
       "      <td>NaN</td>\n",
       "      <td>NaN</td>\n",
       "      <td>64.933319</td>\n",
       "    </tr>\n",
       "    <tr>\n",
       "      <th>1</th>\n",
       "      <td>2020-01-03</td>\n",
       "      <td>65.819375</td>\n",
       "      <td>65.998211</td>\n",
       "      <td>65.234096</td>\n",
       "      <td>65.282867</td>\n",
       "      <td>1622784</td>\n",
       "      <td>CBA</td>\n",
       "      <td>CBA</td>\n",
       "      <td>3</td>\n",
       "      <td>1</td>\n",
       "      <td>2020</td>\n",
       "      <td>4</td>\n",
       "      <td>1</td>\n",
       "      <td>64.933319</td>\n",
       "      <td>NaN</td>\n",
       "      <td>NaN</td>\n",
       "      <td>64.966609</td>\n",
       "    </tr>\n",
       "    <tr>\n",
       "      <th>2</th>\n",
       "      <td>2020-01-06</td>\n",
       "      <td>64.811385</td>\n",
       "      <td>64.933313</td>\n",
       "      <td>64.404942</td>\n",
       "      <td>64.843895</td>\n",
       "      <td>2129260</td>\n",
       "      <td>CBA</td>\n",
       "      <td>CBA</td>\n",
       "      <td>6</td>\n",
       "      <td>1</td>\n",
       "      <td>2020</td>\n",
       "      <td>0</td>\n",
       "      <td>1</td>\n",
       "      <td>65.282867</td>\n",
       "      <td>NaN</td>\n",
       "      <td>NaN</td>\n",
       "      <td>64.954922</td>\n",
       "    </tr>\n",
       "    <tr>\n",
       "      <th>3</th>\n",
       "      <td>2020-01-07</td>\n",
       "      <td>65.697438</td>\n",
       "      <td>66.006332</td>\n",
       "      <td>65.177192</td>\n",
       "      <td>66.006332</td>\n",
       "      <td>2417468</td>\n",
       "      <td>CBA</td>\n",
       "      <td>CBA</td>\n",
       "      <td>7</td>\n",
       "      <td>1</td>\n",
       "      <td>2020</td>\n",
       "      <td>1</td>\n",
       "      <td>1</td>\n",
       "      <td>64.843895</td>\n",
       "      <td>NaN</td>\n",
       "      <td>NaN</td>\n",
       "      <td>65.055057</td>\n",
       "    </tr>\n",
       "    <tr>\n",
       "      <th>4</th>\n",
       "      <td>2020-01-08</td>\n",
       "      <td>66.022597</td>\n",
       "      <td>66.046983</td>\n",
       "      <td>65.055261</td>\n",
       "      <td>65.762474</td>\n",
       "      <td>1719114</td>\n",
       "      <td>CBA</td>\n",
       "      <td>CBA</td>\n",
       "      <td>8</td>\n",
       "      <td>1</td>\n",
       "      <td>2020</td>\n",
       "      <td>2</td>\n",
       "      <td>1</td>\n",
       "      <td>66.006332</td>\n",
       "      <td>65.365778</td>\n",
       "      <td>NaN</td>\n",
       "      <td>65.122430</td>\n",
       "    </tr>\n",
       "    <tr>\n",
       "      <th>...</th>\n",
       "      <td>...</td>\n",
       "      <td>...</td>\n",
       "      <td>...</td>\n",
       "      <td>...</td>\n",
       "      <td>...</td>\n",
       "      <td>...</td>\n",
       "      <td>...</td>\n",
       "      <td>...</td>\n",
       "      <td>...</td>\n",
       "      <td>...</td>\n",
       "      <td>...</td>\n",
       "      <td>...</td>\n",
       "      <td>...</td>\n",
       "      <td>...</td>\n",
       "      <td>...</td>\n",
       "      <td>...</td>\n",
       "      <td>...</td>\n",
       "    </tr>\n",
       "    <tr>\n",
       "      <th>220918</th>\n",
       "      <td>2024-12-23</td>\n",
       "      <td>2.890000</td>\n",
       "      <td>3.050000</td>\n",
       "      <td>2.860000</td>\n",
       "      <td>2.960000</td>\n",
       "      <td>8861035</td>\n",
       "      <td>ZIP</td>\n",
       "      <td>ZIP</td>\n",
       "      <td>23</td>\n",
       "      <td>12</td>\n",
       "      <td>2024</td>\n",
       "      <td>0</td>\n",
       "      <td>4</td>\n",
       "      <td>2.830000</td>\n",
       "      <td>2.932000</td>\n",
       "      <td>3.125</td>\n",
       "      <td>3.044340</td>\n",
       "    </tr>\n",
       "    <tr>\n",
       "      <th>220919</th>\n",
       "      <td>2024-12-24</td>\n",
       "      <td>2.950000</td>\n",
       "      <td>2.960000</td>\n",
       "      <td>2.850000</td>\n",
       "      <td>2.910000</td>\n",
       "      <td>5828918</td>\n",
       "      <td>ZIP</td>\n",
       "      <td>ZIP</td>\n",
       "      <td>24</td>\n",
       "      <td>12</td>\n",
       "      <td>2024</td>\n",
       "      <td>1</td>\n",
       "      <td>4</td>\n",
       "      <td>2.960000</td>\n",
       "      <td>2.932000</td>\n",
       "      <td>3.103</td>\n",
       "      <td>3.031546</td>\n",
       "    </tr>\n",
       "    <tr>\n",
       "      <th>220920</th>\n",
       "      <td>2024-12-27</td>\n",
       "      <td>2.950000</td>\n",
       "      <td>3.060000</td>\n",
       "      <td>2.940000</td>\n",
       "      <td>3.060000</td>\n",
       "      <td>7311340</td>\n",
       "      <td>ZIP</td>\n",
       "      <td>ZIP</td>\n",
       "      <td>27</td>\n",
       "      <td>12</td>\n",
       "      <td>2024</td>\n",
       "      <td>4</td>\n",
       "      <td>4</td>\n",
       "      <td>2.910000</td>\n",
       "      <td>2.920000</td>\n",
       "      <td>3.093</td>\n",
       "      <td>3.034256</td>\n",
       "    </tr>\n",
       "    <tr>\n",
       "      <th>220921</th>\n",
       "      <td>2024-12-30</td>\n",
       "      <td>3.000000</td>\n",
       "      <td>3.100000</td>\n",
       "      <td>2.950000</td>\n",
       "      <td>3.000000</td>\n",
       "      <td>7740629</td>\n",
       "      <td>ZIP</td>\n",
       "      <td>ZIP</td>\n",
       "      <td>30</td>\n",
       "      <td>12</td>\n",
       "      <td>2024</td>\n",
       "      <td>0</td>\n",
       "      <td>4</td>\n",
       "      <td>3.060000</td>\n",
       "      <td>2.952000</td>\n",
       "      <td>3.074</td>\n",
       "      <td>3.030993</td>\n",
       "    </tr>\n",
       "    <tr>\n",
       "      <th>220922</th>\n",
       "      <td>2024-12-31</td>\n",
       "      <td>2.980000</td>\n",
       "      <td>3.005000</td>\n",
       "      <td>2.940000</td>\n",
       "      <td>2.960000</td>\n",
       "      <td>4243262</td>\n",
       "      <td>ZIP</td>\n",
       "      <td>ZIP</td>\n",
       "      <td>31</td>\n",
       "      <td>12</td>\n",
       "      <td>2024</td>\n",
       "      <td>1</td>\n",
       "      <td>4</td>\n",
       "      <td>3.000000</td>\n",
       "      <td>2.978000</td>\n",
       "      <td>3.051</td>\n",
       "      <td>3.024232</td>\n",
       "    </tr>\n",
       "  </tbody>\n",
       "</table>\n",
       "<p>220923 rows × 17 columns</p>\n",
       "</div>"
      ],
      "text/plain": [
       "             Date       Open       High        Low      Close   Volume Name  \\\n",
       "0      2020-01-02  64.860162  65.209704  64.535007  64.933319  1416232  CBA   \n",
       "1      2020-01-03  65.819375  65.998211  65.234096  65.282867  1622784  CBA   \n",
       "2      2020-01-06  64.811385  64.933313  64.404942  64.843895  2129260  CBA   \n",
       "3      2020-01-07  65.697438  66.006332  65.177192  66.006332  2417468  CBA   \n",
       "4      2020-01-08  66.022597  66.046983  65.055261  65.762474  1719114  CBA   \n",
       "...           ...        ...        ...        ...        ...      ...  ...   \n",
       "220918 2024-12-23   2.890000   3.050000   2.860000   2.960000  8861035  ZIP   \n",
       "220919 2024-12-24   2.950000   2.960000   2.850000   2.910000  5828918  ZIP   \n",
       "220920 2024-12-27   2.950000   3.060000   2.940000   3.060000  7311340  ZIP   \n",
       "220921 2024-12-30   3.000000   3.100000   2.950000   3.000000  7740629  ZIP   \n",
       "220922 2024-12-31   2.980000   3.005000   2.940000   2.960000  4243262  ZIP   \n",
       "\n",
       "       Ticker  Day  Month  Year  DayOfWeek  Quarter  Prev_Close      SMA_5  \\\n",
       "0         CBA    2      1  2020          3        1         NaN        NaN   \n",
       "1         CBA    3      1  2020          4        1   64.933319        NaN   \n",
       "2         CBA    6      1  2020          0        1   65.282867        NaN   \n",
       "3         CBA    7      1  2020          1        1   64.843895        NaN   \n",
       "4         CBA    8      1  2020          2        1   66.006332  65.365778   \n",
       "...       ...  ...    ...   ...        ...      ...         ...        ...   \n",
       "220918    ZIP   23     12  2024          0        4    2.830000   2.932000   \n",
       "220919    ZIP   24     12  2024          1        4    2.960000   2.932000   \n",
       "220920    ZIP   27     12  2024          4        4    2.910000   2.920000   \n",
       "220921    ZIP   30     12  2024          0        4    3.060000   2.952000   \n",
       "220922    ZIP   31     12  2024          1        4    3.000000   2.978000   \n",
       "\n",
       "        SMA_20     EMA_20  \n",
       "0          NaN  64.933319  \n",
       "1          NaN  64.966609  \n",
       "2          NaN  64.954922  \n",
       "3          NaN  65.055057  \n",
       "4          NaN  65.122430  \n",
       "...        ...        ...  \n",
       "220918   3.125   3.044340  \n",
       "220919   3.103   3.031546  \n",
       "220920   3.093   3.034256  \n",
       "220921   3.074   3.030993  \n",
       "220922   3.051   3.024232  \n",
       "\n",
       "[220923 rows x 17 columns]"
      ]
     },
     "execution_count": 15,
     "metadata": {},
     "output_type": "execute_result"
    }
   ],
   "source": [
    "# Create moving averages to smooth out price trends\n",
    "df['SMA_5'] = df['Close'].rolling(window=5).mean()       # 5-day Simple Moving Average\n",
    "df['SMA_20'] = df['Close'].rolling(window=20).mean()     # 20-day Simple Moving Average\n",
    "df['EMA_20'] = df['Close'].ewm(span=20, adjust=False).mean()  # 20-day Exponential Moving Average\n",
    "\n",
    "df"
   ]
  },
  {
   "cell_type": "code",
   "execution_count": 16,
   "id": "ebaa2717-e6f4-4258-8180-795910cb9c7f",
   "metadata": {},
   "outputs": [
    {
     "data": {
      "text/html": [
       "<div>\n",
       "<style scoped>\n",
       "    .dataframe tbody tr th:only-of-type {\n",
       "        vertical-align: middle;\n",
       "    }\n",
       "\n",
       "    .dataframe tbody tr th {\n",
       "        vertical-align: top;\n",
       "    }\n",
       "\n",
       "    .dataframe thead th {\n",
       "        text-align: right;\n",
       "    }\n",
       "</style>\n",
       "<table border=\"1\" class=\"dataframe\">\n",
       "  <thead>\n",
       "    <tr style=\"text-align: right;\">\n",
       "      <th></th>\n",
       "      <th>Date</th>\n",
       "      <th>Open</th>\n",
       "      <th>High</th>\n",
       "      <th>Low</th>\n",
       "      <th>Close</th>\n",
       "      <th>Volume</th>\n",
       "      <th>Name</th>\n",
       "      <th>Ticker</th>\n",
       "      <th>Day</th>\n",
       "      <th>Month</th>\n",
       "      <th>...</th>\n",
       "      <th>SMA_20</th>\n",
       "      <th>EMA_20</th>\n",
       "      <th>Volatility</th>\n",
       "      <th>Daily_Return</th>\n",
       "      <th>DayOfWeek_1</th>\n",
       "      <th>DayOfWeek_2</th>\n",
       "      <th>DayOfWeek_3</th>\n",
       "      <th>DayOfWeek_4</th>\n",
       "      <th>Future_Close</th>\n",
       "      <th>Open_Close_Ratio</th>\n",
       "    </tr>\n",
       "  </thead>\n",
       "  <tbody>\n",
       "    <tr>\n",
       "      <th>0</th>\n",
       "      <td>2020-01-02</td>\n",
       "      <td>64.860162</td>\n",
       "      <td>65.209704</td>\n",
       "      <td>64.535007</td>\n",
       "      <td>64.933319</td>\n",
       "      <td>1416232</td>\n",
       "      <td>CBA</td>\n",
       "      <td>CBA</td>\n",
       "      <td>2</td>\n",
       "      <td>1</td>\n",
       "      <td>...</td>\n",
       "      <td>NaN</td>\n",
       "      <td>64.933319</td>\n",
       "      <td>NaN</td>\n",
       "      <td>NaN</td>\n",
       "      <td>False</td>\n",
       "      <td>False</td>\n",
       "      <td>True</td>\n",
       "      <td>False</td>\n",
       "      <td>65.282867</td>\n",
       "      <td>0.998873</td>\n",
       "    </tr>\n",
       "    <tr>\n",
       "      <th>1</th>\n",
       "      <td>2020-01-03</td>\n",
       "      <td>65.819375</td>\n",
       "      <td>65.998211</td>\n",
       "      <td>65.234096</td>\n",
       "      <td>65.282867</td>\n",
       "      <td>1622784</td>\n",
       "      <td>CBA</td>\n",
       "      <td>CBA</td>\n",
       "      <td>3</td>\n",
       "      <td>1</td>\n",
       "      <td>...</td>\n",
       "      <td>NaN</td>\n",
       "      <td>64.966609</td>\n",
       "      <td>NaN</td>\n",
       "      <td>0.005383</td>\n",
       "      <td>False</td>\n",
       "      <td>False</td>\n",
       "      <td>False</td>\n",
       "      <td>True</td>\n",
       "      <td>64.843895</td>\n",
       "      <td>1.008218</td>\n",
       "    </tr>\n",
       "    <tr>\n",
       "      <th>2</th>\n",
       "      <td>2020-01-06</td>\n",
       "      <td>64.811385</td>\n",
       "      <td>64.933313</td>\n",
       "      <td>64.404942</td>\n",
       "      <td>64.843895</td>\n",
       "      <td>2129260</td>\n",
       "      <td>CBA</td>\n",
       "      <td>CBA</td>\n",
       "      <td>6</td>\n",
       "      <td>1</td>\n",
       "      <td>...</td>\n",
       "      <td>NaN</td>\n",
       "      <td>64.954922</td>\n",
       "      <td>NaN</td>\n",
       "      <td>-0.006724</td>\n",
       "      <td>False</td>\n",
       "      <td>False</td>\n",
       "      <td>False</td>\n",
       "      <td>False</td>\n",
       "      <td>66.006332</td>\n",
       "      <td>0.999499</td>\n",
       "    </tr>\n",
       "    <tr>\n",
       "      <th>3</th>\n",
       "      <td>2020-01-07</td>\n",
       "      <td>65.697438</td>\n",
       "      <td>66.006332</td>\n",
       "      <td>65.177192</td>\n",
       "      <td>66.006332</td>\n",
       "      <td>2417468</td>\n",
       "      <td>CBA</td>\n",
       "      <td>CBA</td>\n",
       "      <td>7</td>\n",
       "      <td>1</td>\n",
       "      <td>...</td>\n",
       "      <td>NaN</td>\n",
       "      <td>65.055057</td>\n",
       "      <td>NaN</td>\n",
       "      <td>0.017927</td>\n",
       "      <td>True</td>\n",
       "      <td>False</td>\n",
       "      <td>False</td>\n",
       "      <td>False</td>\n",
       "      <td>65.762474</td>\n",
       "      <td>0.995320</td>\n",
       "    </tr>\n",
       "    <tr>\n",
       "      <th>4</th>\n",
       "      <td>2020-01-08</td>\n",
       "      <td>66.022597</td>\n",
       "      <td>66.046983</td>\n",
       "      <td>65.055261</td>\n",
       "      <td>65.762474</td>\n",
       "      <td>1719114</td>\n",
       "      <td>CBA</td>\n",
       "      <td>CBA</td>\n",
       "      <td>8</td>\n",
       "      <td>1</td>\n",
       "      <td>...</td>\n",
       "      <td>NaN</td>\n",
       "      <td>65.122430</td>\n",
       "      <td>NaN</td>\n",
       "      <td>-0.003694</td>\n",
       "      <td>False</td>\n",
       "      <td>True</td>\n",
       "      <td>False</td>\n",
       "      <td>False</td>\n",
       "      <td>66.242065</td>\n",
       "      <td>1.003955</td>\n",
       "    </tr>\n",
       "    <tr>\n",
       "      <th>...</th>\n",
       "      <td>...</td>\n",
       "      <td>...</td>\n",
       "      <td>...</td>\n",
       "      <td>...</td>\n",
       "      <td>...</td>\n",
       "      <td>...</td>\n",
       "      <td>...</td>\n",
       "      <td>...</td>\n",
       "      <td>...</td>\n",
       "      <td>...</td>\n",
       "      <td>...</td>\n",
       "      <td>...</td>\n",
       "      <td>...</td>\n",
       "      <td>...</td>\n",
       "      <td>...</td>\n",
       "      <td>...</td>\n",
       "      <td>...</td>\n",
       "      <td>...</td>\n",
       "      <td>...</td>\n",
       "      <td>...</td>\n",
       "      <td>...</td>\n",
       "    </tr>\n",
       "    <tr>\n",
       "      <th>220918</th>\n",
       "      <td>2024-12-23</td>\n",
       "      <td>2.890000</td>\n",
       "      <td>3.050000</td>\n",
       "      <td>2.860000</td>\n",
       "      <td>2.960000</td>\n",
       "      <td>8861035</td>\n",
       "      <td>ZIP</td>\n",
       "      <td>ZIP</td>\n",
       "      <td>23</td>\n",
       "      <td>12</td>\n",
       "      <td>...</td>\n",
       "      <td>3.125</td>\n",
       "      <td>3.044340</td>\n",
       "      <td>0.237010</td>\n",
       "      <td>0.045936</td>\n",
       "      <td>False</td>\n",
       "      <td>False</td>\n",
       "      <td>False</td>\n",
       "      <td>False</td>\n",
       "      <td>2.910000</td>\n",
       "      <td>0.976351</td>\n",
       "    </tr>\n",
       "    <tr>\n",
       "      <th>220919</th>\n",
       "      <td>2024-12-24</td>\n",
       "      <td>2.950000</td>\n",
       "      <td>2.960000</td>\n",
       "      <td>2.850000</td>\n",
       "      <td>2.910000</td>\n",
       "      <td>5828918</td>\n",
       "      <td>ZIP</td>\n",
       "      <td>ZIP</td>\n",
       "      <td>24</td>\n",
       "      <td>12</td>\n",
       "      <td>...</td>\n",
       "      <td>3.103</td>\n",
       "      <td>3.031546</td>\n",
       "      <td>0.235441</td>\n",
       "      <td>-0.016892</td>\n",
       "      <td>True</td>\n",
       "      <td>False</td>\n",
       "      <td>False</td>\n",
       "      <td>False</td>\n",
       "      <td>3.060000</td>\n",
       "      <td>1.013746</td>\n",
       "    </tr>\n",
       "    <tr>\n",
       "      <th>220920</th>\n",
       "      <td>2024-12-27</td>\n",
       "      <td>2.950000</td>\n",
       "      <td>3.060000</td>\n",
       "      <td>2.940000</td>\n",
       "      <td>3.060000</td>\n",
       "      <td>7311340</td>\n",
       "      <td>ZIP</td>\n",
       "      <td>ZIP</td>\n",
       "      <td>27</td>\n",
       "      <td>12</td>\n",
       "      <td>...</td>\n",
       "      <td>3.093</td>\n",
       "      <td>3.034256</td>\n",
       "      <td>0.232653</td>\n",
       "      <td>0.051546</td>\n",
       "      <td>False</td>\n",
       "      <td>False</td>\n",
       "      <td>False</td>\n",
       "      <td>True</td>\n",
       "      <td>3.000000</td>\n",
       "      <td>0.964052</td>\n",
       "    </tr>\n",
       "    <tr>\n",
       "      <th>220921</th>\n",
       "      <td>2024-12-30</td>\n",
       "      <td>3.000000</td>\n",
       "      <td>3.100000</td>\n",
       "      <td>2.950000</td>\n",
       "      <td>3.000000</td>\n",
       "      <td>7740629</td>\n",
       "      <td>ZIP</td>\n",
       "      <td>ZIP</td>\n",
       "      <td>30</td>\n",
       "      <td>12</td>\n",
       "      <td>...</td>\n",
       "      <td>3.074</td>\n",
       "      <td>3.030993</td>\n",
       "      <td>0.223310</td>\n",
       "      <td>-0.019608</td>\n",
       "      <td>False</td>\n",
       "      <td>False</td>\n",
       "      <td>False</td>\n",
       "      <td>False</td>\n",
       "      <td>2.960000</td>\n",
       "      <td>1.000000</td>\n",
       "    </tr>\n",
       "    <tr>\n",
       "      <th>220922</th>\n",
       "      <td>2024-12-31</td>\n",
       "      <td>2.980000</td>\n",
       "      <td>3.005000</td>\n",
       "      <td>2.940000</td>\n",
       "      <td>2.960000</td>\n",
       "      <td>4243262</td>\n",
       "      <td>ZIP</td>\n",
       "      <td>ZIP</td>\n",
       "      <td>31</td>\n",
       "      <td>12</td>\n",
       "      <td>...</td>\n",
       "      <td>3.051</td>\n",
       "      <td>3.024232</td>\n",
       "      <td>0.209030</td>\n",
       "      <td>-0.013333</td>\n",
       "      <td>True</td>\n",
       "      <td>False</td>\n",
       "      <td>False</td>\n",
       "      <td>False</td>\n",
       "      <td>NaN</td>\n",
       "      <td>1.006757</td>\n",
       "    </tr>\n",
       "  </tbody>\n",
       "</table>\n",
       "<p>220923 rows × 24 columns</p>\n",
       "</div>"
      ],
      "text/plain": [
       "             Date       Open       High        Low      Close   Volume Name  \\\n",
       "0      2020-01-02  64.860162  65.209704  64.535007  64.933319  1416232  CBA   \n",
       "1      2020-01-03  65.819375  65.998211  65.234096  65.282867  1622784  CBA   \n",
       "2      2020-01-06  64.811385  64.933313  64.404942  64.843895  2129260  CBA   \n",
       "3      2020-01-07  65.697438  66.006332  65.177192  66.006332  2417468  CBA   \n",
       "4      2020-01-08  66.022597  66.046983  65.055261  65.762474  1719114  CBA   \n",
       "...           ...        ...        ...        ...        ...      ...  ...   \n",
       "220918 2024-12-23   2.890000   3.050000   2.860000   2.960000  8861035  ZIP   \n",
       "220919 2024-12-24   2.950000   2.960000   2.850000   2.910000  5828918  ZIP   \n",
       "220920 2024-12-27   2.950000   3.060000   2.940000   3.060000  7311340  ZIP   \n",
       "220921 2024-12-30   3.000000   3.100000   2.950000   3.000000  7740629  ZIP   \n",
       "220922 2024-12-31   2.980000   3.005000   2.940000   2.960000  4243262  ZIP   \n",
       "\n",
       "       Ticker  Day  Month  ...  SMA_20     EMA_20  Volatility  Daily_Return  \\\n",
       "0         CBA    2      1  ...     NaN  64.933319         NaN           NaN   \n",
       "1         CBA    3      1  ...     NaN  64.966609         NaN      0.005383   \n",
       "2         CBA    6      1  ...     NaN  64.954922         NaN     -0.006724   \n",
       "3         CBA    7      1  ...     NaN  65.055057         NaN      0.017927   \n",
       "4         CBA    8      1  ...     NaN  65.122430         NaN     -0.003694   \n",
       "...       ...  ...    ...  ...     ...        ...         ...           ...   \n",
       "220918    ZIP   23     12  ...   3.125   3.044340    0.237010      0.045936   \n",
       "220919    ZIP   24     12  ...   3.103   3.031546    0.235441     -0.016892   \n",
       "220920    ZIP   27     12  ...   3.093   3.034256    0.232653      0.051546   \n",
       "220921    ZIP   30     12  ...   3.074   3.030993    0.223310     -0.019608   \n",
       "220922    ZIP   31     12  ...   3.051   3.024232    0.209030     -0.013333   \n",
       "\n",
       "        DayOfWeek_1  DayOfWeek_2  DayOfWeek_3  DayOfWeek_4  Future_Close  \\\n",
       "0             False        False         True        False     65.282867   \n",
       "1             False        False        False         True     64.843895   \n",
       "2             False        False        False        False     66.006332   \n",
       "3              True        False        False        False     65.762474   \n",
       "4             False         True        False        False     66.242065   \n",
       "...             ...          ...          ...          ...           ...   \n",
       "220918        False        False        False        False      2.910000   \n",
       "220919         True        False        False        False      3.060000   \n",
       "220920        False        False        False         True      3.000000   \n",
       "220921        False        False        False        False      2.960000   \n",
       "220922         True        False        False        False           NaN   \n",
       "\n",
       "        Open_Close_Ratio  \n",
       "0               0.998873  \n",
       "1               1.008218  \n",
       "2               0.999499  \n",
       "3               0.995320  \n",
       "4               1.003955  \n",
       "...                  ...  \n",
       "220918          0.976351  \n",
       "220919          1.013746  \n",
       "220920          0.964052  \n",
       "220921          1.000000  \n",
       "220922          1.006757  \n",
       "\n",
       "[220923 rows x 24 columns]"
      ]
     },
     "execution_count": 16,
     "metadata": {},
     "output_type": "execute_result"
    }
   ],
   "source": [
    "# Calculate volatility indicators\n",
    "df['Volatility'] = df['Close'].rolling(window=20).std()  # 20-day rolling standard deviation\n",
    "\n",
    "# Calculate daily returns as a percentage change from the previous day\n",
    "df['Daily_Return'] = df['Close'].pct_change()            # Daily return calculation\n",
    "\n",
    "# One-hot encode the 'DayOfWeek' categorical feature to use in models\n",
    "df = pd.get_dummies(df, columns=['DayOfWeek'], drop_first=True)  # Drop first to avoid dummy variable trap\n",
    "\n",
    "# Create target variable for future prediction (next day's closing price)\n",
    "df['Future_Close'] = df['Close'].shift(-1)               # Shift closing prices to create a target variable\n",
    "\n",
    "# Create additional features by combining existing ones\n",
    "df['Open_Close_Ratio'] = df['Open'] / df['Close']       # Ratio of opening to closing price\n",
    "\n",
    "df"
   ]
  },
  {
   "cell_type": "code",
   "execution_count": null,
   "id": "3aa8df3c-a26b-43fa-9aef-0d4bfa22ae9d",
   "metadata": {},
   "outputs": [],
   "source": []
  },
  {
   "cell_type": "code",
   "execution_count": 17,
   "id": "6abf3de3-448d-41ca-9892-e91b631af1fa",
   "metadata": {},
   "outputs": [
    {
     "name": "stdout",
     "output_type": "stream",
     "text": [
      "Date                datetime64[ns]\n",
      "Open                       float64\n",
      "High                       float64\n",
      "Low                        float64\n",
      "Close                      float64\n",
      "Volume                       int64\n",
      "Name                        object\n",
      "Ticker                    category\n",
      "Day                          int32\n",
      "Month                        int32\n",
      "Year                         int32\n",
      "Quarter                      int32\n",
      "Prev_Close                 float64\n",
      "SMA_5                      float64\n",
      "SMA_20                     float64\n",
      "EMA_20                     float64\n",
      "Volatility                 float64\n",
      "Daily_Return               float64\n",
      "DayOfWeek_1                   bool\n",
      "DayOfWeek_2                   bool\n",
      "DayOfWeek_3                   bool\n",
      "DayOfWeek_4                   bool\n",
      "Future_Close               float64\n",
      "Open_Close_Ratio           float64\n",
      "dtype: object\n"
     ]
    }
   ],
   "source": [
    "print(df.dtypes)  # Check the data types of each column"
   ]
  },
  {
   "cell_type": "code",
   "execution_count": 18,
   "id": "c15f1dba-ca5d-4d13-8242-f4a5c6e69368",
   "metadata": {},
   "outputs": [
    {
     "data": {
      "text/html": [
       "<div>\n",
       "<style scoped>\n",
       "    .dataframe tbody tr th:only-of-type {\n",
       "        vertical-align: middle;\n",
       "    }\n",
       "\n",
       "    .dataframe tbody tr th {\n",
       "        vertical-align: top;\n",
       "    }\n",
       "\n",
       "    .dataframe thead th {\n",
       "        text-align: right;\n",
       "    }\n",
       "</style>\n",
       "<table border=\"1\" class=\"dataframe\">\n",
       "  <thead>\n",
       "    <tr style=\"text-align: right;\">\n",
       "      <th></th>\n",
       "      <th>Open</th>\n",
       "      <th>High</th>\n",
       "      <th>Low</th>\n",
       "      <th>Close</th>\n",
       "      <th>Volume</th>\n",
       "      <th>Day</th>\n",
       "      <th>Month</th>\n",
       "      <th>Year</th>\n",
       "      <th>Quarter</th>\n",
       "      <th>Prev_Close</th>\n",
       "      <th>SMA_5</th>\n",
       "      <th>SMA_20</th>\n",
       "      <th>EMA_20</th>\n",
       "      <th>Volatility</th>\n",
       "      <th>Daily_Return</th>\n",
       "      <th>Future_Close</th>\n",
       "      <th>Open_Close_Ratio</th>\n",
       "    </tr>\n",
       "  </thead>\n",
       "  <tbody>\n",
       "    <tr>\n",
       "      <th>0</th>\n",
       "      <td>64.860162</td>\n",
       "      <td>65.209704</td>\n",
       "      <td>64.535007</td>\n",
       "      <td>64.933319</td>\n",
       "      <td>1416232</td>\n",
       "      <td>2</td>\n",
       "      <td>1</td>\n",
       "      <td>2020</td>\n",
       "      <td>1</td>\n",
       "      <td>NaN</td>\n",
       "      <td>NaN</td>\n",
       "      <td>NaN</td>\n",
       "      <td>64.933319</td>\n",
       "      <td>NaN</td>\n",
       "      <td>NaN</td>\n",
       "      <td>65.282867</td>\n",
       "      <td>0.998873</td>\n",
       "    </tr>\n",
       "    <tr>\n",
       "      <th>1</th>\n",
       "      <td>65.819375</td>\n",
       "      <td>65.998211</td>\n",
       "      <td>65.234096</td>\n",
       "      <td>65.282867</td>\n",
       "      <td>1622784</td>\n",
       "      <td>3</td>\n",
       "      <td>1</td>\n",
       "      <td>2020</td>\n",
       "      <td>1</td>\n",
       "      <td>64.933319</td>\n",
       "      <td>NaN</td>\n",
       "      <td>NaN</td>\n",
       "      <td>64.966609</td>\n",
       "      <td>NaN</td>\n",
       "      <td>0.005383</td>\n",
       "      <td>64.843895</td>\n",
       "      <td>1.008218</td>\n",
       "    </tr>\n",
       "    <tr>\n",
       "      <th>2</th>\n",
       "      <td>64.811385</td>\n",
       "      <td>64.933313</td>\n",
       "      <td>64.404942</td>\n",
       "      <td>64.843895</td>\n",
       "      <td>2129260</td>\n",
       "      <td>6</td>\n",
       "      <td>1</td>\n",
       "      <td>2020</td>\n",
       "      <td>1</td>\n",
       "      <td>65.282867</td>\n",
       "      <td>NaN</td>\n",
       "      <td>NaN</td>\n",
       "      <td>64.954922</td>\n",
       "      <td>NaN</td>\n",
       "      <td>-0.006724</td>\n",
       "      <td>66.006332</td>\n",
       "      <td>0.999499</td>\n",
       "    </tr>\n",
       "    <tr>\n",
       "      <th>3</th>\n",
       "      <td>65.697438</td>\n",
       "      <td>66.006332</td>\n",
       "      <td>65.177192</td>\n",
       "      <td>66.006332</td>\n",
       "      <td>2417468</td>\n",
       "      <td>7</td>\n",
       "      <td>1</td>\n",
       "      <td>2020</td>\n",
       "      <td>1</td>\n",
       "      <td>64.843895</td>\n",
       "      <td>NaN</td>\n",
       "      <td>NaN</td>\n",
       "      <td>65.055057</td>\n",
       "      <td>NaN</td>\n",
       "      <td>0.017927</td>\n",
       "      <td>65.762474</td>\n",
       "      <td>0.995320</td>\n",
       "    </tr>\n",
       "    <tr>\n",
       "      <th>4</th>\n",
       "      <td>66.022597</td>\n",
       "      <td>66.046983</td>\n",
       "      <td>65.055261</td>\n",
       "      <td>65.762474</td>\n",
       "      <td>1719114</td>\n",
       "      <td>8</td>\n",
       "      <td>1</td>\n",
       "      <td>2020</td>\n",
       "      <td>1</td>\n",
       "      <td>66.006332</td>\n",
       "      <td>65.365778</td>\n",
       "      <td>NaN</td>\n",
       "      <td>65.122430</td>\n",
       "      <td>NaN</td>\n",
       "      <td>-0.003694</td>\n",
       "      <td>66.242065</td>\n",
       "      <td>1.003955</td>\n",
       "    </tr>\n",
       "    <tr>\n",
       "      <th>...</th>\n",
       "      <td>...</td>\n",
       "      <td>...</td>\n",
       "      <td>...</td>\n",
       "      <td>...</td>\n",
       "      <td>...</td>\n",
       "      <td>...</td>\n",
       "      <td>...</td>\n",
       "      <td>...</td>\n",
       "      <td>...</td>\n",
       "      <td>...</td>\n",
       "      <td>...</td>\n",
       "      <td>...</td>\n",
       "      <td>...</td>\n",
       "      <td>...</td>\n",
       "      <td>...</td>\n",
       "      <td>...</td>\n",
       "      <td>...</td>\n",
       "    </tr>\n",
       "    <tr>\n",
       "      <th>220918</th>\n",
       "      <td>2.890000</td>\n",
       "      <td>3.050000</td>\n",
       "      <td>2.860000</td>\n",
       "      <td>2.960000</td>\n",
       "      <td>8861035</td>\n",
       "      <td>23</td>\n",
       "      <td>12</td>\n",
       "      <td>2024</td>\n",
       "      <td>4</td>\n",
       "      <td>2.830000</td>\n",
       "      <td>2.932000</td>\n",
       "      <td>3.125</td>\n",
       "      <td>3.044340</td>\n",
       "      <td>0.237010</td>\n",
       "      <td>0.045936</td>\n",
       "      <td>2.910000</td>\n",
       "      <td>0.976351</td>\n",
       "    </tr>\n",
       "    <tr>\n",
       "      <th>220919</th>\n",
       "      <td>2.950000</td>\n",
       "      <td>2.960000</td>\n",
       "      <td>2.850000</td>\n",
       "      <td>2.910000</td>\n",
       "      <td>5828918</td>\n",
       "      <td>24</td>\n",
       "      <td>12</td>\n",
       "      <td>2024</td>\n",
       "      <td>4</td>\n",
       "      <td>2.960000</td>\n",
       "      <td>2.932000</td>\n",
       "      <td>3.103</td>\n",
       "      <td>3.031546</td>\n",
       "      <td>0.235441</td>\n",
       "      <td>-0.016892</td>\n",
       "      <td>3.060000</td>\n",
       "      <td>1.013746</td>\n",
       "    </tr>\n",
       "    <tr>\n",
       "      <th>220920</th>\n",
       "      <td>2.950000</td>\n",
       "      <td>3.060000</td>\n",
       "      <td>2.940000</td>\n",
       "      <td>3.060000</td>\n",
       "      <td>7311340</td>\n",
       "      <td>27</td>\n",
       "      <td>12</td>\n",
       "      <td>2024</td>\n",
       "      <td>4</td>\n",
       "      <td>2.910000</td>\n",
       "      <td>2.920000</td>\n",
       "      <td>3.093</td>\n",
       "      <td>3.034256</td>\n",
       "      <td>0.232653</td>\n",
       "      <td>0.051546</td>\n",
       "      <td>3.000000</td>\n",
       "      <td>0.964052</td>\n",
       "    </tr>\n",
       "    <tr>\n",
       "      <th>220921</th>\n",
       "      <td>3.000000</td>\n",
       "      <td>3.100000</td>\n",
       "      <td>2.950000</td>\n",
       "      <td>3.000000</td>\n",
       "      <td>7740629</td>\n",
       "      <td>30</td>\n",
       "      <td>12</td>\n",
       "      <td>2024</td>\n",
       "      <td>4</td>\n",
       "      <td>3.060000</td>\n",
       "      <td>2.952000</td>\n",
       "      <td>3.074</td>\n",
       "      <td>3.030993</td>\n",
       "      <td>0.223310</td>\n",
       "      <td>-0.019608</td>\n",
       "      <td>2.960000</td>\n",
       "      <td>1.000000</td>\n",
       "    </tr>\n",
       "    <tr>\n",
       "      <th>220922</th>\n",
       "      <td>2.980000</td>\n",
       "      <td>3.005000</td>\n",
       "      <td>2.940000</td>\n",
       "      <td>2.960000</td>\n",
       "      <td>4243262</td>\n",
       "      <td>31</td>\n",
       "      <td>12</td>\n",
       "      <td>2024</td>\n",
       "      <td>4</td>\n",
       "      <td>3.000000</td>\n",
       "      <td>2.978000</td>\n",
       "      <td>3.051</td>\n",
       "      <td>3.024232</td>\n",
       "      <td>0.209030</td>\n",
       "      <td>-0.013333</td>\n",
       "      <td>NaN</td>\n",
       "      <td>1.006757</td>\n",
       "    </tr>\n",
       "  </tbody>\n",
       "</table>\n",
       "<p>220923 rows × 17 columns</p>\n",
       "</div>"
      ],
      "text/plain": [
       "             Open       High        Low      Close   Volume  Day  Month  Year  \\\n",
       "0       64.860162  65.209704  64.535007  64.933319  1416232    2      1  2020   \n",
       "1       65.819375  65.998211  65.234096  65.282867  1622784    3      1  2020   \n",
       "2       64.811385  64.933313  64.404942  64.843895  2129260    6      1  2020   \n",
       "3       65.697438  66.006332  65.177192  66.006332  2417468    7      1  2020   \n",
       "4       66.022597  66.046983  65.055261  65.762474  1719114    8      1  2020   \n",
       "...           ...        ...        ...        ...      ...  ...    ...   ...   \n",
       "220918   2.890000   3.050000   2.860000   2.960000  8861035   23     12  2024   \n",
       "220919   2.950000   2.960000   2.850000   2.910000  5828918   24     12  2024   \n",
       "220920   2.950000   3.060000   2.940000   3.060000  7311340   27     12  2024   \n",
       "220921   3.000000   3.100000   2.950000   3.000000  7740629   30     12  2024   \n",
       "220922   2.980000   3.005000   2.940000   2.960000  4243262   31     12  2024   \n",
       "\n",
       "        Quarter  Prev_Close      SMA_5  SMA_20     EMA_20  Volatility  \\\n",
       "0             1         NaN        NaN     NaN  64.933319         NaN   \n",
       "1             1   64.933319        NaN     NaN  64.966609         NaN   \n",
       "2             1   65.282867        NaN     NaN  64.954922         NaN   \n",
       "3             1   64.843895        NaN     NaN  65.055057         NaN   \n",
       "4             1   66.006332  65.365778     NaN  65.122430         NaN   \n",
       "...         ...         ...        ...     ...        ...         ...   \n",
       "220918        4    2.830000   2.932000   3.125   3.044340    0.237010   \n",
       "220919        4    2.960000   2.932000   3.103   3.031546    0.235441   \n",
       "220920        4    2.910000   2.920000   3.093   3.034256    0.232653   \n",
       "220921        4    3.060000   2.952000   3.074   3.030993    0.223310   \n",
       "220922        4    3.000000   2.978000   3.051   3.024232    0.209030   \n",
       "\n",
       "        Daily_Return  Future_Close  Open_Close_Ratio  \n",
       "0                NaN     65.282867          0.998873  \n",
       "1           0.005383     64.843895          1.008218  \n",
       "2          -0.006724     66.006332          0.999499  \n",
       "3           0.017927     65.762474          0.995320  \n",
       "4          -0.003694     66.242065          1.003955  \n",
       "...              ...           ...               ...  \n",
       "220918      0.045936      2.910000          0.976351  \n",
       "220919     -0.016892      3.060000          1.013746  \n",
       "220920      0.051546      3.000000          0.964052  \n",
       "220921     -0.019608      2.960000          1.000000  \n",
       "220922     -0.013333           NaN          1.006757  \n",
       "\n",
       "[220923 rows x 17 columns]"
      ]
     },
     "execution_count": 18,
     "metadata": {},
     "output_type": "execute_result"
    }
   ],
   "source": [
    "# Select only the numeric columns to ensure correlation works\n",
    "numeric_df = df.select_dtypes(include=['number'])  # Keeps only numeric columns\n",
    "numeric_df"
   ]
  },
  {
   "cell_type": "code",
   "execution_count": 19,
   "id": "e2df70af-0b04-4977-b113-9dd77f1293e9",
   "metadata": {},
   "outputs": [
    {
     "data": {
      "text/html": [
       "<div>\n",
       "<style scoped>\n",
       "    .dataframe tbody tr th:only-of-type {\n",
       "        vertical-align: middle;\n",
       "    }\n",
       "\n",
       "    .dataframe tbody tr th {\n",
       "        vertical-align: top;\n",
       "    }\n",
       "\n",
       "    .dataframe thead th {\n",
       "        text-align: right;\n",
       "    }\n",
       "</style>\n",
       "<table border=\"1\" class=\"dataframe\">\n",
       "  <thead>\n",
       "    <tr style=\"text-align: right;\">\n",
       "      <th></th>\n",
       "      <th>Open</th>\n",
       "      <th>High</th>\n",
       "      <th>Low</th>\n",
       "      <th>Close</th>\n",
       "      <th>Volume</th>\n",
       "      <th>Day</th>\n",
       "      <th>Month</th>\n",
       "      <th>Year</th>\n",
       "      <th>Quarter</th>\n",
       "      <th>Prev_Close</th>\n",
       "      <th>SMA_5</th>\n",
       "      <th>SMA_20</th>\n",
       "      <th>EMA_20</th>\n",
       "      <th>Volatility</th>\n",
       "      <th>Daily_Return</th>\n",
       "      <th>Future_Close</th>\n",
       "      <th>Open_Close_Ratio</th>\n",
       "    </tr>\n",
       "  </thead>\n",
       "  <tbody>\n",
       "    <tr>\n",
       "      <th>Open</th>\n",
       "      <td>1.000000</td>\n",
       "      <td>0.999931</td>\n",
       "      <td>0.999934</td>\n",
       "      <td>0.999869</td>\n",
       "      <td>-0.156917</td>\n",
       "      <td>0.000339</td>\n",
       "      <td>0.014240</td>\n",
       "      <td>0.053386</td>\n",
       "      <td>0.014153</td>\n",
       "      <td>0.999018</td>\n",
       "      <td>0.998736</td>\n",
       "      <td>0.993241</td>\n",
       "      <td>0.995090</td>\n",
       "      <td>0.337021</td>\n",
       "      <td>0.000732</td>\n",
       "      <td>0.998807</td>\n",
       "      <td>-0.010213</td>\n",
       "    </tr>\n",
       "    <tr>\n",
       "      <th>High</th>\n",
       "      <td>0.999931</td>\n",
       "      <td>1.000000</td>\n",
       "      <td>0.999895</td>\n",
       "      <td>0.999936</td>\n",
       "      <td>-0.157000</td>\n",
       "      <td>0.000337</td>\n",
       "      <td>0.013944</td>\n",
       "      <td>0.052565</td>\n",
       "      <td>0.013806</td>\n",
       "      <td>0.998970</td>\n",
       "      <td>0.998731</td>\n",
       "      <td>0.993263</td>\n",
       "      <td>0.995108</td>\n",
       "      <td>0.337515</td>\n",
       "      <td>0.000855</td>\n",
       "      <td>0.998858</td>\n",
       "      <td>-0.013270</td>\n",
       "    </tr>\n",
       "    <tr>\n",
       "      <th>Low</th>\n",
       "      <td>0.999934</td>\n",
       "      <td>0.999895</td>\n",
       "      <td>1.000000</td>\n",
       "      <td>0.999930</td>\n",
       "      <td>-0.156883</td>\n",
       "      <td>0.000326</td>\n",
       "      <td>0.014599</td>\n",
       "      <td>0.054167</td>\n",
       "      <td>0.014578</td>\n",
       "      <td>0.998956</td>\n",
       "      <td>0.998706</td>\n",
       "      <td>0.993165</td>\n",
       "      <td>0.995025</td>\n",
       "      <td>0.336536</td>\n",
       "      <td>0.000872</td>\n",
       "      <td>0.998849</td>\n",
       "      <td>-0.013456</td>\n",
       "    </tr>\n",
       "    <tr>\n",
       "      <th>Close</th>\n",
       "      <td>0.999869</td>\n",
       "      <td>0.999936</td>\n",
       "      <td>0.999930</td>\n",
       "      <td>1.000000</td>\n",
       "      <td>-0.156940</td>\n",
       "      <td>0.000289</td>\n",
       "      <td>0.014260</td>\n",
       "      <td>0.053496</td>\n",
       "      <td>0.014179</td>\n",
       "      <td>0.998906</td>\n",
       "      <td>0.998698</td>\n",
       "      <td>0.993167</td>\n",
       "      <td>0.995025</td>\n",
       "      <td>0.337101</td>\n",
       "      <td>0.000983</td>\n",
       "      <td>0.998906</td>\n",
       "      <td>-0.016385</td>\n",
       "    </tr>\n",
       "    <tr>\n",
       "      <th>Volume</th>\n",
       "      <td>-0.156917</td>\n",
       "      <td>-0.157000</td>\n",
       "      <td>-0.156883</td>\n",
       "      <td>-0.156940</td>\n",
       "      <td>1.000000</td>\n",
       "      <td>0.020911</td>\n",
       "      <td>-0.014265</td>\n",
       "      <td>-0.055930</td>\n",
       "      <td>-0.024462</td>\n",
       "      <td>-0.156801</td>\n",
       "      <td>-0.156790</td>\n",
       "      <td>-0.156025</td>\n",
       "      <td>-0.156246</td>\n",
       "      <td>-0.059064</td>\n",
       "      <td>-0.000906</td>\n",
       "      <td>-0.156903</td>\n",
       "      <td>0.012233</td>\n",
       "    </tr>\n",
       "    <tr>\n",
       "      <th>Day</th>\n",
       "      <td>0.000339</td>\n",
       "      <td>0.000337</td>\n",
       "      <td>0.000326</td>\n",
       "      <td>0.000289</td>\n",
       "      <td>0.020911</td>\n",
       "      <td>1.000000</td>\n",
       "      <td>-0.007355</td>\n",
       "      <td>-0.003380</td>\n",
       "      <td>-0.001940</td>\n",
       "      <td>0.000011</td>\n",
       "      <td>-0.000092</td>\n",
       "      <td>-0.000617</td>\n",
       "      <td>-0.000375</td>\n",
       "      <td>-0.001797</td>\n",
       "      <td>-0.006605</td>\n",
       "      <td>-0.000052</td>\n",
       "      <td>0.015116</td>\n",
       "    </tr>\n",
       "    <tr>\n",
       "      <th>Month</th>\n",
       "      <td>0.014240</td>\n",
       "      <td>0.013944</td>\n",
       "      <td>0.014599</td>\n",
       "      <td>0.014260</td>\n",
       "      <td>-0.014265</td>\n",
       "      <td>-0.007355</td>\n",
       "      <td>1.000000</td>\n",
       "      <td>-0.003244</td>\n",
       "      <td>0.971421</td>\n",
       "      <td>0.013808</td>\n",
       "      <td>0.013331</td>\n",
       "      <td>0.010023</td>\n",
       "      <td>0.009963</td>\n",
       "      <td>-0.082851</td>\n",
       "      <td>-0.006014</td>\n",
       "      <td>0.014149</td>\n",
       "      <td>-0.006538</td>\n",
       "    </tr>\n",
       "    <tr>\n",
       "      <th>Year</th>\n",
       "      <td>0.053386</td>\n",
       "      <td>0.052565</td>\n",
       "      <td>0.054167</td>\n",
       "      <td>0.053496</td>\n",
       "      <td>-0.055930</td>\n",
       "      <td>-0.003380</td>\n",
       "      <td>-0.003244</td>\n",
       "      <td>1.000000</td>\n",
       "      <td>-0.000747</td>\n",
       "      <td>0.053184</td>\n",
       "      <td>0.052921</td>\n",
       "      <td>0.050597</td>\n",
       "      <td>0.050467</td>\n",
       "      <td>-0.074314</td>\n",
       "      <td>-0.006549</td>\n",
       "      <td>0.053266</td>\n",
       "      <td>-0.005199</td>\n",
       "    </tr>\n",
       "    <tr>\n",
       "      <th>Quarter</th>\n",
       "      <td>0.014153</td>\n",
       "      <td>0.013806</td>\n",
       "      <td>0.014578</td>\n",
       "      <td>0.014179</td>\n",
       "      <td>-0.024462</td>\n",
       "      <td>-0.001940</td>\n",
       "      <td>0.971421</td>\n",
       "      <td>-0.000747</td>\n",
       "      <td>1.000000</td>\n",
       "      <td>0.013723</td>\n",
       "      <td>0.013242</td>\n",
       "      <td>0.009809</td>\n",
       "      <td>0.009889</td>\n",
       "      <td>-0.072238</td>\n",
       "      <td>-0.004632</td>\n",
       "      <td>0.014169</td>\n",
       "      <td>-0.009548</td>\n",
       "    </tr>\n",
       "    <tr>\n",
       "      <th>Prev_Close</th>\n",
       "      <td>0.999018</td>\n",
       "      <td>0.998970</td>\n",
       "      <td>0.998956</td>\n",
       "      <td>0.998906</td>\n",
       "      <td>-0.156801</td>\n",
       "      <td>0.000011</td>\n",
       "      <td>0.013808</td>\n",
       "      <td>0.053184</td>\n",
       "      <td>0.013723</td>\n",
       "      <td>1.000000</td>\n",
       "      <td>0.999346</td>\n",
       "      <td>0.994177</td>\n",
       "      <td>0.995921</td>\n",
       "      <td>0.339219</td>\n",
       "      <td>-0.002628</td>\n",
       "      <td>0.997830</td>\n",
       "      <td>-0.010694</td>\n",
       "    </tr>\n",
       "    <tr>\n",
       "      <th>SMA_5</th>\n",
       "      <td>0.998736</td>\n",
       "      <td>0.998731</td>\n",
       "      <td>0.998706</td>\n",
       "      <td>0.998698</td>\n",
       "      <td>-0.156790</td>\n",
       "      <td>-0.000092</td>\n",
       "      <td>0.013331</td>\n",
       "      <td>0.052921</td>\n",
       "      <td>0.013242</td>\n",
       "      <td>0.999346</td>\n",
       "      <td>1.000000</td>\n",
       "      <td>0.995829</td>\n",
       "      <td>0.997324</td>\n",
       "      <td>0.343299</td>\n",
       "      <td>-0.001900</td>\n",
       "      <td>0.997616</td>\n",
       "      <td>-0.012216</td>\n",
       "    </tr>\n",
       "    <tr>\n",
       "      <th>SMA_20</th>\n",
       "      <td>0.993241</td>\n",
       "      <td>0.993263</td>\n",
       "      <td>0.993165</td>\n",
       "      <td>0.993167</td>\n",
       "      <td>-0.156025</td>\n",
       "      <td>-0.000617</td>\n",
       "      <td>0.010023</td>\n",
       "      <td>0.050597</td>\n",
       "      <td>0.009809</td>\n",
       "      <td>0.994177</td>\n",
       "      <td>0.995829</td>\n",
       "      <td>1.000000</td>\n",
       "      <td>0.999653</td>\n",
       "      <td>0.379503</td>\n",
       "      <td>-0.002459</td>\n",
       "      <td>0.992044</td>\n",
       "      <td>-0.011229</td>\n",
       "    </tr>\n",
       "    <tr>\n",
       "      <th>EMA_20</th>\n",
       "      <td>0.995090</td>\n",
       "      <td>0.995108</td>\n",
       "      <td>0.995025</td>\n",
       "      <td>0.995025</td>\n",
       "      <td>-0.156246</td>\n",
       "      <td>-0.000375</td>\n",
       "      <td>0.009963</td>\n",
       "      <td>0.050467</td>\n",
       "      <td>0.009889</td>\n",
       "      <td>0.995921</td>\n",
       "      <td>0.997324</td>\n",
       "      <td>0.999653</td>\n",
       "      <td>1.000000</td>\n",
       "      <td>0.372717</td>\n",
       "      <td>-0.002294</td>\n",
       "      <td>0.993919</td>\n",
       "      <td>-0.011483</td>\n",
       "    </tr>\n",
       "    <tr>\n",
       "      <th>Volatility</th>\n",
       "      <td>0.337021</td>\n",
       "      <td>0.337515</td>\n",
       "      <td>0.336536</td>\n",
       "      <td>0.337101</td>\n",
       "      <td>-0.059064</td>\n",
       "      <td>-0.001797</td>\n",
       "      <td>-0.082851</td>\n",
       "      <td>-0.074314</td>\n",
       "      <td>-0.072238</td>\n",
       "      <td>0.339219</td>\n",
       "      <td>0.343299</td>\n",
       "      <td>0.379503</td>\n",
       "      <td>0.372717</td>\n",
       "      <td>1.000000</td>\n",
       "      <td>0.004392</td>\n",
       "      <td>0.337151</td>\n",
       "      <td>-0.004402</td>\n",
       "    </tr>\n",
       "    <tr>\n",
       "      <th>Daily_Return</th>\n",
       "      <td>0.000732</td>\n",
       "      <td>0.000855</td>\n",
       "      <td>0.000872</td>\n",
       "      <td>0.000983</td>\n",
       "      <td>-0.000906</td>\n",
       "      <td>-0.006605</td>\n",
       "      <td>-0.006014</td>\n",
       "      <td>-0.006549</td>\n",
       "      <td>-0.004632</td>\n",
       "      <td>-0.002628</td>\n",
       "      <td>-0.001900</td>\n",
       "      <td>-0.002459</td>\n",
       "      <td>-0.002294</td>\n",
       "      <td>0.004392</td>\n",
       "      <td>1.000000</td>\n",
       "      <td>0.000999</td>\n",
       "      <td>-0.040494</td>\n",
       "    </tr>\n",
       "    <tr>\n",
       "      <th>Future_Close</th>\n",
       "      <td>0.998807</td>\n",
       "      <td>0.998858</td>\n",
       "      <td>0.998849</td>\n",
       "      <td>0.998906</td>\n",
       "      <td>-0.156903</td>\n",
       "      <td>-0.000052</td>\n",
       "      <td>0.014149</td>\n",
       "      <td>0.053266</td>\n",
       "      <td>0.014169</td>\n",
       "      <td>0.997830</td>\n",
       "      <td>0.997616</td>\n",
       "      <td>0.992044</td>\n",
       "      <td>0.993919</td>\n",
       "      <td>0.337151</td>\n",
       "      <td>0.000999</td>\n",
       "      <td>1.000000</td>\n",
       "      <td>-0.015923</td>\n",
       "    </tr>\n",
       "    <tr>\n",
       "      <th>Open_Close_Ratio</th>\n",
       "      <td>-0.010213</td>\n",
       "      <td>-0.013270</td>\n",
       "      <td>-0.013456</td>\n",
       "      <td>-0.016385</td>\n",
       "      <td>0.012233</td>\n",
       "      <td>0.015116</td>\n",
       "      <td>-0.006538</td>\n",
       "      <td>-0.005199</td>\n",
       "      <td>-0.009548</td>\n",
       "      <td>-0.010694</td>\n",
       "      <td>-0.012216</td>\n",
       "      <td>-0.011229</td>\n",
       "      <td>-0.011483</td>\n",
       "      <td>-0.004402</td>\n",
       "      <td>-0.040494</td>\n",
       "      <td>-0.015923</td>\n",
       "      <td>1.000000</td>\n",
       "    </tr>\n",
       "  </tbody>\n",
       "</table>\n",
       "</div>"
      ],
      "text/plain": [
       "                      Open      High       Low     Close    Volume       Day  \\\n",
       "Open              1.000000  0.999931  0.999934  0.999869 -0.156917  0.000339   \n",
       "High              0.999931  1.000000  0.999895  0.999936 -0.157000  0.000337   \n",
       "Low               0.999934  0.999895  1.000000  0.999930 -0.156883  0.000326   \n",
       "Close             0.999869  0.999936  0.999930  1.000000 -0.156940  0.000289   \n",
       "Volume           -0.156917 -0.157000 -0.156883 -0.156940  1.000000  0.020911   \n",
       "Day               0.000339  0.000337  0.000326  0.000289  0.020911  1.000000   \n",
       "Month             0.014240  0.013944  0.014599  0.014260 -0.014265 -0.007355   \n",
       "Year              0.053386  0.052565  0.054167  0.053496 -0.055930 -0.003380   \n",
       "Quarter           0.014153  0.013806  0.014578  0.014179 -0.024462 -0.001940   \n",
       "Prev_Close        0.999018  0.998970  0.998956  0.998906 -0.156801  0.000011   \n",
       "SMA_5             0.998736  0.998731  0.998706  0.998698 -0.156790 -0.000092   \n",
       "SMA_20            0.993241  0.993263  0.993165  0.993167 -0.156025 -0.000617   \n",
       "EMA_20            0.995090  0.995108  0.995025  0.995025 -0.156246 -0.000375   \n",
       "Volatility        0.337021  0.337515  0.336536  0.337101 -0.059064 -0.001797   \n",
       "Daily_Return      0.000732  0.000855  0.000872  0.000983 -0.000906 -0.006605   \n",
       "Future_Close      0.998807  0.998858  0.998849  0.998906 -0.156903 -0.000052   \n",
       "Open_Close_Ratio -0.010213 -0.013270 -0.013456 -0.016385  0.012233  0.015116   \n",
       "\n",
       "                     Month      Year   Quarter  Prev_Close     SMA_5  \\\n",
       "Open              0.014240  0.053386  0.014153    0.999018  0.998736   \n",
       "High              0.013944  0.052565  0.013806    0.998970  0.998731   \n",
       "Low               0.014599  0.054167  0.014578    0.998956  0.998706   \n",
       "Close             0.014260  0.053496  0.014179    0.998906  0.998698   \n",
       "Volume           -0.014265 -0.055930 -0.024462   -0.156801 -0.156790   \n",
       "Day              -0.007355 -0.003380 -0.001940    0.000011 -0.000092   \n",
       "Month             1.000000 -0.003244  0.971421    0.013808  0.013331   \n",
       "Year             -0.003244  1.000000 -0.000747    0.053184  0.052921   \n",
       "Quarter           0.971421 -0.000747  1.000000    0.013723  0.013242   \n",
       "Prev_Close        0.013808  0.053184  0.013723    1.000000  0.999346   \n",
       "SMA_5             0.013331  0.052921  0.013242    0.999346  1.000000   \n",
       "SMA_20            0.010023  0.050597  0.009809    0.994177  0.995829   \n",
       "EMA_20            0.009963  0.050467  0.009889    0.995921  0.997324   \n",
       "Volatility       -0.082851 -0.074314 -0.072238    0.339219  0.343299   \n",
       "Daily_Return     -0.006014 -0.006549 -0.004632   -0.002628 -0.001900   \n",
       "Future_Close      0.014149  0.053266  0.014169    0.997830  0.997616   \n",
       "Open_Close_Ratio -0.006538 -0.005199 -0.009548   -0.010694 -0.012216   \n",
       "\n",
       "                    SMA_20    EMA_20  Volatility  Daily_Return  Future_Close  \\\n",
       "Open              0.993241  0.995090    0.337021      0.000732      0.998807   \n",
       "High              0.993263  0.995108    0.337515      0.000855      0.998858   \n",
       "Low               0.993165  0.995025    0.336536      0.000872      0.998849   \n",
       "Close             0.993167  0.995025    0.337101      0.000983      0.998906   \n",
       "Volume           -0.156025 -0.156246   -0.059064     -0.000906     -0.156903   \n",
       "Day              -0.000617 -0.000375   -0.001797     -0.006605     -0.000052   \n",
       "Month             0.010023  0.009963   -0.082851     -0.006014      0.014149   \n",
       "Year              0.050597  0.050467   -0.074314     -0.006549      0.053266   \n",
       "Quarter           0.009809  0.009889   -0.072238     -0.004632      0.014169   \n",
       "Prev_Close        0.994177  0.995921    0.339219     -0.002628      0.997830   \n",
       "SMA_5             0.995829  0.997324    0.343299     -0.001900      0.997616   \n",
       "SMA_20            1.000000  0.999653    0.379503     -0.002459      0.992044   \n",
       "EMA_20            0.999653  1.000000    0.372717     -0.002294      0.993919   \n",
       "Volatility        0.379503  0.372717    1.000000      0.004392      0.337151   \n",
       "Daily_Return     -0.002459 -0.002294    0.004392      1.000000      0.000999   \n",
       "Future_Close      0.992044  0.993919    0.337151      0.000999      1.000000   \n",
       "Open_Close_Ratio -0.011229 -0.011483   -0.004402     -0.040494     -0.015923   \n",
       "\n",
       "                  Open_Close_Ratio  \n",
       "Open                     -0.010213  \n",
       "High                     -0.013270  \n",
       "Low                      -0.013456  \n",
       "Close                    -0.016385  \n",
       "Volume                    0.012233  \n",
       "Day                       0.015116  \n",
       "Month                    -0.006538  \n",
       "Year                     -0.005199  \n",
       "Quarter                  -0.009548  \n",
       "Prev_Close               -0.010694  \n",
       "SMA_5                    -0.012216  \n",
       "SMA_20                   -0.011229  \n",
       "EMA_20                   -0.011483  \n",
       "Volatility               -0.004402  \n",
       "Daily_Return             -0.040494  \n",
       "Future_Close             -0.015923  \n",
       "Open_Close_Ratio          1.000000  "
      ]
     },
     "execution_count": 19,
     "metadata": {},
     "output_type": "execute_result"
    }
   ],
   "source": [
    "# Calculate the correlation matrix on the numeric data\n",
    "correlation_matrix = numeric_df.corr()\n",
    "# Display correlations with the target variable 'Future_Close'\n",
    "correlation_matrix"
   ]
  },
  {
   "cell_type": "code",
   "execution_count": 20,
   "id": "eb66e5c7-115c-46b2-b7e1-7991c889474a",
   "metadata": {},
   "outputs": [
    {
     "name": "stdout",
     "output_type": "stream",
     "text": [
      "Future_Close        1.000000\n",
      "Close               0.998906\n",
      "High                0.998858\n",
      "Low                 0.998849\n",
      "Open                0.998807\n",
      "Prev_Close          0.997830\n",
      "SMA_5               0.997616\n",
      "EMA_20              0.993919\n",
      "SMA_20              0.992044\n",
      "Volatility          0.337151\n",
      "Year                0.053266\n",
      "Quarter             0.014169\n",
      "Month               0.014149\n",
      "Daily_Return        0.000999\n",
      "Day                -0.000052\n",
      "Open_Close_Ratio   -0.015923\n",
      "Volume             -0.156903\n",
      "Name: Future_Close, dtype: float64\n"
     ]
    }
   ],
   "source": [
    "print(correlation_matrix['Future_Close'].sort_values(ascending=False))  # Sort and display\n"
   ]
  },
  {
   "cell_type": "code",
   "execution_count": 21,
   "id": "bec3798e-17fb-4f38-bef3-b9d788d4329e",
   "metadata": {},
   "outputs": [
    {
     "data": {
      "text/html": [
       "<div>\n",
       "<style scoped>\n",
       "    .dataframe tbody tr th:only-of-type {\n",
       "        vertical-align: middle;\n",
       "    }\n",
       "\n",
       "    .dataframe tbody tr th {\n",
       "        vertical-align: top;\n",
       "    }\n",
       "\n",
       "    .dataframe thead th {\n",
       "        text-align: right;\n",
       "    }\n",
       "</style>\n",
       "<table border=\"1\" class=\"dataframe\">\n",
       "  <thead>\n",
       "    <tr style=\"text-align: right;\">\n",
       "      <th></th>\n",
       "      <th>Date</th>\n",
       "      <th>Open</th>\n",
       "      <th>High</th>\n",
       "      <th>Low</th>\n",
       "      <th>Close</th>\n",
       "      <th>Volume</th>\n",
       "      <th>Name</th>\n",
       "      <th>Ticker</th>\n",
       "      <th>Day</th>\n",
       "      <th>Month</th>\n",
       "      <th>...</th>\n",
       "      <th>SMA_20</th>\n",
       "      <th>EMA_20</th>\n",
       "      <th>Volatility</th>\n",
       "      <th>Daily_Return</th>\n",
       "      <th>DayOfWeek_1</th>\n",
       "      <th>DayOfWeek_2</th>\n",
       "      <th>DayOfWeek_3</th>\n",
       "      <th>DayOfWeek_4</th>\n",
       "      <th>Future_Close</th>\n",
       "      <th>Open_Close_Ratio</th>\n",
       "    </tr>\n",
       "  </thead>\n",
       "  <tbody>\n",
       "    <tr>\n",
       "      <th>0</th>\n",
       "      <td>2020-01-02</td>\n",
       "      <td>64.860162</td>\n",
       "      <td>65.209704</td>\n",
       "      <td>64.535007</td>\n",
       "      <td>64.933319</td>\n",
       "      <td>1416232</td>\n",
       "      <td>CBA</td>\n",
       "      <td>CBA</td>\n",
       "      <td>2</td>\n",
       "      <td>1</td>\n",
       "      <td>...</td>\n",
       "      <td>NaN</td>\n",
       "      <td>64.933319</td>\n",
       "      <td>NaN</td>\n",
       "      <td>NaN</td>\n",
       "      <td>False</td>\n",
       "      <td>False</td>\n",
       "      <td>True</td>\n",
       "      <td>False</td>\n",
       "      <td>65.282867</td>\n",
       "      <td>0.998873</td>\n",
       "    </tr>\n",
       "    <tr>\n",
       "      <th>1</th>\n",
       "      <td>2020-01-03</td>\n",
       "      <td>65.819375</td>\n",
       "      <td>65.998211</td>\n",
       "      <td>65.234096</td>\n",
       "      <td>65.282867</td>\n",
       "      <td>1622784</td>\n",
       "      <td>CBA</td>\n",
       "      <td>CBA</td>\n",
       "      <td>3</td>\n",
       "      <td>1</td>\n",
       "      <td>...</td>\n",
       "      <td>NaN</td>\n",
       "      <td>64.966609</td>\n",
       "      <td>NaN</td>\n",
       "      <td>0.005383</td>\n",
       "      <td>False</td>\n",
       "      <td>False</td>\n",
       "      <td>False</td>\n",
       "      <td>True</td>\n",
       "      <td>64.843895</td>\n",
       "      <td>1.008218</td>\n",
       "    </tr>\n",
       "    <tr>\n",
       "      <th>2</th>\n",
       "      <td>2020-01-06</td>\n",
       "      <td>64.811385</td>\n",
       "      <td>64.933313</td>\n",
       "      <td>64.404942</td>\n",
       "      <td>64.843895</td>\n",
       "      <td>2129260</td>\n",
       "      <td>CBA</td>\n",
       "      <td>CBA</td>\n",
       "      <td>6</td>\n",
       "      <td>1</td>\n",
       "      <td>...</td>\n",
       "      <td>NaN</td>\n",
       "      <td>64.954922</td>\n",
       "      <td>NaN</td>\n",
       "      <td>-0.006724</td>\n",
       "      <td>False</td>\n",
       "      <td>False</td>\n",
       "      <td>False</td>\n",
       "      <td>False</td>\n",
       "      <td>66.006332</td>\n",
       "      <td>0.999499</td>\n",
       "    </tr>\n",
       "    <tr>\n",
       "      <th>3</th>\n",
       "      <td>2020-01-07</td>\n",
       "      <td>65.697438</td>\n",
       "      <td>66.006332</td>\n",
       "      <td>65.177192</td>\n",
       "      <td>66.006332</td>\n",
       "      <td>2417468</td>\n",
       "      <td>CBA</td>\n",
       "      <td>CBA</td>\n",
       "      <td>7</td>\n",
       "      <td>1</td>\n",
       "      <td>...</td>\n",
       "      <td>NaN</td>\n",
       "      <td>65.055057</td>\n",
       "      <td>NaN</td>\n",
       "      <td>0.017927</td>\n",
       "      <td>True</td>\n",
       "      <td>False</td>\n",
       "      <td>False</td>\n",
       "      <td>False</td>\n",
       "      <td>65.762474</td>\n",
       "      <td>0.995320</td>\n",
       "    </tr>\n",
       "    <tr>\n",
       "      <th>4</th>\n",
       "      <td>2020-01-08</td>\n",
       "      <td>66.022597</td>\n",
       "      <td>66.046983</td>\n",
       "      <td>65.055261</td>\n",
       "      <td>65.762474</td>\n",
       "      <td>1719114</td>\n",
       "      <td>CBA</td>\n",
       "      <td>CBA</td>\n",
       "      <td>8</td>\n",
       "      <td>1</td>\n",
       "      <td>...</td>\n",
       "      <td>NaN</td>\n",
       "      <td>65.122430</td>\n",
       "      <td>NaN</td>\n",
       "      <td>-0.003694</td>\n",
       "      <td>False</td>\n",
       "      <td>True</td>\n",
       "      <td>False</td>\n",
       "      <td>False</td>\n",
       "      <td>66.242065</td>\n",
       "      <td>1.003955</td>\n",
       "    </tr>\n",
       "    <tr>\n",
       "      <th>...</th>\n",
       "      <td>...</td>\n",
       "      <td>...</td>\n",
       "      <td>...</td>\n",
       "      <td>...</td>\n",
       "      <td>...</td>\n",
       "      <td>...</td>\n",
       "      <td>...</td>\n",
       "      <td>...</td>\n",
       "      <td>...</td>\n",
       "      <td>...</td>\n",
       "      <td>...</td>\n",
       "      <td>...</td>\n",
       "      <td>...</td>\n",
       "      <td>...</td>\n",
       "      <td>...</td>\n",
       "      <td>...</td>\n",
       "      <td>...</td>\n",
       "      <td>...</td>\n",
       "      <td>...</td>\n",
       "      <td>...</td>\n",
       "      <td>...</td>\n",
       "    </tr>\n",
       "    <tr>\n",
       "      <th>220918</th>\n",
       "      <td>2024-12-23</td>\n",
       "      <td>2.890000</td>\n",
       "      <td>3.050000</td>\n",
       "      <td>2.860000</td>\n",
       "      <td>2.960000</td>\n",
       "      <td>8861035</td>\n",
       "      <td>ZIP</td>\n",
       "      <td>ZIP</td>\n",
       "      <td>23</td>\n",
       "      <td>12</td>\n",
       "      <td>...</td>\n",
       "      <td>3.125</td>\n",
       "      <td>3.044340</td>\n",
       "      <td>0.237010</td>\n",
       "      <td>0.045936</td>\n",
       "      <td>False</td>\n",
       "      <td>False</td>\n",
       "      <td>False</td>\n",
       "      <td>False</td>\n",
       "      <td>2.910000</td>\n",
       "      <td>0.976351</td>\n",
       "    </tr>\n",
       "    <tr>\n",
       "      <th>220919</th>\n",
       "      <td>2024-12-24</td>\n",
       "      <td>2.950000</td>\n",
       "      <td>2.960000</td>\n",
       "      <td>2.850000</td>\n",
       "      <td>2.910000</td>\n",
       "      <td>5828918</td>\n",
       "      <td>ZIP</td>\n",
       "      <td>ZIP</td>\n",
       "      <td>24</td>\n",
       "      <td>12</td>\n",
       "      <td>...</td>\n",
       "      <td>3.103</td>\n",
       "      <td>3.031546</td>\n",
       "      <td>0.235441</td>\n",
       "      <td>-0.016892</td>\n",
       "      <td>True</td>\n",
       "      <td>False</td>\n",
       "      <td>False</td>\n",
       "      <td>False</td>\n",
       "      <td>3.060000</td>\n",
       "      <td>1.013746</td>\n",
       "    </tr>\n",
       "    <tr>\n",
       "      <th>220920</th>\n",
       "      <td>2024-12-27</td>\n",
       "      <td>2.950000</td>\n",
       "      <td>3.060000</td>\n",
       "      <td>2.940000</td>\n",
       "      <td>3.060000</td>\n",
       "      <td>7311340</td>\n",
       "      <td>ZIP</td>\n",
       "      <td>ZIP</td>\n",
       "      <td>27</td>\n",
       "      <td>12</td>\n",
       "      <td>...</td>\n",
       "      <td>3.093</td>\n",
       "      <td>3.034256</td>\n",
       "      <td>0.232653</td>\n",
       "      <td>0.051546</td>\n",
       "      <td>False</td>\n",
       "      <td>False</td>\n",
       "      <td>False</td>\n",
       "      <td>True</td>\n",
       "      <td>3.000000</td>\n",
       "      <td>0.964052</td>\n",
       "    </tr>\n",
       "    <tr>\n",
       "      <th>220921</th>\n",
       "      <td>2024-12-30</td>\n",
       "      <td>3.000000</td>\n",
       "      <td>3.100000</td>\n",
       "      <td>2.950000</td>\n",
       "      <td>3.000000</td>\n",
       "      <td>7740629</td>\n",
       "      <td>ZIP</td>\n",
       "      <td>ZIP</td>\n",
       "      <td>30</td>\n",
       "      <td>12</td>\n",
       "      <td>...</td>\n",
       "      <td>3.074</td>\n",
       "      <td>3.030993</td>\n",
       "      <td>0.223310</td>\n",
       "      <td>-0.019608</td>\n",
       "      <td>False</td>\n",
       "      <td>False</td>\n",
       "      <td>False</td>\n",
       "      <td>False</td>\n",
       "      <td>2.960000</td>\n",
       "      <td>1.000000</td>\n",
       "    </tr>\n",
       "    <tr>\n",
       "      <th>220922</th>\n",
       "      <td>2024-12-31</td>\n",
       "      <td>2.980000</td>\n",
       "      <td>3.005000</td>\n",
       "      <td>2.940000</td>\n",
       "      <td>2.960000</td>\n",
       "      <td>4243262</td>\n",
       "      <td>ZIP</td>\n",
       "      <td>ZIP</td>\n",
       "      <td>31</td>\n",
       "      <td>12</td>\n",
       "      <td>...</td>\n",
       "      <td>3.051</td>\n",
       "      <td>3.024232</td>\n",
       "      <td>0.209030</td>\n",
       "      <td>-0.013333</td>\n",
       "      <td>True</td>\n",
       "      <td>False</td>\n",
       "      <td>False</td>\n",
       "      <td>False</td>\n",
       "      <td>NaN</td>\n",
       "      <td>1.006757</td>\n",
       "    </tr>\n",
       "  </tbody>\n",
       "</table>\n",
       "<p>220923 rows × 24 columns</p>\n",
       "</div>"
      ],
      "text/plain": [
       "             Date       Open       High        Low      Close   Volume Name  \\\n",
       "0      2020-01-02  64.860162  65.209704  64.535007  64.933319  1416232  CBA   \n",
       "1      2020-01-03  65.819375  65.998211  65.234096  65.282867  1622784  CBA   \n",
       "2      2020-01-06  64.811385  64.933313  64.404942  64.843895  2129260  CBA   \n",
       "3      2020-01-07  65.697438  66.006332  65.177192  66.006332  2417468  CBA   \n",
       "4      2020-01-08  66.022597  66.046983  65.055261  65.762474  1719114  CBA   \n",
       "...           ...        ...        ...        ...        ...      ...  ...   \n",
       "220918 2024-12-23   2.890000   3.050000   2.860000   2.960000  8861035  ZIP   \n",
       "220919 2024-12-24   2.950000   2.960000   2.850000   2.910000  5828918  ZIP   \n",
       "220920 2024-12-27   2.950000   3.060000   2.940000   3.060000  7311340  ZIP   \n",
       "220921 2024-12-30   3.000000   3.100000   2.950000   3.000000  7740629  ZIP   \n",
       "220922 2024-12-31   2.980000   3.005000   2.940000   2.960000  4243262  ZIP   \n",
       "\n",
       "       Ticker  Day  Month  ...  SMA_20     EMA_20  Volatility  Daily_Return  \\\n",
       "0         CBA    2      1  ...     NaN  64.933319         NaN           NaN   \n",
       "1         CBA    3      1  ...     NaN  64.966609         NaN      0.005383   \n",
       "2         CBA    6      1  ...     NaN  64.954922         NaN     -0.006724   \n",
       "3         CBA    7      1  ...     NaN  65.055057         NaN      0.017927   \n",
       "4         CBA    8      1  ...     NaN  65.122430         NaN     -0.003694   \n",
       "...       ...  ...    ...  ...     ...        ...         ...           ...   \n",
       "220918    ZIP   23     12  ...   3.125   3.044340    0.237010      0.045936   \n",
       "220919    ZIP   24     12  ...   3.103   3.031546    0.235441     -0.016892   \n",
       "220920    ZIP   27     12  ...   3.093   3.034256    0.232653      0.051546   \n",
       "220921    ZIP   30     12  ...   3.074   3.030993    0.223310     -0.019608   \n",
       "220922    ZIP   31     12  ...   3.051   3.024232    0.209030     -0.013333   \n",
       "\n",
       "        DayOfWeek_1  DayOfWeek_2  DayOfWeek_3  DayOfWeek_4  Future_Close  \\\n",
       "0             False        False         True        False     65.282867   \n",
       "1             False        False        False         True     64.843895   \n",
       "2             False        False        False        False     66.006332   \n",
       "3              True        False        False        False     65.762474   \n",
       "4             False         True        False        False     66.242065   \n",
       "...             ...          ...          ...          ...           ...   \n",
       "220918        False        False        False        False      2.910000   \n",
       "220919         True        False        False        False      3.060000   \n",
       "220920        False        False        False         True      3.000000   \n",
       "220921        False        False        False        False      2.960000   \n",
       "220922         True        False        False        False           NaN   \n",
       "\n",
       "        Open_Close_Ratio  \n",
       "0               0.998873  \n",
       "1               1.008218  \n",
       "2               0.999499  \n",
       "3               0.995320  \n",
       "4               1.003955  \n",
       "...                  ...  \n",
       "220918          0.976351  \n",
       "220919          1.013746  \n",
       "220920          0.964052  \n",
       "220921          1.000000  \n",
       "220922          1.006757  \n",
       "\n",
       "[220923 rows x 24 columns]"
      ]
     },
     "execution_count": 21,
     "metadata": {},
     "output_type": "execute_result"
    }
   ],
   "source": [
    "df"
   ]
  },
  {
   "cell_type": "code",
   "execution_count": null,
   "id": "eae484f7-7633-4bf3-8b59-165fc140576c",
   "metadata": {},
   "outputs": [],
   "source": []
  },
  {
   "cell_type": "code",
   "execution_count": null,
   "id": "4506752f-f391-474e-ac14-5f14973c9f44",
   "metadata": {},
   "outputs": [],
   "source": []
  },
  {
   "cell_type": "code",
   "execution_count": null,
   "id": "b53c4bf7-9ab0-4850-b645-38c603754c9f",
   "metadata": {},
   "outputs": [],
   "source": []
  },
  {
   "cell_type": "code",
   "execution_count": null,
   "id": "f28e2808-f20b-493b-9f7e-98e06c1cb147",
   "metadata": {},
   "outputs": [],
   "source": []
  },
  {
   "cell_type": "code",
   "execution_count": null,
   "id": "2552b692-9a40-412c-b75c-f55bf3ba08e0",
   "metadata": {},
   "outputs": [],
   "source": []
  },
  {
   "cell_type": "code",
   "execution_count": null,
   "id": "17aa2d44-2b5f-4e4c-913d-5d3501e1ed47",
   "metadata": {},
   "outputs": [],
   "source": []
  },
  {
   "cell_type": "code",
   "execution_count": null,
   "id": "4ed7a7fe-9e1f-43f7-a415-4e8779b033bb",
   "metadata": {},
   "outputs": [],
   "source": []
  },
  {
   "cell_type": "code",
   "execution_count": null,
   "id": "26b1e1b8-e4ff-4116-acdc-ebad8e7ca7f6",
   "metadata": {},
   "outputs": [],
   "source": []
  },
  {
   "cell_type": "code",
   "execution_count": null,
   "id": "59d3472d-310b-4c82-b5e8-ee58a78ea5bb",
   "metadata": {},
   "outputs": [],
   "source": []
  },
  {
   "cell_type": "code",
   "execution_count": null,
   "id": "0960955e-6950-457f-898c-2750089f077f",
   "metadata": {},
   "outputs": [],
   "source": []
  },
  {
   "cell_type": "code",
   "execution_count": null,
   "id": "d1577591-e784-4aea-92b1-5fec24595f6f",
   "metadata": {},
   "outputs": [],
   "source": []
  },
  {
   "cell_type": "code",
   "execution_count": null,
   "id": "ed16c2cc-09b3-4995-b78a-313e8fd8ea81",
   "metadata": {},
   "outputs": [],
   "source": []
  },
  {
   "cell_type": "code",
   "execution_count": null,
   "id": "bf287579-99ac-41a0-8848-1d241222f038",
   "metadata": {},
   "outputs": [],
   "source": []
  },
  {
   "cell_type": "code",
   "execution_count": null,
   "id": "9c0116ff-6a43-4cfd-bd6f-258da42a901c",
   "metadata": {},
   "outputs": [],
   "source": []
  },
  {
   "cell_type": "code",
   "execution_count": null,
   "id": "76ac831c-78dc-489e-9f65-62d16c180b03",
   "metadata": {},
   "outputs": [],
   "source": []
  },
  {
   "cell_type": "code",
   "execution_count": null,
   "id": "ba8bdede-e455-4bb0-8050-caf32e010fca",
   "metadata": {},
   "outputs": [],
   "source": []
  },
  {
   "cell_type": "code",
   "execution_count": null,
   "id": "ca1a0cfb-e844-44f7-9484-c4e7c3d9fdd5",
   "metadata": {},
   "outputs": [],
   "source": []
  },
  {
   "cell_type": "code",
   "execution_count": null,
   "id": "f39c575e-917e-4b08-bb48-80ef28df179b",
   "metadata": {},
   "outputs": [],
   "source": []
  },
  {
   "cell_type": "code",
   "execution_count": null,
   "id": "a51e7de5-d898-49f7-98c0-2ece9a31df49",
   "metadata": {},
   "outputs": [],
   "source": []
  },
  {
   "cell_type": "code",
   "execution_count": null,
   "id": "fbbf2f2a-640f-488c-9002-93e62f003f92",
   "metadata": {},
   "outputs": [],
   "source": []
  },
  {
   "cell_type": "code",
   "execution_count": null,
   "id": "96596ec9-baca-4b15-9329-2f26712474aa",
   "metadata": {},
   "outputs": [],
   "source": []
  },
  {
   "cell_type": "code",
   "execution_count": null,
   "id": "a7917068-c554-45ba-bced-f142180a7906",
   "metadata": {},
   "outputs": [],
   "source": []
  },
  {
   "cell_type": "code",
   "execution_count": null,
   "id": "fb9fc1f6-29cf-4ab3-a5f0-5709482f625b",
   "metadata": {},
   "outputs": [],
   "source": []
  },
  {
   "cell_type": "code",
   "execution_count": null,
   "id": "75bbd1e5-a5f8-407f-89ef-9279aaf4c182",
   "metadata": {},
   "outputs": [],
   "source": []
  },
  {
   "cell_type": "code",
   "execution_count": 24,
   "id": "9c8ccc45-8cd4-4bbb-8b42-6d6a64f30577",
   "metadata": {},
   "outputs": [
    {
     "name": "stdout",
     "output_type": "stream",
     "text": [
      "Rows with missing values:\n",
      "             Date       Open       High        Low      Close   Volume Name  \\\n",
      "0      2020-01-02  64.860162  65.209704  64.535007  64.933319  1416232  CBA   \n",
      "1      2020-01-03  65.819375  65.998211  65.234096  65.282867  1622784  CBA   \n",
      "2      2020-01-06  64.811385  64.933313  64.404942  64.843895  2129260  CBA   \n",
      "3      2020-01-07  65.697438  66.006332  65.177192  66.006332  2417468  CBA   \n",
      "4      2020-01-08  66.022597  66.046983  65.055261  65.762474  1719114  CBA   \n",
      "5      2020-01-09  66.250196  66.526574  65.981942  66.242065  3014295  CBA   \n",
      "6      2020-01-10  66.355882  67.063095  66.335565  67.063095  2875353  CBA   \n",
      "7      2020-01-13  66.737913  67.128101  66.437150  67.046814  1434635  CBA   \n",
      "8      2020-01-14  67.437007  67.892221  67.282556  67.607712  2703855  CBA   \n",
      "9      2020-01-15  67.550815  68.095447  67.550815  68.006035  2039328  CBA   \n",
      "10     2020-01-16  68.282407  68.656334  68.184859  68.656334  3058484  CBA   \n",
      "11     2020-01-17  68.883954  69.062790  68.290551  68.323067  2401336  CBA   \n",
      "12     2020-01-20  68.282419  68.607575  68.144230  68.225517  1980399  CBA   \n",
      "13     2020-01-21  68.184868  68.184868  67.632105  67.859718  1923944  CBA   \n",
      "14     2020-01-22  67.875970  68.737627  67.867839  68.648209  3656698  CBA   \n",
      "15     2020-01-23  68.640082  69.054650  68.493763  68.705109  2105704  CBA   \n",
      "16     2020-01-24  69.014008  69.420451  68.908329  69.046524  2839291  CBA   \n",
      "17     2020-01-28  68.038552  68.339322  67.908494  68.298676  2273413  CBA   \n",
      "18     2020-01-29  68.640085  68.981496  68.412478  68.778275  1877335  CBA   \n",
      "220922 2024-12-31   2.980000   3.005000   2.940000   2.960000  4243262  ZIP   \n",
      "\n",
      "       Ticker  Day  Month  ...  SMA_20     EMA_20  Volatility  Daily_Return  \\\n",
      "0         CBA    2      1  ...     NaN  64.933319         NaN           NaN   \n",
      "1         CBA    3      1  ...     NaN  64.966609         NaN      0.005383   \n",
      "2         CBA    6      1  ...     NaN  64.954922         NaN     -0.006724   \n",
      "3         CBA    7      1  ...     NaN  65.055057         NaN      0.017927   \n",
      "4         CBA    8      1  ...     NaN  65.122430         NaN     -0.003694   \n",
      "5         CBA    9      1  ...     NaN  65.229062         NaN      0.007293   \n",
      "6         CBA   10      1  ...     NaN  65.403732         NaN      0.012394   \n",
      "7         CBA   13      1  ...     NaN  65.560216         NaN     -0.000243   \n",
      "8         CBA   14      1  ...     NaN  65.755215         NaN      0.008366   \n",
      "9         CBA   15      1  ...     NaN  65.969579         NaN      0.005892   \n",
      "10        CBA   16      1  ...     NaN  66.225460         NaN      0.009562   \n",
      "11        CBA   17      1  ...     NaN  66.425232         NaN     -0.004854   \n",
      "12        CBA   20      1  ...     NaN  66.596688         NaN     -0.001428   \n",
      "13        CBA   21      1  ...     NaN  66.716977         NaN     -0.005362   \n",
      "14        CBA   22      1  ...     NaN  66.900904         NaN      0.011619   \n",
      "15        CBA   23      1  ...     NaN  67.072733         NaN      0.000829   \n",
      "16        CBA   24      1  ...     NaN  67.260713         NaN      0.004969   \n",
      "17        CBA   28      1  ...     NaN  67.359566         NaN     -0.010831   \n",
      "18        CBA   29      1  ...     NaN  67.494681         NaN      0.007022   \n",
      "220922    ZIP   31     12  ...   3.051   3.024232     0.20903     -0.013333   \n",
      "\n",
      "        DayOfWeek_1  DayOfWeek_2  DayOfWeek_3  DayOfWeek_4  Future_Close  \\\n",
      "0             False        False         True        False     65.282867   \n",
      "1             False        False        False         True     64.843895   \n",
      "2             False        False        False        False     66.006332   \n",
      "3              True        False        False        False     65.762474   \n",
      "4             False         True        False        False     66.242065   \n",
      "5             False        False         True        False     67.063095   \n",
      "6             False        False        False         True     67.046814   \n",
      "7             False        False        False        False     67.607712   \n",
      "8              True        False        False        False     68.006035   \n",
      "9             False         True        False        False     68.656334   \n",
      "10            False        False         True        False     68.323067   \n",
      "11            False        False        False         True     68.225517   \n",
      "12            False        False        False        False     67.859718   \n",
      "13             True        False        False        False     68.648209   \n",
      "14            False         True        False        False     68.705109   \n",
      "15            False        False         True        False     69.046524   \n",
      "16            False        False        False         True     68.298676   \n",
      "17             True        False        False        False     68.778275   \n",
      "18            False         True        False        False     69.452965   \n",
      "220922         True        False        False        False           NaN   \n",
      "\n",
      "        Open_Close_Ratio  \n",
      "0               0.998873  \n",
      "1               1.008218  \n",
      "2               0.999499  \n",
      "3               0.995320  \n",
      "4               1.003955  \n",
      "5               1.000123  \n",
      "6               0.989455  \n",
      "7               0.995393  \n",
      "8               0.997475  \n",
      "9               0.993306  \n",
      "10              0.994554  \n",
      "11              1.008209  \n",
      "12              1.000834  \n",
      "13              1.004791  \n",
      "14              0.988751  \n",
      "15              0.999054  \n",
      "16              0.999529  \n",
      "17              0.996191  \n",
      "18              0.997991  \n",
      "220922          1.006757  \n",
      "\n",
      "[20 rows x 24 columns]\n"
     ]
    }
   ],
   "source": [
    "import pandas as pd\n",
    "\n",
    "# Assuming df is your DataFrame\n",
    "rows_with_missing = df[df.isnull().any(axis=1)]\n",
    "\n",
    "print(\"Rows with missing values:\")\n",
    "print(rows_with_missing)"
   ]
  },
  {
   "cell_type": "code",
   "execution_count": 25,
   "id": "b2454290-a5c2-47d6-ae37-73744db63b71",
   "metadata": {},
   "outputs": [
    {
     "name": "stdout",
     "output_type": "stream",
     "text": [
      "DataFrame after dropping rows with missing values:\n",
      "             Date       Open       High        Low      Close    Volume Name  \\\n",
      "0      2020-01-30  68.965228  69.452965  68.835170  69.452965   3176161  CBA   \n",
      "1      2020-01-31  69.558656  69.883812  69.014024  69.306664   6713764  CBA   \n",
      "2      2020-02-03  68.404344  69.054649  68.331181  68.729500   2139581  CBA   \n",
      "3      2020-02-04  68.607572  68.843309  68.253962  68.534409   2564013  CBA   \n",
      "4      2020-02-05  69.095293  69.095293  67.697128  67.697128   3166202  CBA   \n",
      "...           ...        ...        ...        ...        ...       ...  ...   \n",
      "220898 2024-12-20   2.860000   2.920000   2.800000   2.830000  16979823  ZIP   \n",
      "220899 2024-12-23   2.890000   3.050000   2.860000   2.960000   8861035  ZIP   \n",
      "220900 2024-12-24   2.950000   2.960000   2.850000   2.910000   5828918  ZIP   \n",
      "220901 2024-12-27   2.950000   3.060000   2.940000   3.060000   7311340  ZIP   \n",
      "220902 2024-12-30   3.000000   3.100000   2.950000   3.000000   7740629  ZIP   \n",
      "\n",
      "       Ticker  Day  Month  ...     SMA_20     EMA_20  Volatility  \\\n",
      "0         CBA   30      1  ...  67.439450  67.681185    1.449140   \n",
      "1         CBA   31      1  ...  67.658117  67.835992    1.379352   \n",
      "2         CBA    3      2  ...  67.830449  67.921088    1.278603   \n",
      "3         CBA    4      2  ...  68.014975  67.979500    1.074997   \n",
      "4         CBA    5      2  ...  68.099514  67.952607    0.970084   \n",
      "...       ...  ...    ...  ...        ...        ...         ...   \n",
      "220898    ZIP   20     12  ...   3.144500   3.053218    0.238757   \n",
      "220899    ZIP   23     12  ...   3.125000   3.044340    0.237010   \n",
      "220900    ZIP   24     12  ...   3.103000   3.031546    0.235441   \n",
      "220901    ZIP   27     12  ...   3.093000   3.034256    0.232653   \n",
      "220902    ZIP   30     12  ...   3.074000   3.030993    0.223310   \n",
      "\n",
      "        Daily_Return  DayOfWeek_1  DayOfWeek_2  DayOfWeek_3  DayOfWeek_4  \\\n",
      "0           0.009810        False        False         True        False   \n",
      "1          -0.002106        False        False        False         True   \n",
      "2          -0.008328        False        False        False        False   \n",
      "3          -0.002839         True        False        False        False   \n",
      "4          -0.012217        False         True        False        False   \n",
      "...              ...          ...          ...          ...          ...   \n",
      "220898     -0.003521        False        False        False         True   \n",
      "220899      0.045936        False        False        False        False   \n",
      "220900     -0.016892         True        False        False        False   \n",
      "220901      0.051546        False        False        False         True   \n",
      "220902     -0.019608        False        False        False        False   \n",
      "\n",
      "        Future_Close  Open_Close_Ratio  \n",
      "0          69.306664          0.992977  \n",
      "1          68.729500          1.003636  \n",
      "2          68.534409          0.995269  \n",
      "3          67.697128          1.001068  \n",
      "4          68.469383          1.020653  \n",
      "...              ...               ...  \n",
      "220898      2.960000          1.010601  \n",
      "220899      2.910000          0.976351  \n",
      "220900      3.060000          1.013746  \n",
      "220901      3.000000          0.964052  \n",
      "220902      2.960000          1.000000  \n",
      "\n",
      "[220903 rows x 24 columns]\n"
     ]
    }
   ],
   "source": [
    "import pandas as pd\n",
    "\n",
    "# Assuming df is your DataFrame\n",
    "df_cleaned = df.dropna()\n",
    "\n",
    "# Optionally, you can reset the index of the cleaned DataFrame\n",
    "df_cleaned.reset_index(drop=True, inplace=True)\n",
    "\n",
    "print(\"DataFrame after dropping rows with missing values:\")\n",
    "print(df_cleaned)"
   ]
  },
  {
   "cell_type": "code",
   "execution_count": 28,
   "id": "6bec1ceb-3026-4c80-857a-b78adf65e264",
   "metadata": {},
   "outputs": [
    {
     "name": "stdout",
     "output_type": "stream",
     "text": [
      "Columns with missing values: []\n"
     ]
    }
   ],
   "source": [
    "import pandas as pd\n",
    "\n",
    "# Assuming df is your DataFrame\n",
    "missing_cols = df_cleaned.columns[df_cleaned.isnull().any()].tolist()\n",
    "\n",
    "print(\"Columns with missing values:\", missing_cols)"
   ]
  },
  {
   "cell_type": "code",
   "execution_count": 29,
   "id": "5a6095df-7dbc-423a-b662-4b1cea91e6d8",
   "metadata": {},
   "outputs": [
    {
     "ename": "ValueError",
     "evalue": "Input X contains NaN.\nPolynomialFeatures does not accept missing values encoded as NaN natively. For supervised learning, you might want to consider sklearn.ensemble.HistGradientBoostingClassifier and Regressor which accept missing values encoded as NaNs natively. Alternatively, it is possible to preprocess the data, for instance by using an imputer transformer in a pipeline or drop samples with missing values. See https://scikit-learn.org/stable/modules/impute.html You can find a list of all estimators that handle NaN values at the following page: https://scikit-learn.org/stable/modules/impute.html#estimators-that-handle-nan-values",
     "output_type": "error",
     "traceback": [
      "\u001b[0;31m---------------------------------------------------------------------------\u001b[0m",
      "\u001b[0;31mValueError\u001b[0m                                Traceback (most recent call last)",
      "Cell \u001b[0;32mIn[29], line 27\u001b[0m\n\u001b[1;32m     25\u001b[0m \u001b[38;5;66;03m# Step 4: Create polynomial features for 'Volatility' (2nd degree polynomial)\u001b[39;00m\n\u001b[1;32m     26\u001b[0m poly \u001b[38;5;241m=\u001b[39m PolynomialFeatures(degree\u001b[38;5;241m=\u001b[39m\u001b[38;5;241m2\u001b[39m, include_bias\u001b[38;5;241m=\u001b[39m\u001b[38;5;28;01mFalse\u001b[39;00m)\n\u001b[0;32m---> 27\u001b[0m volatility_poly \u001b[38;5;241m=\u001b[39m poly\u001b[38;5;241m.\u001b[39mfit_transform(dff[[\u001b[38;5;124m'\u001b[39m\u001b[38;5;124mVolatility\u001b[39m\u001b[38;5;124m'\u001b[39m]])\n\u001b[1;32m     28\u001b[0m volatility_poly_df \u001b[38;5;241m=\u001b[39m pd\u001b[38;5;241m.\u001b[39mDataFrame(volatility_poly, columns\u001b[38;5;241m=\u001b[39m[\u001b[38;5;124m'\u001b[39m\u001b[38;5;124mVolatility\u001b[39m\u001b[38;5;124m'\u001b[39m, \u001b[38;5;124m'\u001b[39m\u001b[38;5;124mVolatility^2\u001b[39m\u001b[38;5;124m'\u001b[39m])\n\u001b[1;32m     30\u001b[0m \u001b[38;5;66;03m# Combine the polynomial features with the new DataFrame\u001b[39;00m\n",
      "File \u001b[0;32m/opt/anaconda3/lib/python3.11/site-packages/sklearn/utils/_set_output.py:140\u001b[0m, in \u001b[0;36m_wrap_method_output.<locals>.wrapped\u001b[0;34m(self, X, *args, **kwargs)\u001b[0m\n\u001b[1;32m    138\u001b[0m \u001b[38;5;129m@wraps\u001b[39m(f)\n\u001b[1;32m    139\u001b[0m \u001b[38;5;28;01mdef\u001b[39;00m \u001b[38;5;21mwrapped\u001b[39m(\u001b[38;5;28mself\u001b[39m, X, \u001b[38;5;241m*\u001b[39margs, \u001b[38;5;241m*\u001b[39m\u001b[38;5;241m*\u001b[39mkwargs):\n\u001b[0;32m--> 140\u001b[0m     data_to_wrap \u001b[38;5;241m=\u001b[39m f(\u001b[38;5;28mself\u001b[39m, X, \u001b[38;5;241m*\u001b[39margs, \u001b[38;5;241m*\u001b[39m\u001b[38;5;241m*\u001b[39mkwargs)\n\u001b[1;32m    141\u001b[0m     \u001b[38;5;28;01mif\u001b[39;00m \u001b[38;5;28misinstance\u001b[39m(data_to_wrap, \u001b[38;5;28mtuple\u001b[39m):\n\u001b[1;32m    142\u001b[0m         \u001b[38;5;66;03m# only wrap the first output for cross decomposition\u001b[39;00m\n\u001b[1;32m    143\u001b[0m         \u001b[38;5;28;01mreturn\u001b[39;00m (\n\u001b[1;32m    144\u001b[0m             _wrap_data_with_container(method, data_to_wrap[\u001b[38;5;241m0\u001b[39m], X, \u001b[38;5;28mself\u001b[39m),\n\u001b[1;32m    145\u001b[0m             \u001b[38;5;241m*\u001b[39mdata_to_wrap[\u001b[38;5;241m1\u001b[39m:],\n\u001b[1;32m    146\u001b[0m         )\n",
      "File \u001b[0;32m/opt/anaconda3/lib/python3.11/site-packages/sklearn/base.py:878\u001b[0m, in \u001b[0;36mTransformerMixin.fit_transform\u001b[0;34m(self, X, y, **fit_params)\u001b[0m\n\u001b[1;32m    874\u001b[0m \u001b[38;5;66;03m# non-optimized default implementation; override when a better\u001b[39;00m\n\u001b[1;32m    875\u001b[0m \u001b[38;5;66;03m# method is possible for a given clustering algorithm\u001b[39;00m\n\u001b[1;32m    876\u001b[0m \u001b[38;5;28;01mif\u001b[39;00m y \u001b[38;5;129;01mis\u001b[39;00m \u001b[38;5;28;01mNone\u001b[39;00m:\n\u001b[1;32m    877\u001b[0m     \u001b[38;5;66;03m# fit method of arity 1 (unsupervised transformation)\u001b[39;00m\n\u001b[0;32m--> 878\u001b[0m     \u001b[38;5;28;01mreturn\u001b[39;00m \u001b[38;5;28mself\u001b[39m\u001b[38;5;241m.\u001b[39mfit(X, \u001b[38;5;241m*\u001b[39m\u001b[38;5;241m*\u001b[39mfit_params)\u001b[38;5;241m.\u001b[39mtransform(X)\n\u001b[1;32m    879\u001b[0m \u001b[38;5;28;01melse\u001b[39;00m:\n\u001b[1;32m    880\u001b[0m     \u001b[38;5;66;03m# fit method of arity 2 (supervised transformation)\u001b[39;00m\n\u001b[1;32m    881\u001b[0m     \u001b[38;5;28;01mreturn\u001b[39;00m \u001b[38;5;28mself\u001b[39m\u001b[38;5;241m.\u001b[39mfit(X, y, \u001b[38;5;241m*\u001b[39m\u001b[38;5;241m*\u001b[39mfit_params)\u001b[38;5;241m.\u001b[39mtransform(X)\n",
      "File \u001b[0;32m/opt/anaconda3/lib/python3.11/site-packages/sklearn/preprocessing/_polynomial.py:252\u001b[0m, in \u001b[0;36mPolynomialFeatures.fit\u001b[0;34m(self, X, y)\u001b[0m\n\u001b[1;32m    235\u001b[0m \u001b[38;5;250m\u001b[39m\u001b[38;5;124;03m\"\"\"\u001b[39;00m\n\u001b[1;32m    236\u001b[0m \u001b[38;5;124;03mCompute number of output features.\u001b[39;00m\n\u001b[1;32m    237\u001b[0m \n\u001b[0;32m   (...)\u001b[0m\n\u001b[1;32m    249\u001b[0m \u001b[38;5;124;03m    Fitted transformer.\u001b[39;00m\n\u001b[1;32m    250\u001b[0m \u001b[38;5;124;03m\"\"\"\u001b[39;00m\n\u001b[1;32m    251\u001b[0m \u001b[38;5;28mself\u001b[39m\u001b[38;5;241m.\u001b[39m_validate_params()\n\u001b[0;32m--> 252\u001b[0m _, n_features \u001b[38;5;241m=\u001b[39m \u001b[38;5;28mself\u001b[39m\u001b[38;5;241m.\u001b[39m_validate_data(X, accept_sparse\u001b[38;5;241m=\u001b[39m\u001b[38;5;28;01mTrue\u001b[39;00m)\u001b[38;5;241m.\u001b[39mshape\n\u001b[1;32m    254\u001b[0m \u001b[38;5;28;01mif\u001b[39;00m \u001b[38;5;28misinstance\u001b[39m(\u001b[38;5;28mself\u001b[39m\u001b[38;5;241m.\u001b[39mdegree, Integral):\n\u001b[1;32m    255\u001b[0m     \u001b[38;5;28;01mif\u001b[39;00m \u001b[38;5;28mself\u001b[39m\u001b[38;5;241m.\u001b[39mdegree \u001b[38;5;241m==\u001b[39m \u001b[38;5;241m0\u001b[39m \u001b[38;5;129;01mand\u001b[39;00m \u001b[38;5;129;01mnot\u001b[39;00m \u001b[38;5;28mself\u001b[39m\u001b[38;5;241m.\u001b[39minclude_bias:\n",
      "File \u001b[0;32m/opt/anaconda3/lib/python3.11/site-packages/sklearn/base.py:565\u001b[0m, in \u001b[0;36mBaseEstimator._validate_data\u001b[0;34m(self, X, y, reset, validate_separately, **check_params)\u001b[0m\n\u001b[1;32m    563\u001b[0m     \u001b[38;5;28;01mraise\u001b[39;00m \u001b[38;5;167;01mValueError\u001b[39;00m(\u001b[38;5;124m\"\u001b[39m\u001b[38;5;124mValidation should be done on X, y or both.\u001b[39m\u001b[38;5;124m\"\u001b[39m)\n\u001b[1;32m    564\u001b[0m \u001b[38;5;28;01melif\u001b[39;00m \u001b[38;5;129;01mnot\u001b[39;00m no_val_X \u001b[38;5;129;01mand\u001b[39;00m no_val_y:\n\u001b[0;32m--> 565\u001b[0m     X \u001b[38;5;241m=\u001b[39m check_array(X, input_name\u001b[38;5;241m=\u001b[39m\u001b[38;5;124m\"\u001b[39m\u001b[38;5;124mX\u001b[39m\u001b[38;5;124m\"\u001b[39m, \u001b[38;5;241m*\u001b[39m\u001b[38;5;241m*\u001b[39mcheck_params)\n\u001b[1;32m    566\u001b[0m     out \u001b[38;5;241m=\u001b[39m X\n\u001b[1;32m    567\u001b[0m \u001b[38;5;28;01melif\u001b[39;00m no_val_X \u001b[38;5;129;01mand\u001b[39;00m \u001b[38;5;129;01mnot\u001b[39;00m no_val_y:\n",
      "File \u001b[0;32m/opt/anaconda3/lib/python3.11/site-packages/sklearn/utils/validation.py:921\u001b[0m, in \u001b[0;36mcheck_array\u001b[0;34m(array, accept_sparse, accept_large_sparse, dtype, order, copy, force_all_finite, ensure_2d, allow_nd, ensure_min_samples, ensure_min_features, estimator, input_name)\u001b[0m\n\u001b[1;32m    915\u001b[0m         \u001b[38;5;28;01mraise\u001b[39;00m \u001b[38;5;167;01mValueError\u001b[39;00m(\n\u001b[1;32m    916\u001b[0m             \u001b[38;5;124m\"\u001b[39m\u001b[38;5;124mFound array with dim \u001b[39m\u001b[38;5;132;01m%d\u001b[39;00m\u001b[38;5;124m. \u001b[39m\u001b[38;5;132;01m%s\u001b[39;00m\u001b[38;5;124m expected <= 2.\u001b[39m\u001b[38;5;124m\"\u001b[39m\n\u001b[1;32m    917\u001b[0m             \u001b[38;5;241m%\u001b[39m (array\u001b[38;5;241m.\u001b[39mndim, estimator_name)\n\u001b[1;32m    918\u001b[0m         )\n\u001b[1;32m    920\u001b[0m     \u001b[38;5;28;01mif\u001b[39;00m force_all_finite:\n\u001b[0;32m--> 921\u001b[0m         _assert_all_finite(\n\u001b[1;32m    922\u001b[0m             array,\n\u001b[1;32m    923\u001b[0m             input_name\u001b[38;5;241m=\u001b[39minput_name,\n\u001b[1;32m    924\u001b[0m             estimator_name\u001b[38;5;241m=\u001b[39mestimator_name,\n\u001b[1;32m    925\u001b[0m             allow_nan\u001b[38;5;241m=\u001b[39mforce_all_finite \u001b[38;5;241m==\u001b[39m \u001b[38;5;124m\"\u001b[39m\u001b[38;5;124mallow-nan\u001b[39m\u001b[38;5;124m\"\u001b[39m,\n\u001b[1;32m    926\u001b[0m         )\n\u001b[1;32m    928\u001b[0m \u001b[38;5;28;01mif\u001b[39;00m ensure_min_samples \u001b[38;5;241m>\u001b[39m \u001b[38;5;241m0\u001b[39m:\n\u001b[1;32m    929\u001b[0m     n_samples \u001b[38;5;241m=\u001b[39m _num_samples(array)\n",
      "File \u001b[0;32m/opt/anaconda3/lib/python3.11/site-packages/sklearn/utils/validation.py:161\u001b[0m, in \u001b[0;36m_assert_all_finite\u001b[0;34m(X, allow_nan, msg_dtype, estimator_name, input_name)\u001b[0m\n\u001b[1;32m    144\u001b[0m \u001b[38;5;28;01mif\u001b[39;00m estimator_name \u001b[38;5;129;01mand\u001b[39;00m input_name \u001b[38;5;241m==\u001b[39m \u001b[38;5;124m\"\u001b[39m\u001b[38;5;124mX\u001b[39m\u001b[38;5;124m\"\u001b[39m \u001b[38;5;129;01mand\u001b[39;00m has_nan_error:\n\u001b[1;32m    145\u001b[0m     \u001b[38;5;66;03m# Improve the error message on how to handle missing values in\u001b[39;00m\n\u001b[1;32m    146\u001b[0m     \u001b[38;5;66;03m# scikit-learn.\u001b[39;00m\n\u001b[1;32m    147\u001b[0m     msg_err \u001b[38;5;241m+\u001b[39m\u001b[38;5;241m=\u001b[39m (\n\u001b[1;32m    148\u001b[0m         \u001b[38;5;124mf\u001b[39m\u001b[38;5;124m\"\u001b[39m\u001b[38;5;130;01m\\n\u001b[39;00m\u001b[38;5;132;01m{\u001b[39;00mestimator_name\u001b[38;5;132;01m}\u001b[39;00m\u001b[38;5;124m does not accept missing values\u001b[39m\u001b[38;5;124m\"\u001b[39m\n\u001b[1;32m    149\u001b[0m         \u001b[38;5;124m\"\u001b[39m\u001b[38;5;124m encoded as NaN natively. For supervised learning, you might want\u001b[39m\u001b[38;5;124m\"\u001b[39m\n\u001b[0;32m   (...)\u001b[0m\n\u001b[1;32m    159\u001b[0m         \u001b[38;5;124m\"\u001b[39m\u001b[38;5;124m#estimators-that-handle-nan-values\u001b[39m\u001b[38;5;124m\"\u001b[39m\n\u001b[1;32m    160\u001b[0m     )\n\u001b[0;32m--> 161\u001b[0m \u001b[38;5;28;01mraise\u001b[39;00m \u001b[38;5;167;01mValueError\u001b[39;00m(msg_err)\n",
      "\u001b[0;31mValueError\u001b[0m: Input X contains NaN.\nPolynomialFeatures does not accept missing values encoded as NaN natively. For supervised learning, you might want to consider sklearn.ensemble.HistGradientBoostingClassifier and Regressor which accept missing values encoded as NaNs natively. Alternatively, it is possible to preprocess the data, for instance by using an imputer transformer in a pipeline or drop samples with missing values. See https://scikit-learn.org/stable/modules/impute.html You can find a list of all estimators that handle NaN values at the following page: https://scikit-learn.org/stable/modules/impute.html#estimators-that-handle-nan-values"
     ]
    }
   ],
   "source": [
    "import pandas as pd\n",
    "import numpy as np\n",
    "from sklearn.preprocessing import StandardScaler, PolynomialFeatures\n",
    "\n",
    "# Assuming df is your original DataFrame\n",
    "# Step 1: Create a copy of df\n",
    "dff = df.copy()\n",
    "\n",
    "# Step 2: Standardize selected features\n",
    "scaler = StandardScaler()\n",
    "features_to_scale = ['Open', 'High', 'Low', 'Close', 'Volume', 'Volatility']\n",
    "scaled_features = scaler.fit_transform(dff[features_to_scale])\n",
    "\n",
    "# Create a new DataFrame for scaled features\n",
    "scaled_df = pd.DataFrame(scaled_features, columns=features_to_scale)\n",
    "\n",
    "# Step 3: Create lagged features for 'Close'\n",
    "# Adding lagged features to the copied DataFrame (dff)\n",
    "dff['Close_Lag1'] = dff['Close'].shift(1)  # Lag-1\n",
    "dff['Close_Lag2'] = dff['Close'].shift(2)  # Lag-2\n",
    "\n",
    "# Save to a new variable\n",
    "lagged_df = dff.copy()\n",
    "\n",
    "# Step 4: Create polynomial features for 'Volatility' (2nd degree polynomial)\n",
    "poly = PolynomialFeatures(degree=2, include_bias=False)\n",
    "volatility_poly = poly.fit_transform(dff[['Volatility']])\n",
    "volatility_poly_df = pd.DataFrame(volatility_poly, columns=['Volatility', 'Volatility^2'])\n",
    "\n",
    "# Combine the polynomial features with the new DataFrame\n",
    "polynomial_df = dff.join(volatility_poly_df)\n",
    "\n",
    "# Step 5: Apply log transformation to 'Volume'\n",
    "dff['Volume_Log'] = np.log1p(dff['Volume'])  # log1p handles zero values safely\n",
    "\n",
    "# Save the transformed DataFrame after log transformation\n",
    "log_transformed_df = dff.copy()\n",
    "\n",
    "# Print transformed DataFrames for verification\n",
    "print(\"Scaled Features DataFrame (scaled_df):\")\n",
    "print(scaled_df)\n",
    "\n",
    "print(\"\\nLagged Features DataFrame (lagged_df):\")\n",
    "print(lagged_df)\n",
    "\n",
    "print(\"\\nPolynomial Features DataFrame (polynomial_df):\")\n",
    "print(polynomial_df)\n",
    "\n",
    "print(\"\\nLog Transformed DataFrame (log_transformed_df):\")\n",
    "print(log_transformed_df)"
   ]
  },
  {
   "cell_type": "code",
   "execution_count": null,
   "id": "015be1b2-2585-485c-b57d-39f391437098",
   "metadata": {},
   "outputs": [],
   "source": []
  },
  {
   "cell_type": "code",
   "execution_count": null,
   "id": "2b80bc06-cb54-48a8-bc84-38a7a8eb3dde",
   "metadata": {},
   "outputs": [],
   "source": []
  },
  {
   "cell_type": "code",
   "execution_count": null,
   "id": "b0ee41a6-a153-4797-840b-633ab07b68da",
   "metadata": {},
   "outputs": [],
   "source": []
  },
  {
   "cell_type": "code",
   "execution_count": null,
   "id": "71b1fb94-3023-406f-a34f-d71c06a5609d",
   "metadata": {},
   "outputs": [],
   "source": []
  }
 ],
 "metadata": {
  "kernelspec": {
   "display_name": "Python 3 (ipykernel)",
   "language": "python",
   "name": "python3"
  },
  "language_info": {
   "codemirror_mode": {
    "name": "ipython",
    "version": 3
   },
   "file_extension": ".py",
   "mimetype": "text/x-python",
   "name": "python",
   "nbconvert_exporter": "python",
   "pygments_lexer": "ipython3",
   "version": "3.11.7"
  }
 },
 "nbformat": 4,
 "nbformat_minor": 5
}
